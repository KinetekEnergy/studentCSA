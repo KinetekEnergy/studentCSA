{
 "cells": [
  {
   "cell_type": "markdown",
   "metadata": {},
   "source": [
    "---\n",
    "layout: post\n",
    "title: Hacks Tools & Equipment Play\n",
    "comments: true\n",
    "---"
   ]
  },
  {
   "cell_type": "markdown",
   "metadata": {},
   "source": [
    "## GitHub Pages Hacks\n",
    "Enhance or update your GitHub Pages using your new knowledge from Previous Hacks.\n",
    "\n",
    "- [x] Alter index.md with images and links according to some of your personal interests projet.\n",
    "- [x] Make your index.md contain a submenu that points to several Notebooks.\n",
    "- [ ] Make one of the Notebooks a planning document on what you attempted to do versus accomplishment.\n",
    "- [ ] Make one of the Notebooks running a JavaScript cell\n",
    "- [x] Make one of the Notebooks and About Pages"
   ]
  },
  {
   "cell_type": "markdown",
   "metadata": {},
   "source": [
    "## Theme Hacks\n",
    "- [x] Setup your blog so you can rotate between two different themes, one in _config.yml and one in _sass/minima: **Go to config and uncomment `remote_theme: pages-themes/midnight@v0.2.0`**\n",
    "- [x] Be prepared for live demonstration and show you have equivalent functionality.\n",
    "- [x] Be sure you have something in your blog that uses SASS."
   ]
  },
  {
   "cell_type": "markdown",
   "metadata": {},
   "source": [
    "## Jekyll and Liquid Hack\n",
    "- [x] **Alter the appearance of the blogs**.  Modify the layout, style, or content of your blog posts to reflect your personal taste.\n",
    "\n",
    "The blog is much more cleaner than before with subtle rainbow effects when hovering over key items. The home page has been revamped to have the blogs front and center. The search UI has been updated as well as many quality of life changed. Fonts have been updates and so have their weights."
   ]
  },
  {
   "cell_type": "markdown",
   "metadata": {},
   "source": [
    "## Utterances Hacks\n",
    "[x] Setup your blogs for direct feedback.  \n",
    "- Get two other people to mutually share work.\n",
    "- Each should evaluate how many thing were accomplished versus asked."
   ]
  }
 ],
 "metadata": {
  "language_info": {
   "name": "python"
  }
 },
 "nbformat": 4,
 "nbformat_minor": 2
}
