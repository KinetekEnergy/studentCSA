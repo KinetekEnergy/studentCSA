{
 "cells": [
  {
   "cell_type": "markdown",
   "metadata": {},
   "source": [
    "---\n",
    "layout: post\n",
    "title: Sprint Check\n",
    "comments: true\n",
    "---"
   ]
  },
  {
   "cell_type": "markdown",
   "metadata": {},
   "source": [
    "[About]({{site.baseurl}}/about)"
   ]
  },
  {
   "cell_type": "markdown",
   "metadata": {},
   "source": [
    "## Part 1\n",
    "- [x] Laptop Verification or Cloud Workspace: [verification by Linux commands notebook]({{site.baseurl}}/2024/08/23/Tools-Hacks.html)\n",
    "- [x] VSCode: live change code, commit, make, run localhost, test, debug\n",
    "  - Alter the readme\n",
    "  - Commit it\n",
    "  - Run `make`\n",
    "  - Show local host\n",
    "  - Show the change\n",
    "- [x] Show VSCode GitLens: verify commits, show change, comments, reset to commit, run on old commit\n",
    "  - Reset: git reset --hard COMMIT ID\n",
    "    - Just undo the readme change\n",
    "- [x] GitHub student_2025 repo: template create, push changes, verify id, review analytics\n",
    "  - Show the repo template you have\n",
    "- [x] GitHub Pages Actions: review runs and verify runtime, receive demo\n",
    "  - Open failed runs (red x)\n",
    "  - Show the current one (green checkmark)\n",
    "  - Show the actions for that one"
   ]
  },
  {
   "cell_type": "markdown",
   "metadata": {},
   "source": [
    "## Part 2\n",
    "\n",
    "- [x] We will register all users in Student database (Kasm users have already done this)\n",
    "- [x] You should make your own personal GitHub repo customized to your own name [https://github.com/nighthawkcoders/student_2025](https://github.com/nighthawkcoders/student_2025)\n",
    "    - [x] Two changes to match repo name are in _config.yml\n",
    "    - [x] One change to match repo name is in Makefile\n",
    "- [x] We will verify 1st code commits: for example modify home page, modify about page, make a new page capturing our memories from Tools Setup."
   ]
  },
  {
   "cell_type": "markdown",
   "metadata": {},
   "source": [
    "## Hacks\n",
    "- [x] [You should have verified tools]({{site.baseurl}}/2024/08/23/Tools-Hacks.html):  \n",
    "- [x] Tools Play using JavaScript: **analytics integration**, [Participation Tracker]({{site.baseurl}}/2024/08/29/Participation-Tracker.html);\n",
    "- [x] [Hacks Tools & Equipment Play]({{site.baseurl}}/2024/08/24/Emoji-Hack.html)\n",
    "- [x] [Hacks GitHub Pages Playground]({{site.baseurl}}/2024/08/24/Pages-Hacks.html)\n",
    "- [x] [Hacks SASS Basics]({{site.baseurl}}/2024/08/24/SASS-Play.html)\n",
    "- [x] [Hacks Frontend]({{site.baseurl}}/2024/08/24/Frontend-Wireframe.html)\n",
    "- [x] [Remember Forever]({{site.baseurl}}/2024/08/27/Remember-Forever.html)"
   ]
  }
 ],
 "metadata": {
  "language_info": {
   "name": "python"
  }
 },
 "nbformat": 4,
 "nbformat_minor": 2
}
