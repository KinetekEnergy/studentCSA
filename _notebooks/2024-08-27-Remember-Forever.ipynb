{
 "cells": [
  {
   "cell_type": "markdown",
   "metadata": {},
   "source": [
    "---\n",
    "layout: post\n",
    "title: Remember Forever\n",
    "comments: true\n",
    "---"
   ]
  },
  {
   "cell_type": "markdown",
   "metadata": {},
   "source": [
    "## Before and after\n",
    "![Screenshot from 2024-08-27 12-38-09](https://github.com/user-attachments/assets/1644a766-fdc6-40a1-8296-fa20ece5da73)\n",
    "\n",
    "## Portfolio running\n",
    "### Make folder, clone\n",
    "![Screenshot from 2024-08-27 12-42-38](https://github.com/user-attachments/assets/31df4476-83fc-4318-8494-39820fe80207)\n",
    "\n",
    "### Scripts\n",
    "![Screenshot from 2024-08-27 15-14-54](https://github.com/user-attachments/assets/2788174e-8885-4291-913c-b6d721af7716)\n",
    "\n",
    "### Activation\n",
    "![Screenshot from 2024-08-27 15-16-12](https://github.com/user-attachments/assets/4bf18f01-9152-47eb-9d3e-2aaecc1fea35)\n",
    "\n",
    "### Version check\n",
    "![Screenshot from 2024-08-27 15-18-00](https://github.com/user-attachments/assets/f2aabf01-eacd-4117-96ab-be062ae0672b)\n",
    "\n",
    "### Home page modification\n",
    "![Screenshot from 2024-08-27 15-21-32](https://github.com/user-attachments/assets/b3836c42-0ab7-4221-bfbd-0efacc2b453b)\n",
    "\n",
    "## Personal template running\n",
    "### Run server\n",
    "![Screenshot from 2024-08-27 15-27-57](https://github.com/user-attachments/assets/68e81199-0f23-44c7-bfc0-e172ceaae969)\n",
    "\n",
    "### Home page\n",
    "![Screenshot from 2024-08-27 15-27-47](https://github.com/user-attachments/assets/0b3dee9f-7a32-4bca-b011-208a6ef1412e)\n",
    "\n",
    "## Team Picture\n",
    "![IMG_5081](https://github.com/user-attachments/assets/947132f7-6653-45bf-a02e-f453dafba737)\n",
    "\n",
    "## What does `rm` do?\n",
    "`rm` is the remove command in Linux. It can be used to removed files, folder, or any other data via the terminal. When you use `rm`, you specify what you want to remove as well as some flags. To delete a file, you can do `rm file_name`. To delete a directory, you can do `rm -rf directory_name`. The `-r` means recursive and it recursively deletes the files in the folder. The `-f` is force and it forcefully deletes the files without confirmation. You don't need `-f`, but if you have a directory with 10000 files, you will need to confirm each file deletion 10000 times. Using `f` saves time.\n",
    "\n",
    "TLDR:\n",
    "`rm` = remove.\n",
    "`rm -rf` for directories.\n",
    "\n",
    "`rm file_name` for file.\n",
    "`rm -rf dir_name` for directories.\n"
   ]
  }
 ],
 "metadata": {
  "language_info": {
   "name": "python"
  }
 },
 "nbformat": 4,
 "nbformat_minor": 2
}
