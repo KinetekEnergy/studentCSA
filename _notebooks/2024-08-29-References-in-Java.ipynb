{
 "cells": [
  {
   "cell_type": "markdown",
   "metadata": {},
   "source": [
    "---\n",
    "layout: post\n",
    "title: Unit 1 - Reference Types in Java\n",
    "comments: true\n",
    "---"
   ]
  },
  {
   "cell_type": "markdown",
   "metadata": {},
   "source": [
    "## Refrence Types\n",
    "\n",
    "Reference types in Java include classes, arrays, and interfaces. Unlike primitive types, reference types store addresses (references) to objects rather than the objects themselves.\n",
    "\n",
    "### Classes\n",
    "- Create complex data structures by grouping variables and methods.\n",
    "\n",
    "Example:\n",
    "```java\n",
    "class Person {\n",
    "    String name;\n",
    "    int age;\n",
    "}\n",
    "Person person = new Person(); // `person` reference in stack, `Person` object in heap\n",
    "```\n",
    "### Arrays\n",
    "- Collections of variables of the same type.\n",
    "\n",
    "Example:\n",
    "```java\n",
    "int[] numbers = new int[5]; // `numbers` reference in stack, array in heap\n",
    "```\n",
    "\n",
    "### Popcorn Hack"
   ]
  },
  {
   "cell_type": "code",
   "execution_count": 1,
   "metadata": {},
   "outputs": [
    {
     "name": "stdout",
     "output_type": "stream",
     "text": [
      "Hello, World!\n",
      "[1, 2, 3, 4, 5]\n"
     ]
    }
   ],
   "source": [
    "public class Main {\n",
    "    public static void main(String[] args) {\n",
    "        // Create a reference type variable of type String\n",
    "        String myString = \"Hello, World!\";\n",
    "        \n",
    "        // Create a reference type variable of type Array\n",
    "        int[] myArray = new int[] {1, 2, 3, 4, 5};\n",
    "\n",
    "        // Print the values\n",
    "        System.out.println(myString);\n",
    "        System.out.println(Arrays.toString(myArray));\n",
    "    }\n",
    "}\n",
    "\n",
    "Main.main(null);"
   ]
  }
 ],
 "metadata": {
  "kernelspec": {
   "display_name": "Java",
   "language": "java",
   "name": "java"
  },
  "language_info": {
   "codemirror_mode": "java",
   "file_extension": ".jshell",
   "mimetype": "text/x-java-source",
   "name": "java",
   "pygments_lexer": "java",
   "version": "17.0.11-internal+0-adhoc..src"
  }
 },
 "nbformat": 4,
 "nbformat_minor": 2
}
