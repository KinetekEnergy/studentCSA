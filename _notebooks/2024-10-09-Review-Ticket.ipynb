{
 "cells": [
  {
   "cell_type": "markdown",
   "metadata": {},
   "source": [
    "---\n",
    "layout: post\n",
    "title: Review Ticket\n",
    "comments: true\n",
    "---"
   ]
  },
  {
   "cell_type": "markdown",
   "metadata": {},
   "source": [
    "| **Assignment**             | **Points**    | **Grade** | **Evidence** |\n",
    "|----------------------------|---------------|-----------|--------------|\n",
    "| Pull Request (Integration) | 2             |  1.75         | ![image](https://github.com/user-attachments/assets/aa3c9a3c-b8b3-4417-b047-a260c436efa2) ![image](https://github.com/user-attachments/assets/8ce29ffa-1418-4629-b5f1-06ab2435c610)            |\n",
    "| Relevancy Checklist (Peer) | 2             |           |    Still in progress          |\n",
    "| Lesson (Group)             | 1             | 0.92         | ![image](https://github.com/user-attachments/assets/3c4824af-11d4-48b7-a4fc-8358e0a12958)             |\n",
    "| Homework, Popcorn Hacks    | 1 x 8         |  3.695 (some HW may not be graded yet)         |   ![image](https://github.com/user-attachments/assets/0e7e983c-b075-414f-867c-651e6aca1296) ![image](https://github.com/user-attachments/assets/7e125198-895a-4592-97e5-ae1b06793c25) ![image](https://github.com/user-attachments/assets/afa01f0b-9a4a-4351-8c8e-b91288548bc8) ![image](https://github.com/user-attachments/assets/6447fb8d-06f5-498d-ab9d-be5b833e60b3)           |\n",
    "| Individual Contribution    | 1             |  0.93         |![image](https://github.com/user-attachments/assets/d7953d2f-4349-4251-8c3e-de6a6ea05965) ![image](https://github.com/user-attachments/assets/ff8b3cbc-66b7-47f7-bad3-bb9ac672dbdf) ![image](https://github.com/user-attachments/assets/21ab387d-bf43-4f48-ad72-e841dcbcacc0) ![image](https://github.com/user-attachments/assets/61b2bb62-bd56-492d-b3ef-ccf9a428ebbc) [Mutator](https://github.com/Morts-Minions/gru-p-project/commit/3589d0492f8d10ce4e9c39c1451d0cef57e22b79?w=1), [Constructor](https://github.com/Morts-Minions/gru-p-project/commit/52de6bdc539cec51f0c7948f830d513a3decc71f#diff-272e960c5a72aeeb61c187a77c0c5fd41757c5abedae00b6ae1245ad4aaf3b96R3), [Constructor popcorn hacks](https://github.com/Morts-Minions/gru-p-project/commit/b69754e0121b5f8122ed56032d1d7ddb7729717b), [Mutator popcorn hacks](https://github.com/Morts-Minions/gru-p-project/commit/d749e79f78f4f4efe335fbb9b68618140982e365)              |\n",
    "| Personal Notebooks / Blogs | 1             |     0.93      |  ![image](https://github.com/user-attachments/assets/b922f990-b86b-4744-a972-a941fecd26f5)      [Unit 5 Home](https://kinetekenergy.github.io/studentCSA/2024/09/22/unit_5-home.html). [Team Teaches Overview Blog](https://kinetekenergy.github.io/studentCSA/2024/10/09/Overview.html) I wrote an overview notebook with a summary notes page for each lesson taught. I think it will be useful to reference in the future! It will be of great help for me and for when we make our N@TM projects!|\n",
    "| Total                      | 12            |   8.235 (Some items have not been graded yet)        |   I think there is still room to improve. First off, I think we could have easily gotten a better score in the integration if we had ensured everything worked fine. We had issues on the naming conventions and didn't have a navbar, which Mortensen had mentioned us to add. I think the solution would have been talking and consulting with Mr. Mortensen more to clarify any doubts. I think other aspects like my individual contributions are quite solid. However, I do agree that we should have put less hacks in our lesson. I think we should have consolidated the hacks since a lot of them were just stepping stones. We could've combined a lot of hacks.          |\n",
    "\n",
    "\n",
    "| **Skill**                  | **Points**    | **Grade** | **Evidence** |\n",
    "|----------------------------|---------------|-----------|--------------|\n",
    "| Work Habits (Analytics)    |   1           |   0.91       |![image](https://github.com/user-attachments/assets/fa3106b2-cec8-4a13-b463-315dd413875f)              |\n",
    "| Team Planning (Issue)      |   1           |  0.92         | https://github.com/KinetekEnergy/studentCSA/issues/8            |\n",
    "| Presentation Memories      |   1           | 0.9          |   ![image](https://github.com/user-attachments/assets/599b3471-f825-409c-9fdd-a7b3caf854b2) ![image](https://github.com/user-attachments/assets/0ccad20b-a2e3-4105-a8a0-a235b641aa26) For the team memories, I chose to add some funny memories we made. I think some people may add stuff like their lessons or plans. Personally, I don't think this counts as a memory. Memories should be fun! They should be times where you were enjoying yourself with your team! For these reasons, I chose to add a couple screenshots of our Slack DMs since I found them funny. I think they were a good memory for me!                   |\n",
    "| Grading and Feedback       |   1           |  0.92         | [Grading](https://docs.google.com/spreadsheets/d/1U10BMArtUBhoeb8jJivuY9H1p5I47xm4WPgaXtluF6Y/edit?usp=sharing)             |\n",
    "| Beyond Perfunctory         |   1           |   0.95        |  ![image](https://github.com/user-attachments/assets/dfa1f1c6-6cde-4f70-a350-d89f7ba7f919) ![image](https://github.com/user-attachments/assets/1bf6d299-710c-41ab-bda0-59cbb6c5ac7b) I tried to make my presentation interesting by adding humor. I think that often times, most of the team teaches have very dry language. They are so formal, and they don't feel fun. I tried to switch things up by adding a bit of slang and making it less formal while still keeping the important information students need to learn. Our group also used the banana as a pointer, and we made it a reward for the person who answers the most questions. I think that students payed more attention due to this since it was interesting and unique. I tried to also keep everything Minions themed so the presentation would be more engaging to students. I think our presentation was one of the most unique and had a great theme. No other group did what we did, and no other group made a poster (we made a minion poster for the room).        | \n",
    "| Total                      |   5           |  4.6         |    |"
   ]
  },
  {
   "cell_type": "markdown",
   "metadata": {},
   "source": [
    "| **Assignment**          | **Weightage** | **Grade** | **Comments** |\n",
    "|-------------------------|---------------|-----------|--------------|\n",
    "| College Board Coverage  | 20            | Other team has not commented on mine.| Other team has not commented on mine.|\n",
    "| Java Examples           | 30            | Other team has not commented on mine.| Other team has not commented on mine.|\n",
    "| Popcorn Hack Usage      | 10            | Other team has not commented on mine.| Other team has not commented on mine.|\n",
    "| Homework                | 10            | Other team has not commented on mine.| Other team has not commented on mine.|\n",
    "| Grading Plan            | 10            | Other team has not commented on mine.| Other team has not commented on mine.|\n",
    "| Original an Creative    | 10            | Other team has not commented on mine.| Other team has not commented on mine.|\n",
    "| Total                  | **90**        |           |              |"
   ]
  }
 ],
 "metadata": {
  "kernelspec": {
   "display_name": "Java",
   "language": "java",
   "name": "java"
  },
  "language_info": {
   "codemirror_mode": "java",
   "file_extension": ".jshell",
   "mimetype": "text/x-java-source",
   "name": "Java",
   "pygments_lexer": "java",
   "version": "17.0.11-internal+0-adhoc..src"
  }
 },
 "nbformat": 4,
 "nbformat_minor": 2
}
