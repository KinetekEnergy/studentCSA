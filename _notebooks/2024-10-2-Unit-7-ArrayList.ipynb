{
 "cells": [
  {
   "cell_type": "markdown",
   "metadata": {},
   "source": [
    "---\n",
    "layout: post\n",
    "title: Unit 7 -  ArrayList\n",
    "comments: true\n",
    "---"
   ]
  },
  {
   "cell_type": "markdown",
   "metadata": {},
   "source": [
    "# Unit 7.1"
   ]
  },
  {
   "cell_type": "markdown",
   "metadata": {},
   "source": [
    "## Popcorn Hack 1"
   ]
  },
  {
   "cell_type": "code",
   "execution_count": null,
   "metadata": {},
   "outputs": [],
   "source": [
    "import java.util.ArrayList;\n",
    "\n",
    "ArrayList<String> awesomeword = new ArrayList(); \n",
    "ArrayList<Int> coolnumbers = new ArrayList();\n",
    "ArrayList<Boolean> truefalse = new ArrayList();"
   ]
  },
  {
   "cell_type": "markdown",
   "metadata": {},
   "source": [
    "When using ArrayLists, you need to specify the type in the <>. For the `coolnumbers`, there is `Int` which isn't a valid type. You need to write `Integer` instead. For all of the above, you need to write `new ArrayList()<variable type>();`, not just `new ArrayList();`."
   ]
  },
  {
   "cell_type": "code",
   "execution_count": null,
   "metadata": {},
   "outputs": [],
   "source": [
    "import java.util.ArrayList;\n",
    "\n",
    "// fixed code\n",
    "ArrayList<String> awesomeword = new ArrayList<String>(); \n",
    "ArrayList<Integer> coolnumbers = new ArrayList<Integer>(); \n",
    "ArrayList<Boolean> truefalse = new ArrayList<Boolean>();"
   ]
  },
  {
   "cell_type": "markdown",
   "metadata": {},
   "source": [
    "## Popcorn Hack 2\n",
    "\n",
    "Create 2 ArrayLists, one with an integer type called “sritestgrades” and other string type called “srihobbies"
   ]
  },
  {
   "cell_type": "code",
   "execution_count": null,
   "metadata": {},
   "outputs": [],
   "source": [
    "import java.util.ArrayList;\n",
    "\n",
    "ArrayList<?> sritestgrades = new ArrayList<>(); // change the question marks\n",
    "ArrayList<?> srishobbies = new ArrayList<>(); \n",
    "\n",
    "sritestgrades.add(45);\n",
    "sritestgrades.add(32);\n",
    "sritestgrades.add(1);\n",
    "sritestgrades.add(90);\n",
    "sritestgrades.add(74);\n",
    "\n",
    "srishobbies.add(\"watching netflix\");\n",
    "srishobbies.add(\"sleeping\");\n",
    "srishobbies.add(\"coding\");\n",
    "srishobbies.add(\"annoying saathvik\");\n",
    "\n",
    "// Printing the values\n",
    "System.out.println(\"Sri's Test Grades are: \" + sritestgrades);\n",
    "System.out.println(\"Sri's Hobbies are: \" + srishobbies);\n",
    "\n",
    "// intended output:\n",
    "// Sri's Test Grades are: [45, 32, 1, 90, 74]\n",
    "// Sri's Hobbies are: [watching netflix, sleeping, coding, annoying saathvik]"
   ]
  },
  {
   "cell_type": "code",
   "execution_count": 1,
   "metadata": {},
   "outputs": [
    {
     "name": "stdout",
     "output_type": "stream",
     "text": [
      "Sri's Test Grades are: [45, 32, 1, 90, 74]\n",
      "Sri's Hobbies are: [watching netflix, sleeping, coding, annoying saathvik]\n"
     ]
    }
   ],
   "source": [
    "import java.util.ArrayList;\n",
    "\n",
    "ArrayList<Integer> sritestgrades = new ArrayList<>(); // using Integer for test grades\n",
    "ArrayList<String> srishobbies = new ArrayList<>();    // using String for hobbies\n",
    "\n",
    "// add the grades\n",
    "sritestgrades.add(45);\n",
    "sritestgrades.add(32);\n",
    "sritestgrades.add(1);\n",
    "sritestgrades.add(90);\n",
    "sritestgrades.add(74);\n",
    "\n",
    "// adding hobbies\n",
    "srishobbies.add(\"watching netflix\");\n",
    "srishobbies.add(\"sleeping\");\n",
    "srishobbies.add(\"coding\");\n",
    "srishobbies.add(\"annoying saathvik\");\n",
    "\n",
    "// outputting the values\n",
    "System.out.println(\"Sri's Test Grades are: \" + sritestgrades);\n",
    "System.out.println(\"Sri's Hobbies are: \" + srishobbies);"
   ]
  },
  {
   "cell_type": "markdown",
   "metadata": {},
   "source": [
    "# Unit 7.2"
   ]
  },
  {
   "cell_type": "markdown",
   "metadata": {},
   "source": [
    "## Popcorn Hack 1\n",
    "\n",
    "The learning objective is that “Students will be able to represent collections of related object reference data using ArrayList objects.” What does this mean to you?\n",
    "\n",
    "The learning objective, \"Students will be able to represent collections of related object reference data using `ArrayList` objects,\" emphasizes teaching how to manage groups of related objects effectively through the use of `ArrayList`. Here's what this means:\n",
    "\n",
    "1. **Understanding Object Reference Data:**\n",
    "   - Each element in an `ArrayList` refers to an object or a reference type (like `Integer`, `String`, or custom objects). It’s about storing references to objects rather than the objects themselves.\n",
    "   - For example, an `ArrayList<String>` stores references to `String` objects, not the actual `String` values themselves.\n",
    "\n",
    "2. **Collections of Related Data:**\n",
    "   - We will learn to use `ArrayList` to represent a group of related data. Ex: making an `ArrayList<Student>` where each element refers to a `Student` object.\n",
    "   - This objective highlights organizing and managing collections of related data efficiently using the flexible features of an `ArrayList`.\n",
    "\n",
    "3. **Key Features of `ArrayList`:**\n",
    "   - Dynamic sizing: Unlike arrays, `ArrayList` can grow and shrink as needed.\n",
    "   - Methods like `add()`, `remove()`, `set()`, and `get()` allow manipulation of the list.\n",
    "   - Learn how to apply these methods to manage collections of data in real-world applications.\n",
    "\n",
    "4. **Practical Application:**\n",
    "   - Use `ArrayList` to represent data structures such as lists of names, grades, or even more complex entities like books in a library or items in a shopping cart.\n",
    "   - This teaches how to store, retrieve, and modify collections of data using object-oriented programming concepts.\n",
    "\n",
    "In summary, the goal is to we are comfortable using `ArrayList` to represent and manipulate collections of objects, preparing us for scenarios where managing dynamic lists of data is essential."
   ]
  },
  {
   "cell_type": "markdown",
   "metadata": {},
   "source": [
    "## Popcorn Hack 2\n",
    "\n",
    "Look back at Size of the ArrayList. What does the code output and why?\n",
    "\n",
    "`size()` returns the number of elements in the array list. Since no elements were added, the size is 0."
   ]
  },
  {
   "cell_type": "markdown",
   "metadata": {},
   "source": [
    "## Popcorn Hack 3\n",
    "\n",
    "Look back at Adding items to an ArrayList. What does the code output and why? What type of function is void, and what will be the return value?\n",
    "\n",
    "add() adds a specific element at a specific index. This will move the previous item to the right. So when adding the new element, 2.0 and 3.0 are shifted and 4.0 is inserted to get `[1.0, 4.0, 2.0, 3.0]`.\n",
    "\n",
    "A function defined as void returns no value. It can perform an action, but it returns nothing. For add(), it performs the action of inserting the value but it won't return anything."
   ]
  },
  {
   "cell_type": "markdown",
   "metadata": {},
   "source": [
    "## Popcorn Hack 4\n",
    "\n",
    "Look back at Example 1. What two lines did we remove? Why?"
   ]
  },
  {
   "cell_type": "markdown",
   "metadata": {},
   "source": [
    "`ArrayList<String>` only holds strings, so the lines `h.add(26.2);` and `h.add(false);` won't work since they are double and booleans, respectively. If I left the lines in, I get a type mismatch error. You need to remove those lines to get no errors."
   ]
  },
  {
   "cell_type": "markdown",
   "metadata": {},
   "source": [
    "## Popcorn Hack 5\n",
    "\n",
    "If an ArrayList is being used as a parameter, what are the only two methods I can use from it? What would happen if I tried to use any other methods?\n",
    "\n",
    "You can only use `get(int index)` (retrieve element at a specified index) and `size()` (returns number of elements in ArrayList). If I use add(), remove(), clear(), etc, I will modify it. If arraylist is passed as a parameter and is immutable/read-only, I can't modify it. If there's no restructions, I can use those other methods."
   ]
  },
  {
   "cell_type": "markdown",
   "metadata": {},
   "source": [
    "## Popcorn Hack 6\n",
    "\n",
    "Using the Hack Helper, write code that will:\n",
    "- Add 2 items to the list.\n",
    "- Remove an item from the list anywhere of the user’s choice.\n",
    "- Replace am item anywhere in the list of the user’s choice.\n",
    "- Get the first and last element of the list, no matter the length.\n",
    "- Return the items added, removed, replaced, and the list’s size, in one string."
   ]
  },
  {
   "cell_type": "code",
   "execution_count": 2,
   "metadata": {},
   "outputs": [],
   "source": [
    "import java.util.ArrayList;\n",
    "\n",
    "public class ArrayListMethodsExample {\n",
    "    // method to manipulate the list\n",
    "    private String manipulateList(int toAdd1, int toAdd2, int toRemoveIndex, int toReplaceIndex, int newValue) {\n",
    "        ArrayList<Integer> arr = new ArrayList<>();\n",
    "        \n",
    "        // add two items to the list\n",
    "        arr.add(toAdd1);\n",
    "        arr.add(toAdd2);\n",
    "\n",
    "        // remove an item at the index of the user’s choice\n",
    "        int removedItem = arr.remove(toRemoveIndex);\n",
    "\n",
    "        // replace an item at the index of the user’s choice\n",
    "        int replacedItem = arr.set(toReplaceIndex, newValue);  // returns the replaced item\n",
    "\n",
    "        // get the first and last element of the list\n",
    "        int firstElement = arr.get(0);\n",
    "        int lastElement = arr.get(arr.size() - 1);\n",
    "\n",
    "        // return details as a string\n",
    "        return \"Items added: \" + toAdd1 + \", \" + toAdd2 + \n",
    "               \"\\nItem removed: \" + removedItem + \n",
    "               \"\\nItem replaced: \" + replacedItem + \" with \" + newValue + \n",
    "               \"\\nFirst item: \" + firstElement + \n",
    "               \"\\nLast item: \" + lastElement + \n",
    "               \"\\nList size: \" + arr.size();\n",
    "    }\n",
    "\n",
    "    public static void main(String[] args) {\n",
    "        ArrayListMethodsExample example = new ArrayListMethodsExample();\n",
    "        \n",
    "        // example use case: adding, removing, and replacing based on user input\n",
    "        String output = example.manipulateList(5, 10, 0, 0, 20);\n",
    "        \n",
    "        // print the output\n",
    "        System.out.println(output);\n",
    "    }\n",
    "}\n"
   ]
  },
  {
   "cell_type": "markdown",
   "metadata": {},
   "source": [
    "# Unit 7.3"
   ]
  },
  {
   "cell_type": "markdown",
   "metadata": {},
   "source": [
    "## Popcorn Hack 1"
   ]
  },
  {
   "cell_type": "code",
   "execution_count": null,
   "metadata": {},
   "outputs": [],
   "source": [
    "import java.util.ArrayList;\n",
    "\n",
    "public class SumArrayList {\n",
    "    public static void main(String[] args) {\n",
    "        ArrayList<Integer> myList = new ArrayList<Integer>();\n",
    "        myList.add(50);\n",
    "        myList.add(30);\n",
    "        myList.add(20);\n",
    "        \n",
    "        // variable to store the sum\n",
    "        int sum = 0;\n",
    "        \n",
    "        // loop through the list and calculate the sum\n",
    "        for (Integer value : myList) {\n",
    "            sum += value;  // Add each value to sum\n",
    "        }\n",
    "        \n",
    "        // print out the sum of all elements\n",
    "        System.out.println(\"Sum of elements: \" + sum);\n",
    "    }\n",
    "}\n"
   ]
  },
  {
   "cell_type": "markdown",
   "metadata": {},
   "source": [
    "## Popcorn Hack 2"
   ]
  },
  {
   "cell_type": "code",
   "execution_count": null,
   "metadata": {},
   "outputs": [],
   "source": [
    "import java.util.ArrayList;\n",
    "\n",
    "public class Main {\n",
    "    public static void main(String[] args) {\n",
    "        // use Double for the grades ArrayList, as it contains decimal values\n",
    "        ArrayList<Double> grades = new ArrayList<>();\n",
    "        grades.add(68.9);\n",
    "        grades.add(71.0); // using 71.0 to keep all values as Double\n",
    "        grades.add(100.0);\n",
    "        grades.add(80.0);\n",
    "\n",
    "        // iterate in reverse to avoid skipping elements when removing\n",
    "        for (int i = grades.size() - 1; i >= 0; i--) {\n",
    "            if (grades.get(i) < 70) {\n",
    "                // remove the grade if it's below 70\n",
    "                grades.remove(i);\n",
    "            }\n",
    "        }\n",
    "\n",
    "        // print the updated grades list\n",
    "        System.out.println(grades);\n",
    "    }\n",
    "}\n"
   ]
  },
  {
   "cell_type": "markdown",
   "metadata": {},
   "source": [
    "# Unit 7.4"
   ]
  },
  {
   "cell_type": "code",
   "execution_count": null,
   "metadata": {},
   "outputs": [],
   "source": [
    "public class ArrayListExample {\n",
    "    private double findMax(double[] values) {\n",
    "        double max = values[0];\n",
    "    \n",
    "        for (int index = 1; index < values.length; index++) {\n",
    "            if (values[index] > max) {\n",
    "                max = values[index];\n",
    "            }\n",
    "        }\n",
    "    \n",
    "        return max;\n",
    "    }\n",
    "    \n",
    "    public static void main(String[] args) {\n",
    "        double[] nums = {1.0, 3.0, 2.0, 2.0, 1.0, 5.0, 2.421, 4.0, 61.0, 2.0, 51.0, 120.0};\n",
    "        ArrayListExample example = new ArrayListExample();\n",
    "        double max = example.findMax(nums);\n",
    "        System.out.println(\"Maximum value: \" + max);\n",
    "    }\n",
    "}\n",
    "\n",
    "ArrayListExample.main(null);"
   ]
  },
  {
   "cell_type": "code",
   "execution_count": null,
   "metadata": {},
   "outputs": [],
   "source": [
    "public class ArrayListExample {\n",
    "    private double findMax(ArrayList<Double> values) {\n",
    "        double max = values.get(0);\n",
    "    \n",
    "        for (int index = 1; index < values.size(); index++) {\n",
    "            if (values.get(index) > max) {\n",
    "                max = values.get(index);\n",
    "            }\n",
    "        }\n",
    "    \n",
    "        return max;\n",
    "    }\n",
    "    \n",
    "    public static void main(String[] args) {\n",
    "        ArrayList<Double> nums = new ArrayList<>();\n",
    "        nums.add(41.0);\n",
    "        nums.add(384.0);\n",
    "        nums.add(2.0);\n",
    "        nums.add(25.0);\n",
    "        nums.add(11.0);\n",
    "        nums.add(120.0);\n",
    "        nums.add(21.0);\n",
    "        nums.add(4.03);\n",
    "        nums.add(6.0);\n",
    "        nums.add(2.230);\n",
    "        nums.add(25.01);\n",
    "        nums.add(10.420);\n",
    "        \n",
    "        ArrayListExample example = new ArrayListExample();\n",
    "        double max = example.findMax(nums);\n",
    "        System.out.println(\"Maximum value: \" + max);\n",
    "    }\n",
    "}\n",
    "\n",
    "ArrayListExample.main(null);"
   ]
  },
  {
   "cell_type": "markdown",
   "metadata": {},
   "source": [
    "1. What is the difference between the two examples above. Which one is better and why?\n",
    "   1. The first example uses a primitive array (`double[]`) to store values. Access to elements is via `values[index]` since arrays allow direct index access. It iterates through the array using its length property, values.length. The second example uses an `ArrayList<Double>`, which is a resizable data structure that belongs to Java's Collection Framework. Access to elements is done via `values.get(index)`. It iterates using the `size()` method to determine the number of elements. Array is better when: the size of the array is known and fixed in advance, as arrays are more memory-efficient. Also, access is faster due to direct indexing. ArrayList is better when: the list size may change dynamically (elements can be added/removed). There is more flexibility and built-in methods are required for convenience, though it is slightly less efficient due to method overhead. For which is better, it depends on the use case. If you're dealing with a fixed-size collection of numbers, the first example (array) is more efficient. If you need flexibility in resizing the collection, the second example (ArrayList) is better.\n",
    "2. Make your own algorithm using ArrayLists. Do not use the size and get methods, those are way too easy!\n"
   ]
  },
  {
   "cell_type": "code",
   "execution_count": null,
   "metadata": {},
   "outputs": [],
   "source": [
    "import java.util.ArrayList;\n",
    "import java.util.Iterator;\n",
    "import java.util.ListIterator;\n",
    "\n",
    "public class CustomArrayListReversal {\n",
    "\n",
    "    public void reverse(ArrayList<Double> values) {\n",
    "        // iterator to traverse the list\n",
    "        Iterator<Double> iterator = values.iterator();\n",
    "        \n",
    "        // copy elements to another ArrayList in reverse order\n",
    "        ArrayList<Double> reversedList = new ArrayList<>();\n",
    "        while (iterator.hasNext()) {\n",
    "            reversedList.add(0, iterator.next()); // insert at the beginning of the new list\n",
    "        }\n",
    "\n",
    "        // clear the original list and copy the reversed elements back\n",
    "        values.clear();\n",
    "        values.addAll(reversedList);\n",
    "    }\n",
    "\n",
    "    public static void main(String[] args) {\n",
    "        ArrayList<Double> nums = new ArrayList<>();\n",
    "        nums.add(41.0);\n",
    "        nums.add(384.0);\n",
    "        nums.add(2.0);\n",
    "        nums.add(25.0);\n",
    "        nums.add(11.0);\n",
    "        nums.add(120.0);\n",
    "        nums.add(21.0);\n",
    "        nums.add(4.03);\n",
    "        \n",
    "        CustomArrayListReversal example = new CustomArrayListReversal();\n",
    "        System.out.println(\"Original List: \" + nums);\n",
    "        example.reverse(nums);\n",
    "        System.out.println(\"Reversed List: \" + nums);\n",
    "    }\n",
    "}\n",
    "\n",
    "// This algorithm uses an Iterator to traverse the list without using size() or \n",
    "// get(), and reverses the list by inserting elements at the start of a new list. \n",
    "// This gives you a way to manipulate an ArrayList while avoiding the \"easy\" methods!"
   ]
  },
  {
   "cell_type": "markdown",
   "metadata": {},
   "source": [
    "# Unit 7.5"
   ]
  },
  {
   "cell_type": "markdown",
   "metadata": {},
   "source": [
    "## Popcorn Hack 1\n",
    "\n",
    "What does each hop or jump represent? What code(look above) is used to achieve this?\n",
    "\n",
    "Each hop represents a step. It goes through each variable and checks if it is the target. The code representing this is for for loop. It loops through the array and checks if we found the right one. If not, it continues. It does this for every element."
   ]
  },
  {
   "cell_type": "markdown",
   "metadata": {},
   "source": [
    "## HW\n",
    "\n",
    "Imagine you’re an online E-store that sells video games. Use linear searching to help Aidan find if the game, Grand Theft Auto V, is offered in the E-store. If it is, tell him the price. If it isn’t, tell him where he can find it\n"
   ]
  },
  {
   "cell_type": "code",
   "execution_count": 4,
   "metadata": {},
   "outputs": [
    {
     "name": "stdout",
     "output_type": "stream",
     "text": [
      "Yes, GTA V is offered in the E-store. The price is $29.99.\n"
     ]
    }
   ],
   "source": [
    "import java.util.ArrayList;\n",
    "\n",
    "public class SearchString {\n",
    "    public static void main(String[] args) {\n",
    "        ArrayList<String> videoGames = new ArrayList<>();\n",
    "        videoGames.add(\"Roblox\");\n",
    "        videoGames.add(\"Fortnite\");\n",
    "        videoGames.add(\"Valorant\");\n",
    "        videoGames.add(\"Apex Legends\");\n",
    "        videoGames.add(\"GTA V\");\n",
    "\n",
    "        // the game Aidan is searching for\n",
    "        String gameToSearch = \"GTA V\";\n",
    "        \n",
    "        // perform linear search\n",
    "        boolean found = false;\n",
    "        double price = 0.0;\n",
    "\n",
    "        // hardcoded price for GTA V\n",
    "        if (gameToSearch.equals(\"GTA V\")) {\n",
    "            price = 29.99; // set a price for GTA V\n",
    "        }\n",
    "\n",
    "        for (String game : videoGames) {\n",
    "            if (game.equalsIgnoreCase(gameToSearch)) {\n",
    "                found = true;\n",
    "                break;\n",
    "            }\n",
    "        }\n",
    "\n",
    "        // check the result of the search\n",
    "        if (found) {\n",
    "            System.out.println(\"Yes, \" + gameToSearch + \" is offered in the E-store. The price is $\" + price + \".\");\n",
    "        } else {\n",
    "            System.out.println(\"Sorry, \" + gameToSearch + \" is not available in the E-store. You can find it at a local game store or online retailers.\");\n",
    "        }\n",
    "    }\n",
    "}\n",
    "\n",
    "SearchString.main(null);\n"
   ]
  },
  {
   "cell_type": "markdown",
   "metadata": {},
   "source": [
    "# Unit 7.6\n",
    "\n",
    "You’re a teacher for a computer science class at Rancho Bernardo. You have a list of all the grades of the students in your class but its hard to see who has the highest and lowest grade. Use either insertion sort or selection sort to sort the ArrayList so the grades are easy to see.\n",
    "\n",
    "**I added both sorting methods so the user can choose.**"
   ]
  },
  {
   "cell_type": "code",
   "execution_count": 5,
   "metadata": {},
   "outputs": [
    {
     "name": "stdout",
     "output_type": "stream",
     "text": [
      "Grades sorted using Insertion Sort: [60, 67, 68, 73, 76, 77, 78, 82, 83, 84, 85, 88, 88, 89, 91, 91, 92, 94, 95, 97]\n",
      "Highest grade: 97\n",
      "Lowest grade: 60\n",
      "\n",
      "Grades sorted using Selection Sort: [60, 67, 68, 73, 76, 77, 78, 82, 83, 84, 85, 88, 88, 89, 91, 91, 92, 94, 95, 97]\n",
      "Highest grade: 97\n",
      "Lowest grade: 60\n"
     ]
    }
   ],
   "source": [
    "import java.util.ArrayList;\n",
    "\n",
    "public class Sorting {\n",
    "\n",
    "    // insertion Sort Algorithm\n",
    "    public static void insertionSort(ArrayList<Integer> elements) {\n",
    "        for (int i = 1; i < elements.size(); i++) {\n",
    "            int key = elements.get(i);\n",
    "            int j = i - 1;\n",
    "\n",
    "            // move elements of elements[0..i-1] that are greater than key\n",
    "            while (j >= 0 && elements.get(j) > key) {\n",
    "                elements.set(j + 1, elements.get(j));\n",
    "                j--;\n",
    "            }\n",
    "            elements.set(j + 1, key);\n",
    "        }\n",
    "    }\n",
    "\n",
    "    // selection Sort Algorithm\n",
    "    public static void selectionSort(ArrayList<Integer> elements) {\n",
    "        for (int i = 0; i < elements.size() - 1; i++) {\n",
    "            int minIndex = i;\n",
    "            for (int j = i + 1; j < elements.size(); j++) {\n",
    "                if (elements.get(j) < elements.get(minIndex)) {\n",
    "                    minIndex = j;\n",
    "                }\n",
    "            }\n",
    "            // swap the found minimum element with the first element\n",
    "            int temp = elements.get(minIndex);\n",
    "            elements.set(minIndex, elements.get(i));\n",
    "            elements.set(i, temp);\n",
    "        }\n",
    "    }\n",
    "\n",
    "    public static void main(String[] args) {\n",
    "        ArrayList<Integer> arr1 = new ArrayList<>();\n",
    "        arr1.add(85);\n",
    "        arr1.add(92);\n",
    "        arr1.add(76);\n",
    "        arr1.add(88);\n",
    "        arr1.add(67);\n",
    "        arr1.add(94);\n",
    "        arr1.add(73);\n",
    "        arr1.add(89);\n",
    "        arr1.add(91);\n",
    "        arr1.add(82);\n",
    "        arr1.add(78);\n",
    "        arr1.add(88);\n",
    "        arr1.add(95);\n",
    "        arr1.add(60);\n",
    "        arr1.add(84);\n",
    "        arr1.add(77);\n",
    "        arr1.add(91);\n",
    "        arr1.add(68);\n",
    "        arr1.add(97);\n",
    "        arr1.add(83);\n",
    "\n",
    "        // copy the original grades for sorting\n",
    "        ArrayList<Integer> insertionSortedGrades = new ArrayList<>(arr1);\n",
    "        ArrayList<Integer> selectionSortedGrades = new ArrayList<>(arr1);\n",
    "\n",
    "        // sort using Insertion Sort\n",
    "        insertionSort(insertionSortedGrades);\n",
    "        System.out.println(\"Grades sorted using Insertion Sort: \" + insertionSortedGrades);\n",
    "        System.out.println(\"Highest grade: \" + insertionSortedGrades.get(insertionSortedGrades.size() - 1));\n",
    "        System.out.println(\"Lowest grade: \" + insertionSortedGrades.get(0));\n",
    "\n",
    "        // sort using Selection Sort\n",
    "        selectionSort(selectionSortedGrades);\n",
    "        System.out.println(\"\\nGrades sorted using Selection Sort: \" + selectionSortedGrades);\n",
    "        System.out.println(\"Highest grade: \" + selectionSortedGrades.get(selectionSortedGrades.size() - 1));\n",
    "        System.out.println(\"Lowest grade: \" + selectionSortedGrades.get(0));\n",
    "    }\n",
    "}\n",
    "\n",
    "Sorting.main(null);"
   ]
  }
 ],
 "metadata": {
  "kernelspec": {
   "display_name": "Java",
   "language": "java",
   "name": "java"
  },
  "language_info": {
   "codemirror_mode": "java",
   "file_extension": ".jshell",
   "mimetype": "text/x-java-source",
   "name": "java",
   "pygments_lexer": "java",
   "version": "17.0.12+7-Ubuntu-1ubuntu222.04"
  }
 },
 "nbformat": 4,
 "nbformat_minor": 2
}
