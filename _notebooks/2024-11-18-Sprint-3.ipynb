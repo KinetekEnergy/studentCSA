{
 "cells": [
  {
   "cell_type": "markdown",
   "metadata": {},
   "source": [
    "---\n",
    "layout: post\n",
    "title: Sprint 3\n",
    "comments: true\n",
    "---"
   ]
  },
  {
   "cell_type": "markdown",
   "metadata": {},
   "source": [
    "| **Assignment**                | **Points**    | **Grade** | **Evidence** |\n",
    "|-------------------------------|---------------|-----------|--------------|\n",
    "| Sprint 1-3 Review Ticket      | 3             |           | [Sprint 1 Student Skill Check](https://github.com/KinetekEnergy/studentCSA/issues/4) & [Sprint 1 General Checklist and Hacks](https://kinetekenergy.github.io/studentCSA/2024/08/27/Checklist.html) & [Planning Part 1](https://kinetekenergy.github.io/studentCSA/2024/08/24/Planning.html), [Planning Part 2](https://github.com/KinetekEnergy/studentCSA/issues/7) & [Sprint 2 Review](https://github.com/KinetekEnergy/studentCSA/issues/9) & [Sprint 2 Team Teach Planning](https://github.com/KinetekEnergy/studentCSA/issues/8). I put some links to previous sprint review tickets for reference and so that you can see my past achievements and compare them with today to view my progress. This also serves as a useful tool for me of things I tried, things that failed, and things that worked.           |\n",
    "| Sprint 3 Team Issue(s)/Plan   | 2             |           |  [Tinkle Time Project Board](https://github.com/orgs/Morts-Minions/projects/2/views/1), [Team Planning Issue](https://github.com/tarasehdave/taracsa25/issues/8#issue-2586842551). These links are more important! I listed our GitHub project board which we used for our repository. This was super useful in keeping track of what features to add, what to work on, and to make sure we knew who was doing what. We chose to designate certain features to different people, and the board let us visualize that. It was also useful for ideation. During our ideation, we had all our group members randomly throw out different ideas. And during that, I would just sit and write them down. After wards, we chose which ideas to implement. However, being able to brain-dump and spew out every possible idea we had (even if it's terrible) is super useful. I also linked a GitHub issue we used to plan out features.            |\n",
    "| Beginning-2-End Contribution  | 2             |           |   [UI Testing](https://codepen.io/Aashray-Reddy/pen/poMPVZd), [Dark Mode Testing](https://codepen.io/Aashray-Reddy/pen/RwXgBBy). [Profile Page Overhaul](https://github.com/CSA-Coders-2025/CSA_Combined_Frontend_Fork/commit/8683edfc0e1eefa91ef2f0eaed27923cf1768dc9), [Corrective Iteration of Lillian's Code](https://github.com/CSA-Coders-2025/CSA_Combined_Frontend_Fork/commit/b147beea0d072071b33230b566e767ddad83e1b4#diff-5a38c8743c1cd149ca58884495a224424fe87b78e391a3ba34273a4025c47883). [Adding MyPlan to backend](https://github.com/CSA-Coders-2025/CSA_Combined_Backend_Fork/commit/3bd9a0787015c71433507286467bae446244d94d). All of these links are evidences of iteration and design testing. We chose to use a clean style with a bit of depth to add character. The UI tests helped us visualize what the site looked like. While backend is more important, we felt that getting a visual (even if it's basic) helps a lot to align our ideas and envision the final project. There are also links to my corrective coding such as helping out Lillian's code as well as my main feature which was adding MyPlan and account creation to the backend.           |\n",
    "| N@tM Team Presentation        | 2             |           |  ![image](https://github.com/user-attachments/assets/c1cf234f-8fca-430b-80f8-773a0f8f94fc) Here is a cool photo of our presentation! It was super fun, and a lof of people we met were actual software engineers, so it was interesting to hear their thoughts and ask what they use in real life scenarios.           |\n",
    "| Live Review Indi Demo         | 1             |           |  ![image](https://github.com/user-attachments/assets/dc9e23f6-1079-415b-a8fa-3d41ad95ccfd) ![image](https://github.com/user-attachments/assets/d410dac3-8e77-4193-8e46-211a8266b434) Here is a snipped of our Google Form. We made a form so that anyone who sees our presentation can leave feedback. We collected statistics on our audience demographic and one of the screenshots is from Rachit's feedback (alumni).            |\n",
    "| **Total**                     | 10            |           |              |\n",
    "\n",
    "| **Skill**                  | **Points**    | **Grade** | **Evidence** |\n",
    "|----------------------------|---------------|-----------|--------------|\n",
    "| Work Habits (Analytics)    | 1             |           |   ![image](https://github.com/user-attachments/assets/04bfde3e-8215-4f04-85f4-362268f5ecb7) My analytics.          |\n",
    "| Evidence of Role in Team   | 1             |           | ![image](https://github.com/user-attachments/assets/b06c66cf-8962-4402-99f8-aa88d36bcef5)  ![image](https://github.com/user-attachments/assets/07793a22-c36d-43cb-a746-086282084717)  ![image](https://github.com/user-attachments/assets/d22cdea6-a730-4991-80e3-ced80b81b88a) ![image](https://github.com/user-attachments/assets/2b65bb25-bab7-4427-ab44-ac3f018c5fde) Here are some images from our Slack groupchats and me communicating to the team. I think an important skill is being able to communicate to team members, especially when you are working on different features. You need to be able to clarify things or ask for help, so I chose to list examples of that.        | \n",
    "| Function / Purpose Design  | 1             |           |  ![image](https://github.com/user-attachments/assets/63f10492-0b44-4fc4-8bca-b27c24c9f6a7) ![image](https://github.com/user-attachments/assets/e37bfa71-3505-4513-89fa-45b8d4435156) Here is a screenshot of our database and the feature that I worked on! It allowed users to create their own account as well as add a MyPlan user ID to help keep better track. We wanted to do official integration with MyConnect's API's, but we realized that we needed to access a school admin account to do so which we can't. We thought about adding a \"sign in with Google\" option, but you need to own the domain to the website which we also can't do.| "
   ]
  }
 ],
 "metadata": {
  "kernelspec": {
   "display_name": "Java",
   "language": "java",
   "name": "java"
  },
  "language_info": {
   "codemirror_mode": "java",
   "file_extension": ".jshell",
   "mimetype": "text/x-java-source",
   "name": "Java",
   "pygments_lexer": "java",
   "version": "17.0.11-internal+0-adhoc..src"
  }
 },
 "nbformat": 4,
 "nbformat_minor": 2
}
