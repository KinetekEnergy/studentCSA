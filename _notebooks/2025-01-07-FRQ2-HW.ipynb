{
 "cells": [
  {
   "cell_type": "markdown",
   "metadata": {},
   "source": [
    "---\n",
    "layout: post\n",
    "title: Introduction to FRQ#2 HW\n",
    "comments: true\n",
    "---"
   ]
  },
  {
   "cell_type": "markdown",
   "metadata": {},
   "source": [
    "# Conclusion   (Jason)"
   ]
  },
  {
   "cell_type": "markdown",
   "metadata": {
    "vscode": {
     "languageId": "plaintext"
    }
   },
   "source": [
    "The **\"Classes\"** section gives a simple guide to handling Classes FRQs in APCSA. It explains key ideas like writing class headers, constructors, and methods, and keeping instance variables private. Following these steps makes your code organized and clear, which helps earn points on the exam.\n",
    "\n",
    "### Tips  \n",
    "1. **Follow Instructions**: Always match class headers, constructors, and method details to what’s asked in the question.  \n",
    "\n",
    "2. **Keep it Simple**: Use `this.variable = parameter;` to set instance variables in constructors.  \n",
    "\n",
    "3. **Check Scoping**: Class and method headers should usually be `public`, and instance variables should always be `private`.  \n"
   ]
  },
  {
   "cell_type": "markdown",
   "metadata": {},
   "source": [
    "# **Homework!** (Jason)\n",
    "### 2017 FRQ, Question 2 - Classes\n",
    "\n",
    "#### [**Homework over here...**](https://docs.google.com/forms/d/e/1FAIpQLSfh9si2edbWDec6buhsbuA_oiq-rA2lMeY582N4i8nAxtmBoQ/viewform?usp=sf_link)\n",
    "\n",
    "![2017 FRQ, Question 2, Classes](https://i.ibb.co/VJc29TM/Screenshot-2025-01-07-at-12-39-08-PM.png)\n",
    "\n",
    "![Example 1](https://i.ibb.co/NpF8v72/Screenshot-2025-01-07-at-12-43-04-PM.png)\n",
    "\n",
    "![Example 2](https://i.ibb.co/pW4jVSX/Screenshot-2025-01-07-at-12-43-20-PM.png)\n",
    "\n",
    "![Final](https://i.ibb.co/vYTv7cX/Screenshot-2025-01-07-at-12-44-12-PM.png)\n"
   ]
  },
  {
   "cell_type": "code",
   "execution_count": null,
   "metadata": {
    "vscode": {
     "languageId": "javascript"
    }
   },
   "outputs": [],
   "source": [
    "public interface StudyPractice\n",
    "{\n",
    "    String getProblem();\n",
    "    void nextProblem();\n",
    "}"
   ]
  },
  {
   "cell_type": "code",
   "execution_count": null,
   "metadata": {
    "vscode": {
     "languageId": "javascript"
    }
   },
   "outputs": [],
   "source": [
    "public class MultPractice implements StudyPractice\n",
    "{\n",
    "    // declare the variables needed\n",
    "    private int x;\n",
    "    private int y;\n",
    "    private String problem;\n",
    "\n",
    "    // constructor with the instance variables\n",
    "    public MultPractice(int x, int y)\n",
    "    {\n",
    "        this.x = x;\n",
    "        this.y = y;\n",
    "        this.problem = x + \" TIMES \" + y;\n",
    "    }\n",
    "\n",
    "    // return the problem you are on\n",
    "    @Override\n",
    "    public String getProblem()\n",
    "    {\n",
    "        return problem;\n",
    "    }\n",
    "\n",
    "    // increment the variable so that you can do the next problem\n",
    "    @Override\n",
    "    public void nextProblem()\n",
    "    {\n",
    "        y++;\n",
    "        problem = x + \" TIMES \" + y;\n",
    "    }\n",
    "}\n",
    "\n",
    "// create a new object\n",
    "StudyPractice p2 = new MultPractice(4,12);\n",
    "\n",
    "// go to the next problem and fetch it. do that twice\n",
    "p2.nextProblem();\n",
    "System.out.println(p2.getProblem());\n",
    "\n",
    "p2.nextProblem();\n",
    "System.out.println(p2.getProblem());\n"
   ]
  }
 ],
 "metadata": {
  "language_info": {
   "name": "python"
  }
 },
 "nbformat": 4,
 "nbformat_minor": 2
}
