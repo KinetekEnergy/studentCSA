{
 "cells": [
  {
   "cell_type": "markdown",
   "metadata": {
    "vscode": {
     "languageId": "raw"
    }
   },
   "source": [
    "---\n",
    "layout: post\n",
    "title: 2D Arrays HW\n",
    "comments: true\n",
    "---"
   ]
  },
  {
   "cell_type": "markdown",
   "metadata": {},
   "source": [
    "# HW\n",
    "\n",
    "Write code to access the scores: 92, 70, 93 and change the last score to 100"
   ]
  },
  {
   "cell_type": "code",
   "execution_count": null,
   "metadata": {
    "vscode": {
     "languageId": "java"
    }
   },
   "outputs": [],
   "source": [
    "scores = [\n",
    "    [100, 85, 95, 96],  # Student0\n",
    "    [98, 100, 100, 95], # Student1\n",
    "    [92, 100, 98, 100], # Student2\n",
    "    [100, 100, 97, 99], # Student3\n",
    "    [100, 100, 100, 70],# Student4\n",
    "    [100, 100, 99, 98], # Student5\n",
    "    [100, 94, 100, 93]  # Student6\n",
    "]"
   ]
  },
  {
   "cell_type": "code",
   "execution_count": 4,
   "metadata": {
    "vscode": {
     "languageId": "java"
    }
   },
   "outputs": [
    {
     "name": "stdout",
     "output_type": "stream",
     "text": [
      "Accessed scores: 92, 70, 93\n",
      "Updated last score for Student6: 100\n"
     ]
    }
   ],
   "source": [
    "public class ScoreUpdater {\n",
    "    public static void main(String[] args) {\n",
    "        int[][] scores = {\n",
    "            {100, 85, 95, 96},  // Student0\n",
    "            {98, 100, 100, 95}, // Student1\n",
    "            {92, 100, 98, 100}, // Student2\n",
    "            {100, 100, 97, 99}, // Student3\n",
    "            {100, 100, 100, 70},// Student4\n",
    "            {100, 100, 99, 98}, // Student5\n",
    "            {100, 94, 100, 93}  // Student6\n",
    "        };\n",
    "\n",
    "        // Accessing specified scores\n",
    "        int score1 = scores[2][0]; // 92\n",
    "        int score2 = scores[4][3]; // 70\n",
    "        int score3 = scores[6][3]; // 93\n",
    "\n",
    "        // Printing accessed scores\n",
    "        System.out.println(\"Accessed scores: \" + score1 + \", \" + score2 + \", \" + score3);\n",
    "\n",
    "        // Changing the last score to 100\n",
    "        scores[6][3] = 100;\n",
    "\n",
    "        // Printing updated scores\n",
    "        System.out.println(\"Updated last score for Student6: \" + scores[6][3]);\n",
    "    }\n",
    "}\n",
    "\n",
    "ScoreUpdater.main(null);\n"
   ]
  }
 ],
 "metadata": {
  "kernelspec": {
   "display_name": "Java",
   "language": "java",
   "name": "java"
  },
  "language_info": {
   "codemirror_mode": "java",
   "file_extension": ".jshell",
   "mimetype": "text/x-java-source",
   "name": "Java",
   "pygments_lexer": "java",
   "version": "22.0.1-internal-adhoc.conda.src"
  }
 },
 "nbformat": 4,
 "nbformat_minor": 2
}
