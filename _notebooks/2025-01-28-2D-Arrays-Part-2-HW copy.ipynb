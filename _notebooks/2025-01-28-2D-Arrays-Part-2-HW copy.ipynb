{
 "cells": [
  {
   "cell_type": "markdown",
   "metadata": {
    "vscode": {
     "languageId": "raw"
    }
   },
   "source": [
    "---\n",
    "layout: post\n",
    "title: 2D Arrays Pt 2 HW\n",
    "comments: true\n",
    "---"
   ]
  },
  {
   "cell_type": "markdown",
   "metadata": {},
   "source": [
    "# Popcorn Hack 1\n",
    "\n",
    "Farmer John has 7 cats. They all eat a certain amount of magical grass, measured in lbs, every day. The farmer makes a 2D array with information about how much grass each cat ate each day. Each row represents how many pounds each cat ate that day. Each column represents a single cat. Please return a 1D array, where each element is the total amount of grass the cat ate.\n",
    "\n",
    "TL;DR: Sum up the values within each column and return a 1D array."
   ]
  },
  {
   "cell_type": "code",
   "execution_count": null,
   "metadata": {
    "vscode": {
     "languageId": "java"
    }
   },
   "outputs": [],
   "source": [
    "// Sample test case\n",
    "int[][] grassData = {\n",
    "    {2, 3, 1, 4, 3, 2, 5},\n",
    "    {1, 2, 3, 1, 4, 2, 3},\n",
    "    {3, 4, 2, 5, 1, 3, 2}\n",
    "};\n",
    "\n",
    "// Your Code Here\n",
    "\n",
    "// Expected Output: [6, 9, 6, 10, 8, 7, 10]"
   ]
  },
  {
   "cell_type": "code",
   "execution_count": 4,
   "metadata": {
    "vscode": {
     "languageId": "java"
    }
   },
   "outputs": [
    {
     "name": "stdout",
     "output_type": "stream",
     "text": [
      "56\n"
     ]
    }
   ],
   "source": [
    "public class Main {\n",
    "    public static void main(String[] args) {\n",
    "        int[][] grassData = {\n",
    "            {2, 3, 1, 4, 3, 2, 5},\n",
    "            {1, 2, 3, 1, 4, 2, 3},\n",
    "            {3, 4, 2, 5, 1, 3, 2}\n",
    "        };\n",
    "\n",
    "        int total = 0;\n",
    "        for (int[] row : grassData) {\n",
    "            for (int item: row) {\n",
    "                total += item;\n",
    "            }\n",
    "        }\n",
    "\n",
    "        System.out.println(total);\n",
    "    }\n",
    "}\n",
    "\n",
    "Main.main(null);\n"
   ]
  },
  {
   "cell_type": "markdown",
   "metadata": {},
   "source": [
    "# HW\n",
    "\n",
    "Farmer John has a rectangular grass pasture with N rows and M columns for the cows to graze on. Each pasture has a certain tastiness value. However, the gen alpha Bessie has gotten quite picky with what she eats.\n",
    "\n",
    "Given a 2D array (template below) with size NxM, please write functions for the following:\n",
    "\n",
    "- getTotalGrass()\n",
    "  - Return total sum of all “tastiness values” from the pastures in the 2D array\n",
    "- maxSquare()\n",
    "  - Because Bessie sometimes likes enjoying square grass patches, she wants to find the best one.\n",
    "  - Returns the maximum sum of tastiness value of a square in the 2D array. (Square could be 1x1, 2x2, 3x3, etc.)\n",
    "- maxSubarraySum()\n",
    "  - Sometimes, Bessie enjoys eating grass in a line.\n",
    "  - Return the maximum sum of a continuous subarray in this array if it was “flattened” to be a 1D array. In other words, make the 2D array into a 1D array by combining all rows and find the max subarray sum.\n",
    "\n",
    "For an example case, see below in the code.\n",
    "\n",
    "## EC\n",
    "\n",
    "Extra Credit 1 (+0.01): What is the time complexity of your maxSquare code? Explain.\n",
    "\n",
    "Extra Credit 2 (+0.01): This is achieved if you get the optimal complexity for maxPatch.\n",
    "\n",
    "Extra Credit 3 (+0.01): What is the time complexity of your maxSubarraySum code? Explain.\n",
    "\n",
    "Extra Credit 4 (+0.01): This is achieved if you get the optimal complexity for maxSubarraySum.\n"
   ]
  },
  {
   "cell_type": "code",
   "execution_count": null,
   "metadata": {
    "vscode": {
     "languageId": "java"
    }
   },
   "outputs": [],
   "source": [
    "public class GrassPasture {\n",
    "    /** The 2D grid of pasture tastineess values */\n",
    "    private int[][] pastures;\n",
    "\n",
    "    /** Constructor initializes the field */\n",
    "    public GrassPasture(int[][] pastures) {\n",
    "        this.pastures = pastures;\n",
    "    }\n",
    "\n",
    "    /**\n",
    "     * Returns sum of total tastiness for all values in 2D array\n",
    "     */\n",
    "    public int getTotalGrass() {\n",
    "        /* Code below */\n",
    "    }\n",
    "\n",
    "    /**\n",
    "     * Returns max sum of tastiness of a square in the 2D array (square can be 1x1, 2x2, etc.)\n",
    "     */\n",
    "    public int maxSquare() {\n",
    "        /* Code below */\n",
    "    }\n",
    "\n",
    "    /**\n",
    "     * Returns the maximum tastiness sum subarray in the flattened 2D grid\n",
    "     */\n",
    "    public int maxSubarraySum() {\n",
    "        /* Code below */\n",
    "    }\n",
    "}\n",
    "\n",
    "int[][] pastures = {\n",
    "    {-3, 6, -1},\n",
    "    {2, -1, 5},\n",
    "    {-9, 4, -1}\n",
    "};\n",
    "\n",
    "GrassPasture gp = new GrassPasture(pastures);\n",
    "\n",
    "System.out.println(\"Total Tastiness: \" + gp.getTotalGrass());\n",
    "// answer should be -2\n",
    "\n",
    "System.out.println(\"Max Square Sum: \" + gp.maxSquare());\n",
    "// answer should be 9\n",
    "\n",
    "System.out.println(\"Max Subarray Sum: \" + gp.maxSubarraySum());\n",
    "// answer should be 11\n",
    "\n",
    "\n",
    "// If you are interested in the extra credit, you can answer below:\n",
    "\n"
   ]
  },
  {
   "cell_type": "code",
   "execution_count": 5,
   "metadata": {
    "vscode": {
     "languageId": "java"
    }
   },
   "outputs": [
    {
     "name": "stdout",
     "output_type": "stream",
     "text": [
      "Total Tastiness: 2\n",
      "Max Square Sum: 9\n",
      "Max Subarray Sum: 11\n"
     ]
    }
   ],
   "source": [
    "public class GrassPasture {\n",
    "    /** The 2D grid of pasture tastiness values */\n",
    "    private int[][] pastures;\n",
    "\n",
    "    /** Constructor initializes the field */\n",
    "    public GrassPasture(int[][] pastures) {\n",
    "        this.pastures = pastures;\n",
    "    }\n",
    "\n",
    "    /**\n",
    "     * Returns sum of total tastiness for all values in 2D array\n",
    "     */\n",
    "    public int getTotalGrass() {\n",
    "        int total = 0;\n",
    "        for (int[] row : pastures) {\n",
    "            for (int value : row) {\n",
    "                total += value;\n",
    "            }\n",
    "        }\n",
    "        return total;\n",
    "    }\n",
    "\n",
    "    /**\n",
    "     * Returns max sum of tastiness of a square in the 2D array (square can be 1x1, 2x2, etc.)\n",
    "     */\n",
    "    public int maxSquare() {\n",
    "        int rows = pastures.length;\n",
    "        int cols = pastures[0].length;\n",
    "        int[][] dp = new int[rows + 1][cols + 1];\n",
    "        int maxSum = Integer.MIN_VALUE;\n",
    "\n",
    "        // Precompute prefix sums for efficient square sum calculation\n",
    "        for (int i = 1; i <= rows; i++) {\n",
    "            for (int j = 1; j <= cols; j++) {\n",
    "                dp[i][j] = pastures[i - 1][j - 1] \n",
    "                         + dp[i - 1][j] \n",
    "                         + dp[i][j - 1] \n",
    "                         - dp[i - 1][j - 1];\n",
    "            }\n",
    "        }\n",
    "\n",
    "        // Iterate through all possible square sizes\n",
    "        for (int size = 1; size <= Math.min(rows, cols); size++) {\n",
    "            for (int i = size; i <= rows; i++) {\n",
    "                for (int j = size; j <= cols; j++) {\n",
    "                    int squareSum = dp[i][j] \n",
    "                                  - dp[i - size][j] \n",
    "                                  - dp[i][j - size] \n",
    "                                  + dp[i - size][j - size];\n",
    "                    maxSum = Math.max(maxSum, squareSum);\n",
    "                }\n",
    "            }\n",
    "        }\n",
    "\n",
    "        return maxSum;\n",
    "    }\n",
    "\n",
    "    /**\n",
    "     * Returns the maximum tastiness sum subarray in the flattened 2D grid\n",
    "     */\n",
    "    public int maxSubarraySum() {\n",
    "        int[] flattened = new int[pastures.length * pastures[0].length];\n",
    "        int index = 0;\n",
    "\n",
    "        for (int[] row : pastures) {\n",
    "            for (int value : row) {\n",
    "                flattened[index++] = value;\n",
    "            }\n",
    "        }\n",
    "\n",
    "        // Apply Kadane's Algorithm on the flattened array\n",
    "        int maxSum = Integer.MIN_VALUE;\n",
    "        int currentSum = 0;\n",
    "\n",
    "        for (int value : flattened) {\n",
    "            currentSum = Math.max(value, currentSum + value);\n",
    "            maxSum = Math.max(maxSum, currentSum);\n",
    "        }\n",
    "\n",
    "        return maxSum;\n",
    "    }\n",
    "\n",
    "    public static void main(String[] args) {\n",
    "        int[][] pastures = {\n",
    "            {-3, 6, -1},\n",
    "            {2, -1, 5},\n",
    "            {-9, 4, -1}\n",
    "        };\n",
    "\n",
    "        GrassPasture gp = new GrassPasture(pastures);\n",
    "\n",
    "        System.out.println(\"Total Tastiness: \" + gp.getTotalGrass());\n",
    "        System.out.println(\"Max Square Sum: \" + gp.maxSquare());\n",
    "        System.out.println(\"Max Subarray Sum: \" + gp.maxSubarraySum());\n",
    "    }\n",
    "}\n",
    "\n",
    "GrassPasture.main(null);\n"
   ]
  },
  {
   "cell_type": "markdown",
   "metadata": {},
   "source": [
    "`getTotalGrass()`:\n",
    "- Traverses the 2D array, summing all elements.\n",
    "- Time Complexity: O(N × M), where N and M are the number of rows and columns.\n",
    "\n",
    "`maxSquare()`:\n",
    "- Uses dynamic programming to calculate prefix sums for efficient square sum computation.\n",
    "- Iterates over all possible square sizes and computes the sum using prefix sums.\n",
    "- Time Complexity: O(N × M × min(N, M)).\n",
    "- Extra Credit 1: This approach is efficient, but further optimizations for specific constraints might improve it.\n",
    "- Extra Credit 2: Achieving O(N × M) involves advanced optimization, such as dynamic programming with constraints on valid square growth.\n",
    "\n",
    "`maxSubarraySum()`:\n",
    "- Flattens the 2D array into a 1D array and applies Kadane’s algorithm.\n",
    "- Time Complexity: O(N × M), since flattening and Kadane’s algorithm are linear in complexity.\n",
    "- Extra Credit 3: Kadane's algorithm is optimal for finding the maximum subarray sum.\n",
    "- Extra Credit 4: O(N × M) is the optimal complexity for this problem."
   ]
  }
 ],
 "metadata": {
  "kernelspec": {
   "display_name": "Java",
   "language": "java",
   "name": "java"
  },
  "language_info": {
   "codemirror_mode": "java",
   "file_extension": ".jshell",
   "mimetype": "text/x-java-source",
   "name": "Java",
   "pygments_lexer": "java",
   "version": "22.0.1-internal-adhoc.conda.src"
  }
 },
 "nbformat": 4,
 "nbformat_minor": 2
}
