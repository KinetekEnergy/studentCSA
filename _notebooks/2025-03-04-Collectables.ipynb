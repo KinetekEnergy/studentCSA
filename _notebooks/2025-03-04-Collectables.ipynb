{
 "cells": [
  {
   "cell_type": "markdown",
   "id": "1b6ecddf",
   "metadata": {},
   "source": [
    "---\n",
    "layout: post\n",
    "title: Collectables\n",
    "comments: true\n",
    "---"
   ]
  },
  {
   "cell_type": "markdown",
   "id": "0faa17ef",
   "metadata": {},
   "source": [
    "## HW"
   ]
  },
  {
   "cell_type": "markdown",
   "id": "d51d7511",
   "metadata": {},
   "source": [
    "## Part 1: Working with Lists\n",
    "\n",
    "Task:\n",
    "Create a method that takes a List and returns a new list containing only the **even numbers**, in the same order.\n",
    "\n",
    "Requirements:\n",
    "- Use ArrayList\n",
    "- Use add, get, and size\n",
    "- Use a loop (not streams)"
   ]
  },
  {
   "cell_type": "code",
   "execution_count": 9,
   "id": "de76f935",
   "metadata": {
    "vscode": {
     "languageId": "java"
    }
   },
   "outputs": [
    {
     "name": "stdout",
     "output_type": "stream",
     "text": [
      "Current list: [1, 406, 23, -1]\n",
      "First element: 1\n",
      "Arraylist size: 4\n",
      "Evens only: [406, 100000]\n"
     ]
    }
   ],
   "source": [
    "import java.util.ArrayList;\n",
    "import java.util.List;\n",
    "\n",
    "List<Integer> nums = new ArrayList<Integer>(); // make the arraylist\n",
    "\n",
    "// add values with .add()\n",
    "nums.add(1);\n",
    "nums.add(406);\n",
    "nums.add(23);\n",
    "nums.add(-1);\n",
    "\n",
    "// print list\n",
    "System.out.println(\"Current list: \" + nums);\n",
    "\n",
    "// use .get()\n",
    "System.out.println(\"First element: \" + nums.get(0));\n",
    "\n",
    "// use .size();\n",
    "System.out.println(\"Arraylist size: \" + nums.size());\n",
    "\n",
    "nums.add(100000);\n",
    "\n",
    "// loop:\n",
    "List<Integer> evensOnly = new ArrayList<Integer>();\n",
    "for (int i = 0; i < nums.size(); i++) {\n",
    "    // is even?\n",
    "    if (nums.get(i) % 2 == 0) {\n",
    "        evensOnly.add(nums.get(i));\n",
    "    }\n",
    "}\n",
    "\n",
    "System.out.println(\"Evens only: \" + evensOnly);\n"
   ]
  },
  {
   "cell_type": "markdown",
   "id": "d3d667cf",
   "metadata": {},
   "source": [
    "## Part 2: Working with Sets\n",
    "\n",
    "Task:\n",
    "Create a method that takes two Set objects and returns a new Set with only the **common elements** (i.e. the intersection).\n",
    "\n",
    "Requirements:\n",
    "- Use HashSet\n",
    "- Use contains, add, and iteration\n",
    "- Final result should have no duplicates\n",
    "\n"
   ]
  },
  {
   "cell_type": "code",
   "execution_count": 13,
   "id": "5f887db1",
   "metadata": {
    "vscode": {
     "languageId": "java"
    }
   },
   "outputs": [
    {
     "name": "stdout",
     "output_type": "stream",
     "text": [
      "My classes: [CSA, APEL, Calc, USH, Physics]\n",
      "Friend classes: [CSA, APUSH, Stats, APEL, Physics]\n",
      "Common classes: [CSA, APEL, Physics]\n"
     ]
    }
   ],
   "source": [
    "import java.util.HashSet;\n",
    "import java.util.Set;\n",
    "\n",
    "public class SetExample {\n",
    "    public static void main(String[] args) {\n",
    "        // make two sets to compare\n",
    "        Set<String> myClasses = new HashSet<>();\n",
    "        Set<String> friendClasses = new HashSet<>();\n",
    "\n",
    "        // adding stuff:\n",
    "        myClasses.add(\"Calc\");\n",
    "        myClasses.add(\"APEL\");\n",
    "        myClasses.add(\"CSA\");\n",
    "        myClasses.add(\"USH\");\n",
    "        myClasses.add(\"Physics\");\n",
    "        System.out.println(\"My classes: \" + myClasses);\n",
    "\n",
    "        friendClasses.add(\"Stats\");\n",
    "        friendClasses.add(\"APEL\");\n",
    "        friendClasses.add(\"CSA\");\n",
    "        friendClasses.add(\"APUSH\");\n",
    "        friendClasses.add(\"Physics\");\n",
    "        System.out.println(\"Friend classes: \" + friendClasses);\n",
    "\n",
    "        // check for intersections, make new set\n",
    "        Set<String> commonClasses = new HashSet<>();\n",
    "        for (String myClass : myClasses) {\n",
    "            // loop through my own classes and check if my friend's contains that\n",
    "            if (friendClasses.contains(myClass)) {\n",
    "                commonClasses.add(myClass);\n",
    "            }\n",
    "        }\n",
    "\n",
    "        System.out.println(\"Common classes: \" + commonClasses);\n",
    "    }\n",
    "}\n",
    "\n",
    "SetExample.main(null);"
   ]
  },
  {
   "cell_type": "markdown",
   "id": "6001ffdf",
   "metadata": {},
   "source": [
    "## Part 3: Working with Deques\n",
    "\n",
    "Task:\n",
    "Simulate a line of customers using a Deque. Implement the following steps in order:\n",
    "- Add 3 customers to the end\n",
    "- Add 1 customer to the front (VIP)\n",
    "- Remove the customer at the front\n",
    "- Show the current front and back of the line\n",
    "- Print the size of the line\n",
    "\n",
    "Requirements:\n",
    "- Use ArrayDeque\n",
    "- Use addFirst, addLast, removeFirst, peekFirst, peekLast, and size\n"
   ]
  },
  {
   "cell_type": "code",
   "execution_count": 14,
   "id": "4c77d93a",
   "metadata": {
    "vscode": {
     "languageId": "java"
    }
   },
   "outputs": [
    {
     "name": "stdout",
     "output_type": "stream",
     "text": [
      "Front: Eric\n",
      "Back: Eric's other uncle\n",
      "Size: 3\n"
     ]
    }
   ],
   "source": [
    "import java.util.ArrayDeque;\n",
    "import java.util.Deque;\n",
    "\n",
    "public class DequeExample {\n",
    "    public static void main(String[] args) {\n",
    "        Deque<String> line = new ArrayDeque<>(); // make customer line\n",
    "\n",
    "        // add 3 elements to tail\n",
    "        line.addLast(\"Eric\");\n",
    "        line.addLast(\"Eric's uncle\");\n",
    "        line.addLast(\"Eric's other uncle\");\n",
    "\n",
    "        // add to head\n",
    "        line.addFirst(\"Eric's dog\");\n",
    "\n",
    "        // remove customer at front\n",
    "        line.removeFirst();\n",
    "\n",
    "        // show the front and back of line\n",
    "        System.out.println(\"Front: \" + line.peekFirst());\n",
    "        System.out.println(\"Back: \" + line.peekLast());\n",
    "\n",
    "        // print line size\n",
    "        System.out.println(\"Size: \" + line.size());\n",
    "    }\n",
    "}\n",
    "\n",
    "DequeExample.main(null);"
   ]
  },
  {
   "cell_type": "markdown",
   "id": "de1d381d",
   "metadata": {},
   "source": [
    "## Challenge Question (Bonus +0.01)\n",
    "\n",
    "Question:\n",
    "You need to store a collection of student IDs where:\n",
    "- Order doesn’t matter\n",
    "- You must prevent duplicates\n",
    "- You often need to check if an ID exists\n",
    "\n",
    "Which collection type would be most efficient to use and why?\n",
    "\n",
    "The most efficient collection type for storing student IDs in this scenario is a set. Sets are designed to store unique elements, automatically preventing duplicates without additional logic. They are also optimized for fast membership checks, with hash-based implementations like HashSet offering an average time complexity of O(1) for operations like checking if an ID exists. Since the problem specifies that order doesn’t matter, sets are a perfect fit as they do not maintain any specific order.\n",
    "\n",
    "Using other data structures like lists or arrays would require extra processing to enforce uniqueness and check for membership, making them less efficient. A set, on the other hand, directly fulfills all the requirements: it prevents duplicates, allows quick lookups, and avoids unnecessary overhead related to maintaining order. This makes it the ideal choice for this use case.\n"
   ]
  }
 ],
 "metadata": {
  "kernelspec": {
   "display_name": "Java",
   "language": "java",
   "name": "java"
  },
  "language_info": {
   "codemirror_mode": "java",
   "file_extension": ".jshell",
   "mimetype": "text/x-java-source",
   "name": "Java",
   "pygments_lexer": "java",
   "version": "17.0.14+7-Ubuntu-122.04.1"
  }
 },
 "nbformat": 4,
 "nbformat_minor": 5
}
