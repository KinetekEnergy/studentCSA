{
 "cells": [
  {
   "cell_type": "markdown",
   "id": "eedce5a7",
   "metadata": {},
   "source": [
    "---\n",
    "layout: post\n",
    "title: Merge Sort\n",
    "comments: true\n",
    "---"
   ]
  },
  {
   "cell_type": "markdown",
   "id": "5c312530",
   "metadata": {},
   "source": [
    "## Popcorn Hack"
   ]
  },
  {
   "cell_type": "code",
   "execution_count": 7,
   "id": "ce8b0fda",
   "metadata": {
    "vscode": {
     "languageId": "java"
    }
   },
   "outputs": [
    {
     "name": "stdout",
     "output_type": "stream",
     "text": [
      "Merged array:\n",
      "1 2 3 4 5 6 7 8 "
     ]
    }
   ],
   "source": [
    "public class MergeSort {\n",
    "    public static int[] mergeArrays(int[] array1, int[] array2) {\n",
    "        // get lengths\n",
    "        int array1Length = array1.length;\n",
    "        int array2Length = array2.length;\n",
    "        int[] merged = new int[array1Length + array2Length];\n",
    "\n",
    "        // tracking vars\n",
    "        int i = 0, j = 0, k = 0;\n",
    "\n",
    "        // first merge the ararys in order\n",
    "        while (i < array1Length && j < array2Length) {\n",
    "            if (array1[i] <= array2[j]) {\n",
    "                merged[k] = array1[i];\n",
    "                i++;\n",
    "            }\n",
    "            else {\n",
    "                merged[k] = array2[j];\n",
    "                j++;\n",
    "            }\n",
    "            k++;\n",
    "        }\n",
    "\n",
    "        // copy remaining array 1 stuff\n",
    "        while (i < array1Length) {\n",
    "            merged[k] = array1[i];\n",
    "            i++;\n",
    "            k++;\n",
    "        }\n",
    "\n",
    "        // copy remaining array 2 stuff\n",
    "        while (j < array2Length) {\n",
    "            merged[k] = array2[j];\n",
    "            j++;\n",
    "            k++;\n",
    "        }\n",
    "\n",
    "        return merged;\n",
    "    }\n",
    "\n",
    "    public static void main(String[] args) {\n",
    "        // make arrays\n",
    "        int[] array1 = {1, 3, 5, 7};\n",
    "        int[] array2 = {2, 4, 6, 8};\n",
    "\n",
    "        // merge the stuff\n",
    "        int[] merged = mergeArrays(array1, array2);\n",
    "\n",
    "        System.out.println(\"Merged array:\");\n",
    "        for (int i : merged) {\n",
    "            System.out.print(i + \" \");\n",
    "        }\n",
    "    }\n",
    "}\n",
    "\n",
    "MergeSort.main(new String[0]);"
   ]
  },
  {
   "cell_type": "markdown",
   "id": "fbaa1bf0",
   "metadata": {},
   "source": [
    "### 1. Time Complexity of Merge Sort:\n",
    "Merge Sort has a time complexity of **O(n log n)** in all cases (best, average, and worst). This is because the algorithm divides the input array into halves recursively (logarithmic depth) and then merges the sorted halves (linear work per level). The division and merging steps together result in the efficient **O(n log n)** complexity.\n",
    "\n",
    "### 2. Comparison with Bubble Sort and Quicksort:\n",
    "- **Bubble Sort**: Bubble Sort has a time complexity of **O(n²)** in the worst and average cases, making it much slower than Merge Sort for large datasets. It repeatedly compares adjacent elements and swaps them if necessary, which is inefficient.\n",
    "- **Quicksort**: Quicksort has an average time complexity of **O(n log n)**, similar to Merge Sort. However, its worst-case complexity is **O(n²)** if the pivot selection is poor. Merge Sort is more predictable in performance, while Quicksort is generally faster due to lower constant factors.\n",
    "\n",
    "### 3. Why Merge Sort is a “Divide and Conquer” Algorithm:\n",
    "Merge Sort is a \"divide and conquer\" algorithm because it divides the problem into smaller subproblems, solves each subproblem independently, and then combines the solutions. Specifically, it splits the array into two halves, recursively sorts each half, and merges the sorted halves into a single sorted array. This approach ensures efficient sorting by breaking the problem into manageable parts.\n",
    "\n",
    "### 4. Stability of Merge Sort:\n",
    "Merge Sort is a **stable sorting algorithm**, meaning it preserves the relative order of equal elements in the input array. During the merging step, if two elements are equal, the one from the left subarray is placed before the one from the right subarray, ensuring stability. This property makes Merge Sort suitable for applications where maintaining the order of equivalent elements is important."
   ]
  },
  {
   "cell_type": "markdown",
   "id": "ff519267",
   "metadata": {},
   "source": [
    "## HW"
   ]
  },
  {
   "cell_type": "code",
   "execution_count": null,
   "id": "758cd3a3",
   "metadata": {
    "vscode": {
     "languageId": "java"
    }
   },
   "outputs": [],
   "source": [
    "public class MergeSort {\n",
    "\n",
    "    // function to merge two subarrays\n",
    "    private static void merge(int[] array, int left, int mid, int right) {\n",
    "        int[] leftArray = new int[mid - left + 1];\n",
    "        int[] rightArray = new int[right - mid];\n",
    "\n",
    "        // copy data to temp arrays\n",
    "        System.arraycopy(array, left, leftArray, 0, leftArray.length);\n",
    "        System.arraycopy(array, mid + 1, rightArray, 0, rightArray.length);\n",
    "\n",
    "        int i = 0, j = 0, k = left;\n",
    "\n",
    "        // merge the temp arrays back into the original array\n",
    "        while (i < leftArray.length && j < rightArray.length) {\n",
    "            array[k++] = (leftArray[i] <= rightArray[j]) ? leftArray[i++] : rightArray[j++];\n",
    "        }\n",
    "\n",
    "        // copy remaining elements, if any\n",
    "        while (i < leftArray.length) {\n",
    "            array[k++] = leftArray[i++];\n",
    "        }\n",
    "        while (j < rightArray.length) {\n",
    "            array[k++] = rightArray[j++];\n",
    "        }\n",
    "    }\n",
    "\n",
    "    // recursive function to perform merge sort\n",
    "    public static void mergeSort(int[] array, int left, int right) {\n",
    "        if (left < right) {\n",
    "            int mid = left + (right - left) / 2;\n",
    "\n",
    "            mergeSort(array, left, mid);\n",
    "            mergeSort(array, mid + 1, right);\n",
    "\n",
    "            merge(array, left, mid, right);\n",
    "        }\n",
    "    }\n",
    "\n",
    "    // main method to test the merge sort implementation\n",
    "    public static void main(String[] args) {\n",
    "        int[] array = {12, 11, 13, 5, 6, 7};\n",
    "        System.out.println(\"original array:\");\n",
    "        System.out.println(java.util.Arrays.toString(array));\n",
    "\n",
    "        mergeSort(array, 0, array.length - 1);\n",
    "\n",
    "        System.out.println(\"sorted array:\");\n",
    "        System.out.println(java.util.Arrays.toString(array));\n",
    "    }\n",
    "}\n",
    "\n",
    "MergeSort.main(new String[0]);"
   ]
  }
 ],
 "metadata": {
  "kernelspec": {
   "display_name": "Java",
   "language": "java",
   "name": "java"
  },
  "language_info": {
   "codemirror_mode": "java",
   "file_extension": ".jshell",
   "mimetype": "text/x-java-source",
   "name": "Java",
   "pygments_lexer": "java",
   "version": "17.0.14+7-Ubuntu-122.04.1"
  }
 },
 "nbformat": 4,
 "nbformat_minor": 5
}
