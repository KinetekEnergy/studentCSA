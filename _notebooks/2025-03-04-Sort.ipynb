{
 "cells": [
  {
   "cell_type": "markdown",
   "id": "d3bf107f",
   "metadata": {},
   "source": [
    "---\n",
    "layout: post\n",
    "title: Insertion & Selection Sort\n",
    "comments: true\n",
    "---"
   ]
  },
  {
   "cell_type": "markdown",
   "id": "24fa1b21",
   "metadata": {},
   "source": [
    "## HW"
   ]
  },
  {
   "cell_type": "code",
   "execution_count": 4,
   "id": "456c94d6",
   "metadata": {
    "vscode": {
     "languageId": "java"
    }
   },
   "outputs": [
    {
     "name": "stdout",
     "output_type": "stream",
     "text": [
      "insertion sort: [4, 9, 10, 12, 13, 14, 18, 23, 25, 28, 29, 30, 37, 40, 50]\n",
      "selection sort: [4, 9, 10, 12, 13, 14, 18, 23, 25, 28, 29, 30, 37, 40, 50]\n"
     ]
    }
   ],
   "source": [
    "import java.util.Arrays;\n",
    "\n",
    "public class Sort {\n",
    "    public static void main(String[] args) {\n",
    "        // test array\n",
    "        int[] supplies = {29, 10, 14, 37, 13, 18, 25, 30, 4, 9, 12, 40, 50, 23, 28};\n",
    "\n",
    "        // insertion sort\n",
    "        insertionSort(supplies);\n",
    "\n",
    "        // reset array for selection sort\n",
    "        supplies = new int[]{29, 10, 14, 37, 13, 18, 25, 30, 4, 9, 12, 40, 50, 23, 28};\n",
    "\n",
    "        // selection sort\n",
    "        selectionSort(supplies);\n",
    "    }\n",
    "\n",
    "    public static void insertionSort(int[] arr) {\n",
    "        for (int i = 1; i < arr.length; i++) {\n",
    "            int current = arr[i];\n",
    "            int j = i - 1;\n",
    "\n",
    "            // shift larger elements to the right\n",
    "            while (j >= 0 && arr[j] > current) {\n",
    "                arr[j + 1] = arr[j];\n",
    "                j--;\n",
    "            }\n",
    "\n",
    "            // place the current value in the correct position\n",
    "            arr[j + 1] = current;\n",
    "        }\n",
    "        System.out.println(\"insertion sort: \" + Arrays.toString(arr));\n",
    "    }\n",
    "\n",
    "    public static void selectionSort(int[] arr) {\n",
    "        for (int current = 0; current < arr.length - 1; current++) {\n",
    "            int min = current;\n",
    "\n",
    "            for (int i = current + 1; i < arr.length; i++) {\n",
    "                if (arr[i] < arr[min]) {\n",
    "                    min = i;\n",
    "                }\n",
    "            }\n",
    "\n",
    "            int temp = arr[current];\n",
    "            arr[current] = arr[min];\n",
    "            arr[min] = temp;\n",
    "        }\n",
    "        System.out.println(\"selection sort: \" + Arrays.toString(arr));\n",
    "    }\n",
    "}\n",
    "\n",
    "Sort.main(null);"
   ]
  }
 ],
 "metadata": {
  "kernelspec": {
   "display_name": "Java",
   "language": "java",
   "name": "java"
  },
  "language_info": {
   "codemirror_mode": "java",
   "file_extension": ".jshell",
   "mimetype": "text/x-java-source",
   "name": "Java",
   "pygments_lexer": "java",
   "version": "17.0.14+7-Ubuntu-122.04.1"
  }
 },
 "nbformat": 4,
 "nbformat_minor": 5
}
