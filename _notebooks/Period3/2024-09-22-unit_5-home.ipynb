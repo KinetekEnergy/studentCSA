{
 "cells": [
  {
   "cell_type": "markdown",
   "metadata": {},
   "source": [
    "---\n",
    "layout: post\n",
    "title: Unit 5 Classes\n",
    "comments: true\n",
    "---"
   ]
  },
  {
   "cell_type": "markdown",
   "metadata": {},
   "source": [
    "## Unit 5 Homepage\n",
    "In unit 5, you will be learning all about classes and methods in Java.\n",
    "\n",
    "### Learning Objectives\n",
    "- Learn about the different types of methods\n",
    "- Understand how to write classes \n",
    "- Practice your skills in the homework!\n",
    "\n",
    "### Topics\n",
    "- **5.1** [Anatomy of a Class]({{site.baseurl}}/2024/09/16/unit_5-classanatomy.html)\n",
    "- **5.2** [Constructors]({{site.baseurl}}/2024/09/15/unit_5-constructors.html)\n",
    "- **5.4** [Accessor Methods]({{site.baseurl}}/2024/09/17/unit_5-accessor.html)\n",
    "- **5.5** [Mutator Methods]({{site.baseurl}}/2024/09/17/unit_5-mutator-methods.html)\n",
    "- **5.6** [Writing Methods]({{site.baseurl}}/2024/09/17/unit_5-writing-methods.html)\n",
    "- **5.7** [Static Variables and Methods]({{site.baseurl}}/2024/09/18/unit_5-static-variables-and-methods.html)\n",
    "- **5.8** [Scope and Access]({{site.baseurl}}/2024/09/22/unit_5-scope_access_hacks.html)\n",
    "- **5.9** [this Keyword]({{site.baseurl}}/2024/09/19/unit_5-this-keyword.html)\n",
    "\n",
    "\n",
    "\n"
   ]
  }
 ],
 "metadata": {
  "language_info": {
   "name": "python"
  }
 },
 "nbformat": 4,
 "nbformat_minor": 2
}
