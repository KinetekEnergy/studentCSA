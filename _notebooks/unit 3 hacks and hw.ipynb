{
 "cells": [
  {
   "cell_type": "markdown",
   "metadata": {},
   "source": [
    "# Unit 3.1"
   ]
  },
  {
   "cell_type": "markdown",
   "metadata": {},
   "source": [
    "## Popcorn Hack 1"
   ]
  },
  {
   "cell_type": "code",
   "execution_count": null,
   "metadata": {
    "vscode": {
     "languageId": "java"
    }
   },
   "outputs": [],
   "source": [
    "String myName = \"Alisha\";  // Use double quotes for string literals\n",
    "\n",
    "boolean isNotAnika = !myName.equals(\"Anika\");  // Use .equals() for string comparison\n",
    "boolean isAlisha = myName.equals(\"Alisha\");"
   ]
  },
  {
   "cell_type": "markdown",
   "metadata": {},
   "source": [
    "String literals need to be enclosed in double quotes. You need to use .equals() to compare strings also."
   ]
  },
  {
   "cell_type": "markdown",
   "metadata": {},
   "source": [
    "## HW"
   ]
  },
  {
   "cell_type": "markdown",
   "metadata": {},
   "source": [
    "The precondition for num is stated in the comments of the provided code. It mentions:\n",
    "\n",
    "- The number of digits in num must be between 1 and 6, inclusive.\n",
    "- Additionally, it specifies that num >= 0.\n",
    "\n",
    "These conditions must be met for the getCheck method to work correctly as intended."
   ]
  },
  {
   "cell_type": "markdown",
   "metadata": {},
   "source": [
    "# Unit 3.2"
   ]
  },
  {
   "cell_type": "markdown",
   "metadata": {},
   "source": [
    "## Popcorn Hack"
   ]
  },
  {
   "cell_type": "code",
   "execution_count": 4,
   "metadata": {
    "vscode": {
     "languageId": "java"
    }
   },
   "outputs": [
    {
     "name": "stdout",
     "output_type": "stream",
     "text": [
      "Current age: 15\n",
      "On your next birthday, you will be 16 years old!\n",
      "\n",
      "Current age: 10\n",
      "On your next birthday, you will be 11 years old!\n"
     ]
    }
   ],
   "source": [
    "class Main{\n",
    "    public static void main(String[] args) {\n",
    "        // Test case 1: Age is less than 16\n",
    "        int myAge = 15;  // Change to an age less than 16\n",
    "        System.out.println(\"Current age: \" + myAge);\n",
    "        \n",
    "        if (myAge >= 16) {\n",
    "            System.out.println(\"You can start learning to drive!\");\n",
    "        }\n",
    "\n",
    "        System.out.println(\"On your next birthday, you will be \" + (myAge + 1) + \" years old!\");\n",
    "        \n",
    "        System.out.println();  // Just to separate test cases\n",
    "\n",
    "        // Test case 2: Age is even younger\n",
    "        myAge = 10;  // Another test case where age is less than 16\n",
    "        System.out.println(\"Current age: \" + myAge);\n",
    "        \n",
    "        if (myAge >= 16) {\n",
    "            System.out.println(\"You can start learning to drive!\");\n",
    "        }\n",
    "\n",
    "        System.out.println(\"On your next birthday, you will be \" + (myAge + 1) + \" years old!\");\n",
    "    }\n",
    "}\n",
    "\n",
    "Main.main(null);\n"
   ]
  },
  {
   "cell_type": "markdown",
   "metadata": {},
   "source": [
    "# Unit 3.3"
   ]
  },
  {
   "cell_type": "markdown",
   "metadata": {},
   "source": [
    "1. Based on this code, if you were younger than 16 what would it print out?\n",
    "   1. The code would say that \"you are not old enough for a license yet.\" This is because your age would be under 16.\n",
    "2. Write your own if else statement"
   ]
  },
  {
   "cell_type": "code",
   "execution_count": 5,
   "metadata": {
    "vscode": {
     "languageId": "java"
    }
   },
   "outputs": [
    {
     "name": "stdout",
     "output_type": "stream",
     "text": [
      "you have an A!\n"
     ]
    }
   ],
   "source": [
    "int grade = 90;\n",
    "\n",
    "if (grade >= 90) {\n",
    "    System.out.println(\"you have an A!\");\n",
    "}\n",
    "else {\n",
    "    System.out.println(\"you don't have an A\");\n",
    "}"
   ]
  },
  {
   "cell_type": "markdown",
   "metadata": {},
   "source": [
    "# Unit 3.4"
   ]
  },
  {
   "cell_type": "markdown",
   "metadata": {},
   "source": [
    "\n",
    "1. If I was 19 what would it print out?\n",
    "   1. It would print out that you can register to vote and that you are old enough for a driver's license. This is because 19 is >= 19. The code evaluates to true, and it prints the above.\n",
    "2. If I was 13 what would it print out?\n",
    "   1. Your age would be printed, but nothing else would be printed. It would go through all the test cases and evaluate to false. Once at the end, it will finish.\n",
    "3. Create your if statement with one else if condition.\n"
   ]
  },
  {
   "cell_type": "code",
   "execution_count": 8,
   "metadata": {
    "vscode": {
     "languageId": "java"
    }
   },
   "outputs": [
    {
     "name": "stdout",
     "output_type": "stream",
     "text": [
      "you have a B\n"
     ]
    }
   ],
   "source": [
    "int grade = 85;\n",
    "\n",
    "if (grade >= 90) {\n",
    "    System.out.println(\"you have an A!\");\n",
    "}\n",
    "else if (grade >= 80) {\n",
    "    System.out.println(\"you have a B\");\n",
    "}\n",
    "else {\n",
    "    System.out.println(\"you don't have an A\");\n",
    "}"
   ]
  },
  {
   "cell_type": "markdown",
   "metadata": {},
   "source": [
    "# Unit 3.5"
   ]
  },
  {
   "cell_type": "markdown",
   "metadata": {},
   "source": [
    "## Popcorn Hack 1"
   ]
  },
  {
   "cell_type": "code",
   "execution_count": null,
   "metadata": {
    "vscode": {
     "languageId": "java"
    }
   },
   "outputs": [],
   "source": [
    "function checkMembershipEligibility() {\n",
    "    // Get user input\n",
    "    let age = parseInt(prompt(\"Enter your age:\"));  // Age input\n",
    "    let income = parseFloat(prompt(\"Enter your annual income:\"));  // Annual income input\n",
    "    let isStudent = prompt(\"Are you a student? (yes/no):\").toLowerCase() === 'yes';  // Student status input\n",
    "\n",
    "    // Initialize an empty array to hold results\n",
    "    let results = [];\n",
    "\n",
    "    // Check eligibility for different memberships\n",
    "\n",
    "    // Basic Membership\n",
    "    if (age >= 18 && income >= 20000) {\n",
    "        results.push(\"You qualify for Basic Membership.\");\n",
    "    }\n",
    "\n",
    "    // Premium Membership\n",
    "    if (age >= 25 && income >= 50000) {\n",
    "        results.push(\"You qualify for Premium Membership.\");\n",
    "    }\n",
    "\n",
    "    // Student Discount\n",
    "    if (isStudent) {\n",
    "        results.push(\"You are eligible for a Student Discount.\");\n",
    "    }\n",
    "\n",
    "    // Senior Discount\n",
    "    if (age >= 65) {\n",
    "        results.push(\"You qualify for a Senior Discount.\");\n",
    "    }\n",
    "\n",
    "    // If no eligibility, provide a default message\n",
    "    if (results.length === 0) {\n",
    "        results.push(\"You do not qualify for any memberships or discounts.\");\n",
    "    }\n",
    "\n",
    "    // Output all results\n",
    "    results.forEach(result => console.log(result));\n",
    "}\n",
    "\n",
    "// Call the function to execute\n",
    "checkMembershipEligibility();\n"
   ]
  },
  {
   "cell_type": "markdown",
   "metadata": {},
   "source": [
    "The purpose of the checkMembershipEligibility function is to determine which memberships or discounts a user qualifies for based on three inputs:\n",
    "\n",
    "1. Age\n",
    "2. Annual income\n",
    "3. Whether the user is a student\n",
    "\n",
    "Based on these inputs, the function checks the user’s eligibility for:\n",
    "\n",
    "1. Basic Membership\n",
    "2. Premium Membership\n",
    "3. Student Discount\n",
    "4. Senior Discount\n",
    "\n",
    "The function stores all eligible membership/discounts in the results array and then prints the results.\n",
    "\n",
    "- `if (age >= 18 && income >= 20000)`\n",
    "  - The user qualifies for Basic Membership if their age is 18 or older and their annual income is 20,000 or more.\n",
    "- `if (age >= 25 && income >= 50000)`\n",
    "  - The user qualifies for Premium Membership if they are 25 or older and have an annual income of 50,000 or more.\n",
    "- `if (isStudent)`\n",
    "  - The user qualifies for a Student Discount if they answer \"yes\" to being a student.\n",
    "- `if (age >= 65)`\n",
    "  - The user qualifies for a Senior Discount if they are 65 or older.\n",
    "- `if (results.length === 0)`\n",
    "  - If none of the conditions are met, a default message is added to the results array: \"You do not qualify for any memberships or discounts.\"\n",
    "\n",
    "**Output for Input:**\n",
    "\n",
    "- Age: 20\n",
    "- Annual income: 1500\n",
    "- Student status: yes\n",
    "\n",
    "Step-by-Step Evaluation:\n",
    "\n",
    "1. Basic Membership:\n",
    "- age = 20 (greater than or equal to 18) ✅\n",
    "- income = 1500 (less than 20,000) ❌\n",
    "- Result: Does not qualify for Basic Membership.\n",
    "\n",
    "2. Premium Membership:\n",
    "- age = 20 (less than 25) ❌\n",
    "- Result: Does not qualify for Premium Membership.\n",
    "\n",
    "3. Student Discount:\n",
    "- isStudent = true (since the user is a student) ✅\n",
    "- Result: Eligible for Student Discount.\n",
    "\n",
    "4. Senior Discount:\n",
    "- age = 20 (less than 65) ❌\n",
    "- Result: Does not qualify for Senior Discount.\n",
    "\n",
    "Since the user qualifies for the Student Discount, the output will be: \"You are eligible for a Student Discount.\"\n"
   ]
  },
  {
   "cell_type": "markdown",
   "metadata": {},
   "source": [
    "## Popcorn Hack 2"
   ]
  },
  {
   "cell_type": "code",
   "execution_count": 10,
   "metadata": {
    "vscode": {
     "languageId": "java"
    }
   },
   "outputs": [
    {
     "name": "stdout",
     "output_type": "stream",
     "text": [
      "You qualify for the Student Discount.\n"
     ]
    }
   ],
   "source": [
    "public class Main {\n",
    "    public static void main(String[] args) {\n",
    "        int age = 30; // Change this value for testing\n",
    "        boolean isStudent = true; // Change this value for testing\n",
    "\n",
    "        // Check for discounts based on age and student status\n",
    "        if (age < 25) {\n",
    "            System.out.println(\"You qualify for the Youth Discount.\");\n",
    "        } else if (age >= 70) {\n",
    "            System.out.println(\"You qualify for the Senior Discount.\");\n",
    "        } else if (isStudent) {\n",
    "            System.out.println(\"You qualify for the Student Discount.\");\n",
    "        } else {\n",
    "            System.out.println(\"Sorry, you do not qualify for any discounts.\");\n",
    "        }\n",
    "    }\n",
    "}\n",
    "\n",
    "Main.main(null);\n"
   ]
  },
  {
   "cell_type": "markdown",
   "metadata": {},
   "source": [
    "# Unit 3.6"
   ]
  },
  {
   "cell_type": "markdown",
   "metadata": {},
   "source": [
    "## Popcorn Hack\n",
    "\n",
    "\n",
    "1. What is `!(x == 0)` equivalent to?\n",
    "- De Morgan's Law states that the negation of a conjunction (AND) or disjunction (OR) can be expressed as a disjunction or conjunction of the negations. It gives us rules like:\n",
    "  - `!(A && B)` is equivalent to `!A || !B`\n",
    "  - `!(A || B)` is equivalent to `!A && !B`\n",
    "- However, in the expression `!(x == 0)`, we don't have a conjunction or disjunction; we just have a single condition. But we can still apply simple negation rules.\n",
    "- `x == 0` checks if x is equal to 0.\n",
    "- `!(x == 0)` negates that condition, meaning that x is not equal to 0.\n",
    "- So, `!(x == 0)` is equivalent to:\n",
    "  - `x != 0`\n",
    "2. Negate the expression `(x < -5 || x > 10)`.\n",
    "- Here, we are given the expression `(x < -5 || x > 10)` and asked to negate it. We can apply De Morgan's Law to rewrite it.\n",
    "\n",
    "- The original expression is a disjunction (`||`), so we use the rule for negating a disjunction:\n",
    "  - `!(A || B)` is equivalent to `!A && !B`\n",
    "- Now, let’s break down the expression:\n",
    "  - `A` is `x < -5`\n",
    "  - `B` is `x > 10`\n",
    "- Using De Morgan's Law:\n",
    "  - `!(x < -5 || x > 10)` becomes `!(x < -5) && !(x > 10)`\n",
    "- Negating the individual conditions:\n",
    "  - `!(x < -5)` is equivalent to `x >= -5`\n",
    "  - `!(x > 10)` is equivalent to `x <= 10`\n",
    "- Thus, the negation of `(x < -5 || x > 10)` is:\n",
    "  - `(x >= -5 && x <= 10)`\n",
    "3. TLDR:\n",
    "   1. `!(x == 0)` is equivalent to `x != 0.`\n",
    "   2. The negation of `(x < -5 || x > 10)` is `(x >= -5 && x <= 10)`."
   ]
  },
  {
   "cell_type": "markdown",
   "metadata": {},
   "source": [
    "# Unit 3.7"
   ]
  },
  {
   "cell_type": "code",
   "execution_count": null,
   "metadata": {
    "vscode": {
     "languageId": "java"
    }
   },
   "outputs": [],
   "source": [
    "class House {\n",
    "    private String color;\n",
    "    private int size;\n",
    "\n",
    "    public House(String color, int size) {\n",
    "        this.color = color;\n",
    "        this.size = size;\n",
    "    }\n",
    "\n",
    "    // Override equals method to compare House objects by content\n",
    "    @Override\n",
    "    public boolean equals(Object obj) {\n",
    "        if (this == obj) return true;  // Check if same object reference\n",
    "        if (obj == null || getClass() != obj.getClass()) return false;  // Check if same class\n",
    "        House house = (House) obj;\n",
    "        return size == house.size && color.equals(house.color);  // Compare attributes\n",
    "    }\n",
    "}\n",
    "\n",
    "public class Main {\n",
    "    public static void main(String[] args) {\n",
    "        House myHouse = new House(\"green\", 150);\n",
    "        House anikasHouse = new House(\"green\", 150);\n",
    "        House sharonsHouse = new House(\"green\", 150);\n",
    "\n",
    "        // Correct comparison using equals()\n",
    "        System.out.println(myHouse.equals(sharonsHouse));  // This should return true\n",
    "    }\n",
    "}\n"
   ]
  },
  {
   "cell_type": "markdown",
   "metadata": {},
   "source": [
    "Yes, **Sharon's house and your house would be considered the same** according to the implementation of the `House` class.\n",
    "\n",
    "- The `House` class has an overridden `equals()` method that compares two `House` objects based on their attributes, specifically the `color` and `size`.\n",
    "- The `equals()` method first checks if the object references are the same, and if not, it proceeds to compare the `color` and `size` of the houses.\n",
    "\n",
    "\n",
    "- **`myHouse`** is created as `new House(\"green\", 150)`.\n",
    "- **`sharonsHouse`** is created as `new House(\"green\", 150)`.\n",
    "\n",
    "Both houses have the same `color` (\"green\") and `size` (150). Since the `equals()` method compares both these attributes and finds them equal, it will return `true` when you check `myHouse.equals(sharonsHouse)`.\n",
    "\n",
    "According to the `equals()` method, **Sharon's house and your house are the same** because their `color` and `size` match."
   ]
  },
  {
   "cell_type": "markdown",
   "metadata": {},
   "source": [
    "# Unit 3.8 - HW"
   ]
  },
  {
   "cell_type": "code",
   "execution_count": 14,
   "metadata": {
    "vscode": {
     "languageId": "java"
    }
   },
   "outputs": [
    {
     "name": "stdout",
     "output_type": "stream",
     "text": [
      "Enter your age: Enter your annual income: Are you a student? (yes/no): What is your employment type? (full-time, part-time, unemployed): You qualify for Student Discount.\n"
     ]
    }
   ],
   "source": [
    "import java.util.Scanner;\n",
    "\n",
    "public class PrimeClubMembership {\n",
    "    public static void main(String[] args) {\n",
    "        // Create a Scanner object to read user input\n",
    "        Scanner scanner = new Scanner(System.in);\n",
    "\n",
    "        // Prompt user for input\n",
    "        System.out.print(\"Enter your age: \");\n",
    "        int age = Integer.parseInt(scanner.nextLine());\n",
    "\n",
    "        System.out.print(\"Enter your annual income: \");\n",
    "        double income = Double.parseDouble(scanner.nextLine());\n",
    "\n",
    "        System.out.print(\"Are you a student? (yes/no): \");\n",
    "        boolean isStudent = scanner.nextLine().equalsIgnoreCase(\"yes\");\n",
    "\n",
    "        System.out.print(\"What is your employment type? (full-time, part-time, unemployed): \");\n",
    "        String employmentType = scanner.nextLine().toLowerCase();\n",
    "\n",
    "        // Initialize result variables\n",
    "        boolean qualifiesForBasic = age >= 18 && income >= 20000;\n",
    "        boolean qualifiesForPremium = age >= 25 && income >= 50000;\n",
    "        boolean qualifiesForStudent = isStudent;\n",
    "        boolean qualifiesForSenior = age >= 65;\n",
    "\n",
    "        // Check for all memberships and discounts\n",
    "        if (qualifiesForPremium) {\n",
    "            System.out.println(\"You qualify for Premium Membership.\");\n",
    "        } else if (qualifiesForSenior) {\n",
    "            System.out.println(\"You qualify for Senior Discount.\");\n",
    "        } else if (qualifiesForStudent) {\n",
    "            System.out.println(\"You qualify for Student Discount.\");\n",
    "        } else if (qualifiesForBasic) {\n",
    "            System.out.println(\"You qualify for Basic Membership.\");\n",
    "        } else {\n",
    "            System.out.println(\"You do not qualify for any memberships or discounts.\");\n",
    "        }\n",
    "\n",
    "        // Close scanner\n",
    "        scanner.close();\n",
    "    }\n",
    "}\n",
    "\n",
    "PrimeClubMembership.main(null);"
   ]
  }
 ],
 "metadata": {
  "kernelspec": {
   "display_name": "Java",
   "language": "java",
   "name": "java"
  },
  "language_info": {
   "codemirror_mode": "java",
   "file_extension": ".jshell",
   "mimetype": "text/x-java-source",
   "name": "Java",
   "pygments_lexer": "java",
   "version": "17.0.12+7-Ubuntu-1ubuntu222.04"
  }
 },
 "nbformat": 4,
 "nbformat_minor": 2
}
