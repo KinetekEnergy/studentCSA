{
 "cells": [
  {
   "cell_type": "markdown",
   "metadata": {},
   "source": [
    "# Unit 6.1"
   ]
  },
  {
   "cell_type": "markdown",
   "metadata": {},
   "source": [
    "## Popcorn Hack 1"
   ]
  },
  {
   "cell_type": "code",
   "execution_count": 74,
   "metadata": {
    "vscode": {
     "languageId": "java"
    }
   },
   "outputs": [
    {
     "name": "stdout",
     "output_type": "stream",
     "text": [
      "San Diego\n",
      "San Francisco\n",
      "Sacramento\n",
      "4\n"
     ]
    }
   ],
   "source": [
    "String[] city_array = {\"San Diego\", \"Los Angeles\", \"San Francisco\", \"Sacramento\"};\n",
    "\n",
    "System.out.println(city_array[0]);\n",
    "System.out.println(city_array[2]);\n",
    "System.out.println(city_array[3]);\n",
    "\n",
    "city_array[1] = \"Sacaramento\";\n",
    "city_array[3] = \"San Jose\";\n",
    "\n",
    "System.out.println(city_array.length);\n"
   ]
  },
  {
   "cell_type": "markdown",
   "metadata": {},
   "source": [
    "## Popcorn Hack 2"
   ]
  },
  {
   "cell_type": "code",
   "execution_count": 1,
   "metadata": {
    "vscode": {
     "languageId": "java"
    }
   },
   "outputs": [
    {
     "name": "stdout",
     "output_type": "stream",
     "text": [
      "Second element of intArray: 0\n",
      "Second element of stringArray: null\n",
      "Second element of doubleArray: 0.0\n",
      "Second element of booleanArray: false\n"
     ]
    }
   ],
   "source": [
    "// Creating initialized arrays with default values\n",
    "int[] intArray = new int[4];           // defaults to 0\n",
    "String[] stringArray = new String[4];  // defaults to null\n",
    "double[] doubleArray = new double[4];  // defaults to 0.0\n",
    "boolean[] booleanArray = new boolean[4]; // defaults to false\n",
    "\n",
    "// Printing the second element (index 1) of each array\n",
    "System.out.println(\"Second element of intArray: \" + intArray[1]);\n",
    "System.out.println(\"Second element of stringArray: \" + stringArray[1]);\n",
    "System.out.println(\"Second element of doubleArray: \" + doubleArray[1]);\n",
    "System.out.println(\"Second element of booleanArray: \" + booleanArray[1]);"
   ]
  },
  {
   "cell_type": "markdown",
   "metadata": {},
   "source": [
    "## MCQ\n",
    "\n",
    "### 1\n",
    "\n",
    "Consider the following method which is intended to return the position of `find` within the String referenced at the third last index of `arr`.\n",
    "\n",
    "```java\n",
    "public static int findThirdLast(String [] arr, String find) {\n",
    "    return /*missing code*/;\n",
    "} \n",
    "```\n",
    "\n",
    "Which of the following could replace `/*missing code*/` to complete the method as specified? \n",
    "\n",
    "A. `arr[].indexOf(find)` arr[] doesn't correctly reference any specified element\n",
    "B. `arr.indexOf(find)` arr is an array which doesn't support indexOf\n",
    "C. `arr[arr.length].indexOf(find)` this would cause an out of bounds exception\n",
    "D. `arr[arr.length - 3].indexOf(find)` correct. It will get the third last element array\n",
    "E. `arr[arr.length - 2].indexOf(find)` this will get the second last element"
   ]
  },
  {
   "cell_type": "code",
   "execution_count": 2,
   "metadata": {
    "vscode": {
     "languageId": "java"
    }
   },
   "outputs": [
    {
     "name": "stdout",
     "output_type": "stream",
     "text": [
      "1\n"
     ]
    }
   ],
   "source": [
    "public static int findThirdLast(String [] arrtest, String find)\n",
    "{\n",
    "    return arrtest[arrtest.length-3].indexOf(find);\n",
    "}\n",
    "\n",
    "String [] testArray = {\"cat\", \"dog\", \"horse\", \"monkey\", \"snake\", \"elephant\"};\n",
    "int result = findThirdLast(testArray, \"on\");\n",
    "System.out.println(result);"
   ]
  },
  {
   "cell_type": "markdown",
   "metadata": {},
   "source": [
    "### 2\n",
    "\n",
    "Consider the following method: \n",
    "\n",
    "```java\n",
    "public static int mystery(int [] arr) {\n",
    "    return arr[1] + arr[4]/2\n",
    "} \n",
    "```\n",
    "\n",
    "The `mystery` method is called from another method in the same class: `int[] list = {1,9,2,5,6}; int result = mystery(list);`\n",
    "\n",
    "What is stored in result after executing the above code? \n",
    "\n",
    "The code takes in an array of integers. It accesses the second element (index 1). It accesses the fifth element (index 1) and divides that by 2: 6 / 2 = 3. It adds that to the second element: 9 + 3 = 12.\n",
    "\n",
    "A. 2\n",
    "B. 12 (correct)\n",
    "C. 15\n",
    "D. 9\n",
    "E. 8"
   ]
  },
  {
   "cell_type": "code",
   "execution_count": 3,
   "metadata": {
    "vscode": {
     "languageId": "java"
    }
   },
   "outputs": [
    {
     "name": "stdout",
     "output_type": "stream",
     "text": [
      "12\n"
     ]
    }
   ],
   "source": [
    "public static int mystery(int [] myarr)\n",
    "{\n",
    "    return myarr[1] + myarr[4]/2;\n",
    "}\n",
    "int[] list = {1,9,2,5,6};\n",
    "int result = mystery(list);\n",
    "System.out.println(result);\n"
   ]
  },
  {
   "cell_type": "markdown",
   "metadata": {},
   "source": [
    "# Unit 6.2"
   ]
  },
  {
   "cell_type": "markdown",
   "metadata": {},
   "source": [
    "## Popcorn Hack 1"
   ]
  },
  {
   "cell_type": "code",
   "execution_count": 6,
   "metadata": {
    "vscode": {
     "languageId": "java"
    }
   },
   "outputs": [
    {
     "name": "stdout",
     "output_type": "stream",
     "text": [
      "6\n"
     ]
    }
   ],
   "source": [
    "public static int sumOfEvenNumbers(int[] arr) {\n",
    "\tint total = 0;\n",
    "\n",
    "\tfor (int i = 0; i < 5; i++) {\n",
    "        if (arr[i] % 2 == 0) {\n",
    "            total += arr[i];\n",
    "        }        \n",
    "\t}\n",
    "\n",
    "\treturn total;\n",
    "}\n",
    "\n",
    "// Example usage:\n",
    "int[] arr = {1, 2, 3, 4, 5};\n",
    "System.out.println(sumOfEvenNumbers(arr)); // Output: 6"
   ]
  },
  {
   "cell_type": "markdown",
   "metadata": {},
   "source": [
    "## Popcorn Hack 2"
   ]
  },
  {
   "cell_type": "code",
   "execution_count": 1,
   "metadata": {
    "vscode": {
     "languageId": "java"
    }
   },
   "outputs": [
    {
     "name": "stdout",
     "output_type": "stream",
     "text": [
      "3\n"
     ]
    }
   ],
   "source": [
    "public static int countOccurrences(int[] arr, int target) {\n",
    "    int count = 0;\n",
    "    for (int current: arr) {\n",
    "        if (current == target) {\n",
    "            count++;\n",
    "        }\n",
    "    }\n",
    "\n",
    "    return count;\n",
    "}\n",
    "\n",
    "// Example usage:\n",
    "int[] arr = {3, 5, 3, 3, 7, 5};\n",
    "int target = 3;\n",
    "System.out.println(countOccurrences(arr, target)); // Output: 3"
   ]
  },
  {
   "cell_type": "markdown",
   "metadata": {},
   "source": [
    "## Popcorn Hack 3"
   ]
  },
  {
   "cell_type": "code",
   "execution_count": 4,
   "metadata": {
    "vscode": {
     "languageId": "java"
    }
   },
   "outputs": [
    {
     "name": "stdout",
     "output_type": "stream",
     "text": [
      "-2\n"
     ]
    }
   ],
   "source": [
    "public static int firstNegativeIndex(int[] arr) {\n",
    "    int return_ = 0;\n",
    "    for (int current : arr) {\n",
    "        if (current < 0) {\n",
    "            return_ = current;\n",
    "        }\n",
    "    }\n",
    "\n",
    "    return return_;\n",
    "}\n",
    "\n",
    "// Example usage:\n",
    "int[] arr = {4, 7, -2, 5};\n",
    "System.out.println(firstNegativeIndex(arr)); // Output: -2"
   ]
  },
  {
   "cell_type": "markdown",
   "metadata": {},
   "source": [
    "## MCQ"
   ]
  },
  {
   "cell_type": "markdown",
   "metadata": {},
   "source": [
    "### 1"
   ]
  },
  {
   "cell_type": "code",
   "execution_count": 5,
   "metadata": {
    "vscode": {
     "languageId": "java"
    }
   },
   "outputs": [
    {
     "name": "stdout",
     "output_type": "stream",
     "text": [
      "3_6_4_"
     ]
    }
   ],
   "source": [
    "String[] list = {\"red\", \"yellow\", \"blue\"};\n",
    "for (int i = 0; i < list.length; i++) {\n",
    "    System.out.print(list[i].length() + \"_\");\n",
    "}"
   ]
  },
  {
   "cell_type": "markdown",
   "metadata": {},
   "source": []
  },
  {
   "cell_type": "markdown",
   "metadata": {},
   "source": [
    "C: 3_6_4_ will be displayed. It finds the length of each word and appends an \"_\" to it. It prints that."
   ]
  },
  {
   "cell_type": "code",
   "execution_count": 27,
   "metadata": {
    "vscode": {
     "languageId": "java"
    }
   },
   "outputs": [
    {
     "name": "stdout",
     "output_type": "stream",
     "text": [
      "13\n",
      "3\n",
      "-333\n"
     ]
    }
   ],
   "source": [
    "int[] numbers = {13, 33, 3, -3, -333};\n",
    "\n",
    "for (int i = 0; i < numbers.length; i += 2) {\n",
    "    System.out.println(numbers[i]);\n",
    "}\n",
    "\n"
   ]
  },
  {
   "cell_type": "markdown",
   "metadata": {},
   "source": [
    "E: int i = 0; i < numbers.length; i+=2. It skips every other number and prints."
   ]
  },
  {
   "cell_type": "markdown",
   "metadata": {},
   "source": [
    "### 1"
   ]
  },
  {
   "cell_type": "code",
   "execution_count": null,
   "metadata": {
    "vscode": {
     "languageId": "java"
    }
   },
   "outputs": [],
   "source": [
    "public static void reverseArray (double [] arr) {\n",
    "    for (int i = 0; i < arr.length; i++) {\n",
    "        double temp = arr [i];\n",
    "        arr[i] = arr[arr.length-1-i];\n",
    "        arr[arr.length-1-i] = temp;\n",
    "    }\n",
    "}"
   ]
  },
  {
   "cell_type": "markdown",
   "metadata": {},
   "source": [
    "The method is supposed to reverse the array.\n",
    "\n",
    "(A) Change the loop condition to:\n",
    "\n",
    "`i < arr. length - 1`: iterates the entire array until `arr.length - 2` which doesn't fix the issue\n",
    "\n",
    "(B) Change the loop condition to:\n",
    "\n",
    "`i < arr.length/2`: correct solution since it iterates to the middle of the array and swaps the correct elements. If we have a 5 element array, it swaps 0 and 4, 1 and 3, 2 and 2. It stops. This reverses the array.\n",
    "\n",
    "(C) Change the loop condition to:\n",
    "\n",
    "`i < arr.length/2 - 1`: stops loop too early\n",
    "\n",
    "(D) Change lines 6 and 7 to:\n",
    "\n",
    "`arr[1] = arr[arr.length-1];`\n",
    "\n",
    "`arr [arr.length-i] = temp;`\n",
    "\n",
    "Only manipulates `arr[1]`.\n",
    "\n",
    "(E) Change the loop body to:\n",
    "\n",
    "`arr[1] = arr[arr.length-1-1];`\n",
    "\n",
    "`arr [arr.length-1-1] = arr[i];`\n",
    "\n",
    "Changes a specific element again instead of swapping all the elements."
   ]
  },
  {
   "cell_type": "markdown",
   "metadata": {},
   "source": [
    "## Homework Hack\n",
    "\n",
    "Problem Statement: Given an array of integers, write a method to find the second largest unique element in the array. If the array has fewer than two distinct elements, return -1."
   ]
  },
  {
   "cell_type": "code",
   "execution_count": 6,
   "metadata": {
    "vscode": {
     "languageId": "java"
    }
   },
   "outputs": [
    {
     "name": "stdout",
     "output_type": "stream",
     "text": [
      "6\n",
      "-1\n"
     ]
    }
   ],
   "source": [
    "import java.util.*;\n",
    "\n",
    "\n",
    "\n",
    "public static int findSecondLargest(int[] arr) {\n",
    "    // Edge case: If the array has less than two elements, return -1\n",
    "    if (arr.length < 2) {\n",
    "        return -1;\n",
    "    }\n",
    "\n",
    "    // Use a TreeSet to store unique elements in sorted order\n",
    "    TreeSet<Integer> uniqueElements = new TreeSet<>();\n",
    "    for (int num : arr) {\n",
    "        uniqueElements.add(num);\n",
    "    }\n",
    "\n",
    "    // If there are fewer than two unique elements, return -1\n",
    "    if (uniqueElements.size() < 2) {\n",
    "        return -1;\n",
    "    }\n",
    "\n",
    "    // Remove the largest element\n",
    "    uniqueElements.pollLast();\n",
    "\n",
    "    // The new largest element is the second largest original element\n",
    "    return uniqueElements.last();\n",
    "}\n",
    "\n",
    "\n",
    "int[] arr1 = {3, 1, 4, 1, 5, 9, 2, 6};\n",
    "System.out.println(findSecondLargest(arr1)); // Output: 6\n",
    "\n",
    "int[] arr2 = {10, 10, 10, 10};\n",
    "System.out.println(findSecondLargest(arr2)); // Output: -1\n",
    "\n",
    "\n"
   ]
  },
  {
   "cell_type": "markdown",
   "metadata": {},
   "source": [
    "# Unit 6.3"
   ]
  },
  {
   "cell_type": "markdown",
   "metadata": {},
   "source": [
    "## Popcorn Hack 1"
   ]
  },
  {
   "cell_type": "code",
   "execution_count": 24,
   "metadata": {
    "vscode": {
     "languageId": "java"
    }
   },
   "outputs": [
    {
     "name": "stdout",
     "output_type": "stream",
     "text": [
      "Java\n",
      "Python\n",
      "Markdown\n",
      "C++\n",
      "Go\n",
      "JavaScript\n",
      "HTML\n"
     ]
    }
   ],
   "source": [
    "String[] array = {\"Java\", \"Python\", \"Markdown\", \"C++\", \"Go\", \"JavaScript\", \"HTML\"};\n",
    "\n",
    "for (int i = 0; i < array.length; i++) {\n",
    "    System.out.println(array[i]);\n",
    "};"
   ]
  },
  {
   "cell_type": "markdown",
   "metadata": {},
   "source": [
    "## Popcorn Hack 2"
   ]
  },
  {
   "cell_type": "code",
   "execution_count": 29,
   "metadata": {
    "vscode": {
     "languageId": "java"
    }
   },
   "outputs": [
    {
     "name": "stdout",
     "output_type": "stream",
     "text": [
      "3\n",
      "5\n",
      "6\n",
      "3\n",
      "10\n"
     ]
    }
   ],
   "source": [
    "private String[] myArray = {\n",
    "    \"And\", \"Table\", \"Shirts\", \"Tea\", \"School Day\"\n",
    "};\n",
    "\n",
    "for (String currentWord : myArray) {\n",
    "    System.out.println(currentWord.length());\n",
    "}\n"
   ]
  },
  {
   "cell_type": "markdown",
   "metadata": {},
   "source": [
    "D: System.out.println(currentWord.length());\n",
    "\n",
    "It prints out the currentWord's length.\n"
   ]
  },
  {
   "cell_type": "markdown",
   "metadata": {},
   "source": [
    "## Popcorn hack 3"
   ]
  },
  {
   "cell_type": "code",
   "execution_count": 7,
   "metadata": {
    "vscode": {
     "languageId": "java"
    }
   },
   "outputs": [
    {
     "name": "stdout",
     "output_type": "stream",
     "text": [
      "The index of 'a' in Apple is: 0\n",
      "The index of 'a' in Banana is: 1\n",
      "The index of 'a' in Orange is: 2\n"
     ]
    }
   ],
   "source": [
    "String[] fruits = {\"Apple\", \"Banana\", \"Orange\"};\n",
    "\n",
    "for (String fruit : fruits) {\n",
    "    // Find the index of the letter 'a' in each fruit\n",
    "    int index = fruit.toLowerCase().indexOf('a');  // Using toLowerCase to make it case-insensitive\n",
    "    System.out.println(\"The index of 'a' in \" + fruit + \" is: \" + index);\n",
    "}"
   ]
  },
  {
   "cell_type": "markdown",
   "metadata": {},
   "source": [
    "## Popcorn Hack 4"
   ]
  },
  {
   "cell_type": "code",
   "execution_count": null,
   "metadata": {
    "vscode": {
     "languageId": "java"
    }
   },
   "outputs": [],
   "source": [
    "String[] myArray = {\"Object 1\", \"Object 2\", \"Object 3\", \"Object 4\", \"Object 5\"};\n",
    "\n",
    "for (currentWord: myArray) {\n",
    "    System.out(currentWord)\n",
    "};\n",
    "\n",
    "// There are 3 errors, can you find them?"
   ]
  },
  {
   "cell_type": "markdown",
   "metadata": {},
   "source": [
    "1. For loop needs a declaration: `for (String currentWord : myArray) {`. Notice how `String` was added.\n",
    "2. Print syntax needs to be fixed: `System.out.println(currentWord);`. It was `System.out(currentWord)` before.\n",
    "3. Add a missing semicolon: `System.out.println(currentWord);`. It was `System.out(currentWord)` before."
   ]
  },
  {
   "cell_type": "code",
   "execution_count": 10,
   "metadata": {
    "vscode": {
     "languageId": "java"
    }
   },
   "outputs": [
    {
     "name": "stdout",
     "output_type": "stream",
     "text": [
      "Object 1\n",
      "Object 2\n",
      "Object 3\n",
      "Object 4\n",
      "Object 5\n"
     ]
    }
   ],
   "source": [
    "String[] myArray = {\"Object 1\", \"Object 2\", \"Object 3\", \"Object 4\", \"Object 5\"};\n",
    "\n",
    "for (String currentWord : myArray) {\n",
    "    System.out.println(currentWord);\n",
    "}\n"
   ]
  },
  {
   "cell_type": "markdown",
   "metadata": {},
   "source": [
    "## Final Hack"
   ]
  },
  {
   "cell_type": "markdown",
   "metadata": {},
   "source": [
    "Add to the code below to create a average grade calculator (using an enhanced for loop)"
   ]
  },
  {
   "cell_type": "code",
   "execution_count": null,
   "metadata": {
    "vscode": {
     "languageId": "java"
    }
   },
   "outputs": [],
   "source": [
    "Integer[] grades = {88, 93, 55, 68, 77};\n",
    "\n",
    "Scanner userGrades = new Scanner(System.in);\n",
    "System.out.print(\"Enter a grade: \");\n",
    "int grade = Integer.parseInt(userGrades.nextLine());\n",
    "\n",
    "// Add code here to take the average\n",
    "\n",
    "grades = Arrays.copyOf(grades, grades.length + 1);\n",
    "grades[grades.length - 1] = grade;\n",
    "System.out.println(Arrays.toString(grades));"
   ]
  },
  {
   "cell_type": "code",
   "execution_count": 12,
   "metadata": {
    "vscode": {
     "languageId": "java"
    }
   },
   "outputs": [
    {
     "name": "stdout",
     "output_type": "stream",
     "text": [
      "Enter a grade: Updated grades: [88, 93, 55, 68, 77, 100]\n",
      "Average grade: 80.16666666666667\n"
     ]
    }
   ],
   "source": [
    "import java.util.Arrays;\n",
    "import java.util.Scanner;\n",
    "\n",
    "// Initial grades\n",
    "Integer[] grades = {88, 93, 55, 68, 77};\n",
    "\n",
    "// Take user input for a new grade\n",
    "Scanner userGrades = new Scanner(System.in);\n",
    "System.out.print(\"Enter a grade: \");\n",
    "int grade = Integer.parseInt(userGrades.nextLine());\n",
    "\n",
    "// Add the new grade to the array\n",
    "grades = Arrays.copyOf(grades, grades.length + 1);\n",
    "grades[grades.length - 1] = grade;\n",
    "System.out.println(\"Updated grades: \" + Arrays.toString(grades));\n",
    "\n",
    "// Calculate the average using an enhanced for loop\n",
    "int sum = 0;\n",
    "for (int g : grades) {\n",
    "    sum += g;\n",
    "}\n",
    "double average = sum / (double) grades.length;  // Cast to double for decimal precision\n",
    "System.out.println(\"Average grade: \" + average);\n",
    "    \n",
    "\n"
   ]
  },
  {
   "cell_type": "markdown",
   "metadata": {},
   "source": [
    "# Unit 6.4"
   ]
  },
  {
   "cell_type": "markdown",
   "metadata": {},
   "source": [
    "## Popcorn Hack 1"
   ]
  },
  {
   "cell_type": "code",
   "execution_count": 18,
   "metadata": {
    "vscode": {
     "languageId": "java"
    }
   },
   "outputs": [],
   "source": [
    "public class MaxMinInArray {\n",
    "\n",
    "    public static void findMaxAndMin(int[] array) {\n",
    "        if (array == null || array.length == 0) {\n",
    "            System.out.println(\"Array is empty\");\n",
    "            return;\n",
    "        }\n",
    "\n",
    "        int max = array[0];\n",
    "        int min = array[0];\n",
    "\n",
    "        // Loop through the array, starting from the first element\n",
    "        for (int i = 0; i < array.length - 1; i++) {  // Iterate until the second-last element\n",
    "            // Check if the current element is greater than the next one\n",
    "            if (array[i] > array[i + 1]) {\n",
    "                System.out.println(\"Increase: \" + array[i] + \" > \" + array[i + 1]);\n",
    "            }\n",
    "        }\n",
    "\n",
    "        // Loop to find max and min\n",
    "        for (int i = 1; i < array.length; i++) {\n",
    "            if (array[i] > max) {\n",
    "                max = array[i];  \n",
    "            }\n",
    "            if (array[i] < min) {\n",
    "                min = array[i];  \n",
    "            }\n",
    "        }\n",
    "\n",
    "        System.out.println(\"Maximum value: \" + max);\n",
    "        System.out.println(\"Minimum value: \" + min);\n",
    "    }\n",
    "\n",
    "    public static void main(String[] args) {\n",
    "        int[] array = {3, 5, 7, 2, 8, -1, 4, 0, 12};\n",
    "        findMaxAndMin(array);\n",
    "    }\n",
    "}\n"
   ]
  },
  {
   "cell_type": "markdown",
   "metadata": {},
   "source": [
    "## Homework Hack 1"
   ]
  },
  {
   "cell_type": "code",
   "execution_count": 20,
   "metadata": {
    "vscode": {
     "languageId": "java"
    }
   },
   "outputs": [
    {
     "name": "stdout",
     "output_type": "stream",
     "text": [
      "5\n",
      "4\n",
      "3\n",
      "2\n",
      "1\n",
      "0\n"
     ]
    }
   ],
   "source": [
    "Integer[] myArray = {0, 1, 2, 3, 4, 5};\n",
    "\n",
    "// Loop through the array in reverse order\n",
    "for (int i = myArray.length - 1; i >= 0; i--) {\n",
    "    System.out.println(myArray[i]);\n",
    "}"
   ]
  },
  {
   "cell_type": "markdown",
   "metadata": {},
   "source": [
    "## Homework Hack 2"
   ]
  },
  {
   "cell_type": "code",
   "execution_count": 24,
   "metadata": {
    "vscode": {
     "languageId": "java"
    }
   },
   "outputs": [],
   "source": [
    "public class WordShifter {  \n",
    "    public static void main(String[] args) {\n",
    "        String[] words = {\"alpha\", \"beta\", \"gamma\", \"delta\"};\n",
    "        int shiftWord = 2;\n",
    "\n",
    "        // Shift the words to the left by the specified number of positions\n",
    "        for (int count = 0; count < shiftWord; count++) {\n",
    "            String temp = words[0];\n",
    "\n",
    "            for (int index = 0; index < words.length - 1; index++) {\n",
    "                words[index] = words[index + 1];\n",
    "            }\n",
    "            \n",
    "            words[words.length - 1] = temp;\n",
    "        }\n",
    "\n",
    "        // Print every other word\n",
    "        for (int i = 0; i < words.length; i += 2) {\n",
    "            System.out.print(words[i] + \" \");\n",
    "        }\n",
    "    }\n",
    "}\n"
   ]
  }
 ],
 "metadata": {
  "kernelspec": {
   "display_name": "Java",
   "language": "java",
   "name": "java"
  },
  "language_info": {
   "codemirror_mode": "java",
   "file_extension": ".jshell",
   "mimetype": "text/x-java-source",
   "name": "Java",
   "pygments_lexer": "java",
   "version": "17.0.12+7-Ubuntu-1ubuntu222.04"
  }
 },
 "nbformat": 4,
 "nbformat_minor": 2
}
