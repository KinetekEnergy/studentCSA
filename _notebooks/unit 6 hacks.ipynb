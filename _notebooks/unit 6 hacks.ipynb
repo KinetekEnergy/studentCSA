{
 "cells": [
  {
   "cell_type": "markdown",
   "metadata": {},
   "source": [
    "# Unit 6.1"
   ]
  },
  {
   "cell_type": "markdown",
   "metadata": {},
   "source": [
    "## Popcorn Hack 1"
   ]
  },
  {
   "cell_type": "code",
   "execution_count": 74,
   "metadata": {
    "vscode": {
     "languageId": "java"
    }
   },
   "outputs": [
    {
     "name": "stdout",
     "output_type": "stream",
     "text": [
      "San Diego\n",
      "San Francisco\n",
      "Sacramento\n",
      "4\n"
     ]
    }
   ],
   "source": [
    "String[] city_array = {\"San Diego\", \"Los Angeles\", \"San Francisco\", \"Sacramento\"};\n",
    "\n",
    "System.out.println(city_array[0]);\n",
    "System.out.println(city_array[2]);\n",
    "System.out.println(city_array[3]);\n",
    "\n",
    "city_array[1] = \"Sacaramento\";\n",
    "city_array[3] = \"San Jose\";\n",
    "\n",
    "System.out.println(city_array.length);\n"
   ]
  },
  {
   "cell_type": "markdown",
   "metadata": {},
   "source": [
    "## Popcorn Hack 2"
   ]
  },
  {
   "cell_type": "code",
   "execution_count": 82,
   "metadata": {
    "vscode": {
     "languageId": "java"
    }
   },
   "outputs": [
    {
     "ename": "CompilationException",
     "evalue": "",
     "output_type": "error",
     "traceback": [
      "\u001b[1m\u001b[30m|   \u001b[1m\u001b[30marrI = new \u001b[0m\u001b[1m\u001b[30m\u001b[41marrI\u001b[0m\u001b[1m\u001b[30m[3];\u001b[0m",
      "\u001b[1m\u001b[31mcannot find symbol\u001b[0m",
      "\u001b[1m\u001b[31m  symbol:   class arrI\u001b[0m",
      ""
     ]
    }
   ],
   "source": [
    "int[] arrI;\n",
    "arrI = new arrI[3];\n",
    "\n",
    "String[] arrS;\n",
    "arr2 = new arrS[3];\n",
    "\n",
    "double[] arrD;\n",
    "arrD = new arrD[3];\n",
    "\n",
    "boolean[] arrB;\n",
    "arrB = new arrB[3];\n",
    "\n",
    "\n",
    "System.out.println(arrI[1]);\n",
    "System.out.println(arrS[1]);\n",
    "System.out.println(arrD[1]);\n",
    "System.out.println(arrB[1]);"
   ]
  },
  {
   "cell_type": "markdown",
   "metadata": {},
   "source": [
    "# Unit 6.2"
   ]
  },
  {
   "cell_type": "markdown",
   "metadata": {},
   "source": [
    "## Popcorn Hack 1"
   ]
  },
  {
   "cell_type": "code",
   "execution_count": 6,
   "metadata": {
    "vscode": {
     "languageId": "java"
    }
   },
   "outputs": [
    {
     "name": "stdout",
     "output_type": "stream",
     "text": [
      "6\n"
     ]
    }
   ],
   "source": [
    "public static int sumOfEvenNumbers(int[] arr) {\n",
    "\tint total = 0;\n",
    "\n",
    "\tfor (int i = 0; i < 5; i++) {\n",
    "        if (arr[i] % 2 == 0) {\n",
    "            total += arr[i];\n",
    "        }        \n",
    "\t}\n",
    "\n",
    "\treturn total;\n",
    "}\n",
    "\n",
    "// Example usage:\n",
    "int[] arr = {1, 2, 3, 4, 5};\n",
    "System.out.println(sumOfEvenNumbers(arr)); // Output: 6"
   ]
  },
  {
   "cell_type": "markdown",
   "metadata": {},
   "source": [
    "## Popcorn Hack 2"
   ]
  },
  {
   "cell_type": "code",
   "execution_count": 1,
   "metadata": {
    "vscode": {
     "languageId": "java"
    }
   },
   "outputs": [
    {
     "name": "stdout",
     "output_type": "stream",
     "text": [
      "3\n"
     ]
    }
   ],
   "source": [
    "public static int countOccurrences(int[] arr, int target) {\n",
    "    int count = 0;\n",
    "    for (int current: arr) {\n",
    "        if (current == target) {\n",
    "            count++;\n",
    "        }\n",
    "    }\n",
    "\n",
    "    return count;\n",
    "}\n",
    "\n",
    "// Example usage:\n",
    "int[] arr = {3, 5, 3, 3, 7, 5};\n",
    "int target = 3;\n",
    "System.out.println(countOccurrences(arr, target)); // Output: 3"
   ]
  },
  {
   "cell_type": "markdown",
   "metadata": {},
   "source": [
    "## Popcorn Hack 3"
   ]
  },
  {
   "cell_type": "code",
   "execution_count": 4,
   "metadata": {
    "vscode": {
     "languageId": "java"
    }
   },
   "outputs": [
    {
     "name": "stdout",
     "output_type": "stream",
     "text": [
      "-2\n"
     ]
    }
   ],
   "source": [
    "public static int firstNegativeIndex(int[] arr) {\n",
    "    int return_ = 0;\n",
    "    for (int current : arr) {\n",
    "        if (current < 0) {\n",
    "            return_ = current;\n",
    "        }\n",
    "    }\n",
    "\n",
    "    return return_;\n",
    "}\n",
    "\n",
    "// Example usage:\n",
    "int[] arr = {4, 7, -2, 5};\n",
    "System.out.println(firstNegativeIndex(arr)); // Output: -2"
   ]
  },
  {
   "cell_type": "markdown",
   "metadata": {},
   "source": [
    "## MCQ"
   ]
  },
  {
   "cell_type": "code",
   "execution_count": 5,
   "metadata": {
    "vscode": {
     "languageId": "java"
    }
   },
   "outputs": [
    {
     "name": "stdout",
     "output_type": "stream",
     "text": [
      "3_6_4_"
     ]
    }
   ],
   "source": [
    "String[] list = {\"red\", \"yellow\", \"blue\"};\n",
    "for (int i = 0; i < list.length; i++) {\n",
    "    System.out.print(list[i].length() + \"_\");\n",
    "}"
   ]
  },
  {
   "cell_type": "markdown",
   "metadata": {},
   "source": [
    "C: 3_6_4_ will be displayed. It finds the length of each word and appends an \"_\" to it. It prints that."
   ]
  },
  {
   "cell_type": "code",
   "execution_count": 27,
   "metadata": {
    "vscode": {
     "languageId": "java"
    }
   },
   "outputs": [
    {
     "name": "stdout",
     "output_type": "stream",
     "text": [
      "13\n",
      "3\n",
      "-333\n"
     ]
    }
   ],
   "source": [
    "int[] numbers = {13, 33, 3, -3, -333};\n",
    "\n",
    "for (int i = 0; i < numbers.length; i += 2) {\n",
    "    System.out.println(numbers[i]);\n",
    "}\n",
    "\n"
   ]
  },
  {
   "cell_type": "markdown",
   "metadata": {},
   "source": [
    "E: int i = 0; i < numbers.length; i+=2. It skips every other number and prints."
   ]
  },
  {
   "cell_type": "markdown",
   "metadata": {},
   "source": [
    "# Unit 6.3"
   ]
  },
  {
   "cell_type": "markdown",
   "metadata": {},
   "source": [
    "## Popcorn Hack 1"
   ]
  },
  {
   "cell_type": "code",
   "execution_count": 24,
   "metadata": {
    "vscode": {
     "languageId": "java"
    }
   },
   "outputs": [
    {
     "name": "stdout",
     "output_type": "stream",
     "text": [
      "Java\n",
      "Python\n",
      "Markdown\n",
      "C++\n",
      "Go\n",
      "JavaScript\n",
      "HTML\n"
     ]
    }
   ],
   "source": [
    "String[] array = {\"Java\", \"Python\", \"Markdown\", \"C++\", \"Go\", \"JavaScript\", \"HTML\"};\n",
    "\n",
    "for (int i = 0; i < array.length; i++) {\n",
    "    System.out.println(array[i]);\n",
    "};"
   ]
  },
  {
   "cell_type": "markdown",
   "metadata": {},
   "source": [
    "## Popcorn Hack 2"
   ]
  },
  {
   "cell_type": "code",
   "execution_count": 29,
   "metadata": {
    "vscode": {
     "languageId": "java"
    }
   },
   "outputs": [
    {
     "name": "stdout",
     "output_type": "stream",
     "text": [
      "3\n",
      "5\n",
      "6\n",
      "3\n",
      "10\n"
     ]
    }
   ],
   "source": [
    "private String[] myArray = {\n",
    "    \"And\", \"Table\", \"Shirts\", \"Tea\", \"School Day\"\n",
    "};\n",
    "\n",
    "for (String currentWord : myArray) {\n",
    "    System.out.println(currentWord.length());\n",
    "}\n"
   ]
  },
  {
   "cell_type": "markdown",
   "metadata": {},
   "source": [
    "D: System.out.println(currentWord.length());\n",
    "\n",
    "It prints out the currentWord's length.\n"
   ]
  },
  {
   "cell_type": "markdown",
   "metadata": {},
   "source": [
    "## Popcorn hack 3"
   ]
  },
  {
   "cell_type": "code",
   "execution_count": null,
   "metadata": {
    "vscode": {
     "languageId": "java"
    }
   },
   "outputs": [],
   "source": [
    "String[] fruits = {\"Apple\", \"Banana\", \"Orange\"};\n",
    "\n",
    "for (String fruit: fruits) {\n",
    "    // Find the index of the letter 'a' in each fruit\n",
    "};"
   ]
  },
  {
   "cell_type": "markdown",
   "metadata": {},
   "source": [
    "## Popcorn Hack 4"
   ]
  },
  {
   "cell_type": "code",
   "execution_count": null,
   "metadata": {
    "vscode": {
     "languageId": "java"
    }
   },
   "outputs": [],
   "source": [
    "String[] myArray = {\"Object 1\", \"Object 2\", \"Object 3\", \"Object 4\", \"Object 5\"};\n",
    "\n",
    "for (currentWord: myArray) {\n",
    "    System.out(currentWord)\n",
    "};\n",
    "\n",
    "// There are 3 errors, can you find them?"
   ]
  },
  {
   "cell_type": "markdown",
   "metadata": {},
   "source": [
    "## Final Hack"
   ]
  },
  {
   "cell_type": "code",
   "execution_count": null,
   "metadata": {
    "vscode": {
     "languageId": "java"
    }
   },
   "outputs": [],
   "source": [
    "Integer[] grades = {88, 93, 55, 68, 77};\n",
    "\n",
    "Scanner userGrades = new Scanner(System.in);\n",
    "System.out.print(\"Enter a grade: \");\n",
    "int grade = Integer.parseInt(userGrades.nextLine());\n",
    "\n",
    "// Add code here to take the average\n",
    "\n",
    "grades = Arrays.copyOf(grades, grades.length + 1);\n",
    "grades[grades.length - 1] = grade;\n",
    "System.out.println(Arrays.toString(grades));"
   ]
  },
  {
   "cell_type": "markdown",
   "metadata": {},
   "source": [
    "# Unit 6.4"
   ]
  },
  {
   "cell_type": "markdown",
   "metadata": {},
   "source": [
    "## Popcorn Hack 1"
   ]
  },
  {
   "cell_type": "code",
   "execution_count": 45,
   "metadata": {
    "vscode": {
     "languageId": "java"
    }
   },
   "outputs": [
    {
     "name": "stdout",
     "output_type": "stream",
     "text": [
      "increase\n"
     ]
    },
    {
     "ename": "EvalException",
     "evalue": "Index 9 out of bounds for length 9",
     "output_type": "error",
     "traceback": [
      "\u001b[1m\u001b[31m---------------------------------------------------------------------------\u001b[0m",
      "\u001b[1m\u001b[31mjava.lang.ArrayIndexOutOfBoundsException: Index 9 out of bounds for length 9\u001b[0m",
      "\u001b[1m\u001b[31m\tat MaxMinInArray.findMaxAndMin(#46:16)\u001b[0m",
      "\u001b[1m\u001b[31m\tat MaxMinInArray.main(#46:38)\u001b[0m",
      "\u001b[1m\u001b[31m\tat .(#62:1)\u001b[0m"
     ]
    }
   ],
   "source": [
    "public class MaxMinInArray {\n",
    "\n",
    "    public static void findMaxAndMin(int[] array) {\n",
    "       \n",
    "        if (array == null || array.length == 0) {\n",
    "            System.out.println(\"Array is empty\");\n",
    "            return;\n",
    "        }\n",
    "\n",
    "        int max = array[0];\n",
    "        int min = array[0];\n",
    "\n",
    "        \n",
    "        for (int i = 0; i < array.length; i++) {\n",
    "            if (i != 9) {\n",
    "                if (array[i] < array[i+= 1]) {\n",
    "                    System.out.println(\"increase\");\n",
    "                }\n",
    "            }\n",
    "\n",
    "            if (array[i] > max) {\n",
    "                max = array[i];  \n",
    "            }\n",
    "            if (array[i] < min) {\n",
    "                min = array[i];  \n",
    "            }\n",
    "        }\n",
    "\n",
    "        System.out.println(\"Maximum value: \" + max);\n",
    "        System.out.println(\"Minimum value: \" + min);\n",
    "    }\n",
    "\n",
    "    public static void main(String[] args) {\n",
    "     \n",
    "        int[] array = {3, 5, 7, 2, 8, -1, 4, 0, 12};\n",
    "\n",
    "        \n",
    "        findMaxAndMin(array);\n",
    "    }\n",
    "}\n",
    "MaxMinInArray.main(null)"
   ]
  },
  {
   "cell_type": "markdown",
   "metadata": {},
   "source": [
    "## Homework Hack 1"
   ]
  },
  {
   "cell_type": "code",
   "execution_count": 69,
   "metadata": {
    "vscode": {
     "languageId": "java"
    }
   },
   "outputs": [
    {
     "name": "stdout",
     "output_type": "stream",
     "text": [
      "6\n",
      "5\n",
      "4\n",
      "3\n",
      "2\n"
     ]
    }
   ],
   "source": [
    "// HW Hack: Go through the array in reverse order and output each object\n",
    "\n",
    "Integer[] myArray = {0, 1, 2, 3, 4, 5};\n",
    "\n",
    "\n",
    "for (int i = myArray.length; i > 1; i-= 1) {\n",
    "    System.out.println(i);\n",
    "};"
   ]
  },
  {
   "cell_type": "markdown",
   "metadata": {},
   "source": [
    "## Homework Hack 2"
   ]
  },
  {
   "cell_type": "code",
   "execution_count": 46,
   "metadata": {
    "vscode": {
     "languageId": "java"
    }
   },
   "outputs": [
    {
     "name": "stdout",
     "output_type": "stream",
     "text": [
      "gamma delta alpha beta "
     ]
    }
   ],
   "source": [
    "// HW Hack: Print words while skipping every other word (“Alpha”, “Gamma”, “Beta”, “Delta”)\n",
    "\n",
    "public class WordShifter {  \n",
    "    public static void main(String[] args) {\n",
    "        String[] words = {\"alpha\", \"beta\", \"gamma\", \"delta\"};\n",
    "        int shiftWord = 2;\n",
    "\n",
    "        for (int count = 0; count < shiftWord; count++) {\n",
    "            String temp = words[0];\n",
    "\n",
    "            for (int index = 0; index < words.length - 1; index++) {\n",
    "                words[index] = words[index + 1];\n",
    "            }\n",
    "            \n",
    "            words[words.length - 1] = temp;\n",
    "        }\n",
    "\n",
    "        for (String word : words) {\n",
    "            System.out.print(word + \" \");\n",
    "        }\n",
    "    }\n",
    "}\n",
    "WordShifter.main(null)"
   ]
  }
 ],
 "metadata": {
  "kernelspec": {
   "display_name": "Java",
   "language": "java",
   "name": "java"
  },
  "language_info": {
   "codemirror_mode": "java",
   "file_extension": ".jshell",
   "mimetype": "text/x-java-source",
   "name": "Java",
   "pygments_lexer": "java",
   "version": "17.0.11-internal+0-adhoc..src"
  }
 },
 "nbformat": 4,
 "nbformat_minor": 2
}
