{
 "cells": [
  {
   "cell_type": "markdown",
   "metadata": {},
   "source": [
    "## Popcorn Hack 1"
   ]
  },
  {
   "cell_type": "code",
   "execution_count": 6,
   "metadata": {
    "vscode": {
     "languageId": "java"
    }
   },
   "outputs": [
    {
     "name": "stdout",
     "output_type": "stream",
     "text": [
      "6\n"
     ]
    }
   ],
   "source": [
    "public static int sumOfEvenNumbers(int[] arr) {\n",
    "\tint total = 0;\n",
    "\n",
    "\tfor (int i = 0; i < 5; i++) {\n",
    "        if (arr[i] % 2 == 0) {\n",
    "            total += arr[i];\n",
    "        }        \n",
    "\t}\n",
    "\n",
    "\treturn total;\n",
    "}\n",
    "\n",
    "// Example usage:\n",
    "int[] arr = {1, 2, 3, 4, 5};\n",
    "System.out.println(sumOfEvenNumbers(arr)); // Output: 6"
   ]
  }
 ],
 "metadata": {
  "kernelspec": {
   "display_name": "Java",
   "language": "java",
   "name": "java"
  },
  "language_info": {
   "codemirror_mode": "java",
   "file_extension": ".jshell",
   "mimetype": "text/x-java-source",
   "name": "Java",
   "pygments_lexer": "java",
   "version": "17.0.11-internal+0-adhoc..src"
  }
 },
 "nbformat": 4,
 "nbformat_minor": 2
}
