{
 "cells": [
  {
   "cell_type": "markdown",
   "metadata": {},
   "source": [
    "# Unit 7.1"
   ]
  },
  {
   "cell_type": "markdown",
   "metadata": {},
   "source": [
    "## Popcorn Hack 1"
   ]
  },
  {
   "cell_type": "code",
   "execution_count": null,
   "metadata": {
    "vscode": {
     "languageId": "java"
    }
   },
   "outputs": [],
   "source": [
    "import java.util.ArrayList;\n",
    "\n",
    "ArrayList<String> awesomeword = new ArrayList(); \n",
    "ArrayList<Int> coolnumbers = new ArrayList();\n",
    "ArrayList<Boolean> truefalse = new ArrayList();"
   ]
  },
  {
   "cell_type": "markdown",
   "metadata": {},
   "source": [
    "When using ArrayLists, you need to specify the type in the <>. For the `coolnumbers`, there is `Int` which isn't a valid type. You need to write `Integer` instead. For all of the above, you need to write `new ArrayList()<variable type>();`, not just `new ArrayList();`."
   ]
  },
  {
   "cell_type": "code",
   "execution_count": null,
   "metadata": {
    "vscode": {
     "languageId": "java"
    }
   },
   "outputs": [],
   "source": [
    "import java.util.ArrayList;\n",
    "\n",
    "// fixed code\n",
    "ArrayList<String> awesomeword = new ArrayList<String>(); \n",
    "ArrayList<Integer> coolnumbers = new ArrayList<Integer>(); \n",
    "ArrayList<Boolean> truefalse = new ArrayList<Boolean>();"
   ]
  },
  {
   "cell_type": "markdown",
   "metadata": {},
   "source": [
    "## Popcorn Hack 2\n",
    "\n",
    "Create 2 ArrayLists, one with an integer type called “sritestgrades” and other string type called “srihobbies"
   ]
  },
  {
   "cell_type": "code",
   "execution_count": null,
   "metadata": {
    "vscode": {
     "languageId": "java"
    }
   },
   "outputs": [],
   "source": [
    "import java.util.ArrayList;\n",
    "\n",
    "ArrayList<?> sritestgrades = new ArrayList<>(); // change the question marks\n",
    "ArrayList<?> srishobbies = new ArrayList<>(); \n",
    "\n",
    "sritestgrades.add(45);\n",
    "sritestgrades.add(32);\n",
    "sritestgrades.add(1);\n",
    "sritestgrades.add(90);\n",
    "sritestgrades.add(74);\n",
    "\n",
    "srishobbies.add(\"watching netflix\");\n",
    "srishobbies.add(\"sleeping\");\n",
    "srishobbies.add(\"coding\");\n",
    "srishobbies.add(\"annoying saathvik\");\n",
    "\n",
    "// Printing the values\n",
    "System.out.println(\"Sri's Test Grades are: \" + sritestgrades);\n",
    "System.out.println(\"Sri's Hobbies are: \" + srishobbies);\n",
    "\n",
    "// intended output:\n",
    "// Sri's Test Grades are: [45, 32, 1, 90, 74]\n",
    "// Sri's Hobbies are: [watching netflix, sleeping, coding, annoying saathvik]"
   ]
  },
  {
   "cell_type": "code",
   "execution_count": 1,
   "metadata": {
    "vscode": {
     "languageId": "java"
    }
   },
   "outputs": [
    {
     "name": "stdout",
     "output_type": "stream",
     "text": [
      "Sri's Test Grades are: [45, 32, 1, 90, 74]\n",
      "Sri's Hobbies are: [watching netflix, sleeping, coding, annoying saathvik]\n"
     ]
    }
   ],
   "source": [
    "import java.util.ArrayList;\n",
    "\n",
    "ArrayList<Integer> sritestgrades = new ArrayList<>(); // using Integer for test grades\n",
    "ArrayList<String> srishobbies = new ArrayList<>();    // using String for hobbies\n",
    "\n",
    "// add the grades\n",
    "sritestgrades.add(45);\n",
    "sritestgrades.add(32);\n",
    "sritestgrades.add(1);\n",
    "sritestgrades.add(90);\n",
    "sritestgrades.add(74);\n",
    "\n",
    "// adding hobbies\n",
    "srishobbies.add(\"watching netflix\");\n",
    "srishobbies.add(\"sleeping\");\n",
    "srishobbies.add(\"coding\");\n",
    "srishobbies.add(\"annoying saathvik\");\n",
    "\n",
    "// outputting the values\n",
    "System.out.println(\"Sri's Test Grades are: \" + sritestgrades);\n",
    "System.out.println(\"Sri's Hobbies are: \" + srishobbies);"
   ]
  },
  {
   "cell_type": "markdown",
   "metadata": {},
   "source": [
    "# Unit 7.2"
   ]
  },
  {
   "cell_type": "markdown",
   "metadata": {},
   "source": [
    "## Popcorn Hack 1\n",
    "\n",
    "The learning objective is that “Students will be able to represent collections of related object reference data using ArrayList objects.” What does this mean to you?\n",
    "\n",
    "The learning objective, \"Students will be able to represent collections of related object reference data using `ArrayList` objects,\" emphasizes teaching how to manage groups of related objects effectively through the use of `ArrayList`. Here's what this means:\n",
    "\n",
    "1. **Understanding Object Reference Data:**\n",
    "   - Each element in an `ArrayList` refers to an object or a reference type (like `Integer`, `String`, or custom objects). It’s about storing references to objects rather than the objects themselves.\n",
    "   - For example, an `ArrayList<String>` stores references to `String` objects, not the actual `String` values themselves.\n",
    "\n",
    "2. **Collections of Related Data:**\n",
    "   - We will learn to use `ArrayList` to represent a group of related data. Ex: making an `ArrayList<Student>` where each element refers to a `Student` object.\n",
    "   - This objective highlights organizing and managing collections of related data efficiently using the flexible features of an `ArrayList`.\n",
    "\n",
    "3. **Key Features of `ArrayList`:**\n",
    "   - Dynamic sizing: Unlike arrays, `ArrayList` can grow and shrink as needed.\n",
    "   - Methods like `add()`, `remove()`, `set()`, and `get()` allow manipulation of the list.\n",
    "   - Learn how to apply these methods to manage collections of data in real-world applications.\n",
    "\n",
    "4. **Practical Application:**\n",
    "   - Use `ArrayList` to represent data structures such as lists of names, grades, or even more complex entities like books in a library or items in a shopping cart.\n",
    "   - This teaches how to store, retrieve, and modify collections of data using object-oriented programming concepts.\n",
    "\n",
    "In summary, the goal is to we are comfortable using `ArrayList` to represent and manipulate collections of objects, preparing us for scenarios where managing dynamic lists of data is essential."
   ]
  },
  {
   "cell_type": "markdown",
   "metadata": {},
   "source": [
    "## Popcorn Hack 2\n",
    "\n",
    "Look back at Size of the ArrayList. What does the code output and why?\n",
    "\n",
    "`size()` returns the number of elements in the array list. Since no elements were added, the size is 0."
   ]
  },
  {
   "cell_type": "markdown",
   "metadata": {},
   "source": [
    "## Popcorn Hack 3\n",
    "\n",
    "Look back at Adding items to an ArrayList. What does the code output and why? What type of function is void, and what will be the return value?\n",
    "\n",
    "add() adds a specific element at a specific index. This will move the previous item to the right. So when adding the new element, 2.0 and 3.0 are shifted and 4.0 is inserted to get `[1.0, 4.0, 2.0, 3.0]`.\n",
    "\n",
    "A function defined as void returns no value. It can perform an action, but it returns nothing. For add(), it performs the action of inserting the value but it won't return anything."
   ]
  },
  {
   "cell_type": "markdown",
   "metadata": {},
   "source": [
    "## Popcorn Hack 4\n",
    "\n",
    "Look back at Example 1. What two lines did we remove? Why?"
   ]
  },
  {
   "cell_type": "markdown",
   "metadata": {},
   "source": [
    "`ArrayList<String>` only holds strings, so the lines `h.add(26.2);` and `h.add(false);` won't work since they are double and booleans, respectively. If I left the lines in, I get a type mismatch error. You need to remove those lines to get no errors."
   ]
  },
  {
   "cell_type": "markdown",
   "metadata": {},
   "source": [
    "## Popcorn Hack 5\n",
    "\n",
    "If an ArrayList is being used as a parameter, what are the only two methods I can use from it? What would happen if I tried to use any other methods?\n",
    "\n",
    "You can only use `get(int index)` (retrieve element at a specified index) and `size()` (returns number of elements in ArrayList). If I use add(), remove(), clear(), etc, I will modify it. If arraylist is passed as a parameter and is immutable/read-only, I can't modify it. If there's no restructions, I can use those other methods."
   ]
  },
  {
   "cell_type": "markdown",
   "metadata": {},
   "source": [
    "## Popcorn Hack 6\n",
    "\n",
    "Using the Hack Helper, write code that will:\n",
    "- Add 2 items to the list.\n",
    "- Remove an item from the list anywhere of the user’s choice.\n",
    "- Replace am item anywhere in the list of the user’s choice.\n",
    "- Get the first and last element of the list, no matter the length.\n",
    "- Return the items added, removed, replaced, and the list’s size, in one string."
   ]
  },
  {
   "cell_type": "code",
   "execution_count": 2,
   "metadata": {
    "vscode": {
     "languageId": "java"
    }
   },
   "outputs": [],
   "source": [
    "import java.util.ArrayList;\n",
    "\n",
    "public class ArrayListMethodsExample {\n",
    "    // method to manipulate the list\n",
    "    private String manipulateList(int toAdd1, int toAdd2, int toRemoveIndex, int toReplaceIndex, int newValue) {\n",
    "        ArrayList<Integer> arr = new ArrayList<>();\n",
    "        \n",
    "        // add two items to the list\n",
    "        arr.add(toAdd1);\n",
    "        arr.add(toAdd2);\n",
    "\n",
    "        // remove an item at the index of the user’s choice\n",
    "        int removedItem = arr.remove(toRemoveIndex);\n",
    "\n",
    "        // replace an item at the index of the user’s choice\n",
    "        int replacedItem = arr.set(toReplaceIndex, newValue);  // returns the replaced item\n",
    "\n",
    "        // get the first and last element of the list\n",
    "        int firstElement = arr.get(0);\n",
    "        int lastElement = arr.get(arr.size() - 1);\n",
    "\n",
    "        // return details as a string\n",
    "        return \"Items added: \" + toAdd1 + \", \" + toAdd2 + \n",
    "               \"\\nItem removed: \" + removedItem + \n",
    "               \"\\nItem replaced: \" + replacedItem + \" with \" + newValue + \n",
    "               \"\\nFirst item: \" + firstElement + \n",
    "               \"\\nLast item: \" + lastElement + \n",
    "               \"\\nList size: \" + arr.size();\n",
    "    }\n",
    "\n",
    "    public static void main(String[] args) {\n",
    "        ArrayListMethodsExample example = new ArrayListMethodsExample();\n",
    "        \n",
    "        // example use case: adding, removing, and replacing based on user input\n",
    "        String output = example.manipulateList(5, 10, 0, 0, 20);\n",
    "        \n",
    "        // print the output\n",
    "        System.out.println(output);\n",
    "    }\n",
    "}\n"
   ]
  },
  {
   "cell_type": "markdown",
   "metadata": {},
   "source": [
    "# Unit 7.3"
   ]
  },
  {
   "cell_type": "markdown",
   "metadata": {},
   "source": [
    "## Popcorn Hack 1"
   ]
  },
  {
   "cell_type": "code",
   "execution_count": null,
   "metadata": {
    "vscode": {
     "languageId": "java"
    }
   },
   "outputs": [],
   "source": [
    "import java.util.ArrayList;\n",
    "\n",
    "public class SumArrayList {\n",
    "    public static void main(String[] args) {\n",
    "        ArrayList<Integer> myList = new ArrayList<Integer>();\n",
    "        myList.add(50);\n",
    "        myList.add(30);\n",
    "        myList.add(20);\n",
    "        \n",
    "        // variable to store the sum\n",
    "        int sum = 0;\n",
    "        \n",
    "        // loop through the list and calculate the sum\n",
    "        for (Integer value : myList) {\n",
    "            sum += value;  // Add each value to sum\n",
    "        }\n",
    "        \n",
    "        // print out the sum of all elements\n",
    "        System.out.println(\"Sum of elements: \" + sum);\n",
    "    }\n",
    "}\n"
   ]
  },
  {
   "cell_type": "markdown",
   "metadata": {},
   "source": [
    "## Popcorn Hack 2"
   ]
  },
  {
   "cell_type": "code",
   "execution_count": null,
   "metadata": {
    "vscode": {
     "languageId": "java"
    }
   },
   "outputs": [],
   "source": [
    "import java.util.ArrayList;\n",
    "\n",
    "public class Main {\n",
    "    public static void main(String[] args) {\n",
    "        // use Double for the grades ArrayList, as it contains decimal values\n",
    "        ArrayList<Double> grades = new ArrayList<>();\n",
    "        grades.add(68.9);\n",
    "        grades.add(71.0); // using 71.0 to keep all values as Double\n",
    "        grades.add(100.0);\n",
    "        grades.add(80.0);\n",
    "\n",
    "        // iterate in reverse to avoid skipping elements when removing\n",
    "        for (int i = grades.size() - 1; i >= 0; i--) {\n",
    "            if (grades.get(i) < 70) {\n",
    "                // remove the grade if it's below 70\n",
    "                grades.remove(i);\n",
    "            }\n",
    "        }\n",
    "\n",
    "        // print the updated grades list\n",
    "        System.out.println(grades);\n",
    "    }\n",
    "}\n"
   ]
  }
 ],
 "metadata": {
  "kernelspec": {
   "display_name": "Java",
   "language": "java",
   "name": "java"
  },
  "language_info": {
   "codemirror_mode": "java",
   "file_extension": ".jshell",
   "mimetype": "text/x-java-source",
   "name": "Java",
   "pygments_lexer": "java",
   "version": "17.0.12+7-Ubuntu-1ubuntu222.04"
  }
 },
 "nbformat": 4,
 "nbformat_minor": 2
}
