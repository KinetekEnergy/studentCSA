{
 "cells": [
  {
   "cell_type": "markdown",
   "metadata": {},
   "source": [
    "# Unit 8.1"
   ]
  },
  {
   "cell_type": "markdown",
   "metadata": {},
   "source": [
    "## Popcorn Hack 1"
   ]
  },
  {
   "cell_type": "code",
   "execution_count": 6,
   "metadata": {
    "vscode": {
     "languageId": "java"
    }
   },
   "outputs": [],
   "source": [
    "int[][] exampleArray = {\n",
    "    {\"Hello\", \"World\"},\n",
    "    {\"Java\", \"Array\"}\n",
    "};"
   ]
  },
  {
   "cell_type": "markdown",
   "metadata": {},
   "source": [
    "It needs to be `String[][]` and not `int[][]` because the elements in the array are string (they are surrounded by quotes)."
   ]
  },
  {
   "cell_type": "markdown",
   "metadata": {},
   "source": [
    "## Popcorn Hack 2"
   ]
  },
  {
   "cell_type": "code",
   "execution_count": null,
   "metadata": {
    "vscode": {
     "languageId": "java"
    }
   },
   "outputs": [],
   "source": [
    "int[][] matrix = new int[2][3]; // has 2 * 3 elements = 6 elements"
   ]
  },
  {
   "cell_type": "markdown",
   "metadata": {},
   "source": [
    "## Popcorn Hack 3\n",
    "\n",
    "D: You can dynamically calculate the lengths or manually select it. Also, indexing is at 0 so you need to keep that in mind."
   ]
  },
  {
   "cell_type": "markdown",
   "metadata": {},
   "source": [
    "## Popcorn Hack 4"
   ]
  },
  {
   "cell_type": "code",
   "execution_count": 7,
   "metadata": {
    "vscode": {
     "languageId": "java"
    }
   },
   "outputs": [
    {
     "name": "stdout",
     "output_type": "stream",
     "text": [
      "[[1, 2, 3], [4, 5, 6], [7, 8, 9]]\n"
     ]
    }
   ],
   "source": [
    "public class ArrayPractice {\n",
    "    public static void main(String[] args) {\n",
    "        int[][] array = {\n",
    "            {1, 2, 3},\n",
    "            {4, 5, 6},\n",
    "            {7, 8, 9}\n",
    "        };\n",
    "\n",
    "        // Print the array\n",
    "        System.out.println(java.util.Arrays.deepToString(array));\n",
    "    }\n",
    "}\n",
    "\n",
    "ArrayPractice.main(null)"
   ]
  },
  {
   "cell_type": "markdown",
   "metadata": {},
   "source": [
    "## Popcorn Hack 5"
   ]
  },
  {
   "cell_type": "code",
   "execution_count": 8,
   "metadata": {
    "vscode": {
     "languageId": "java"
    }
   },
   "outputs": [
    {
     "data": {
      "text/plain": [
       "Programming"
      ]
     },
     "execution_count": 8,
     "metadata": {},
     "output_type": "execute_result"
    }
   ],
   "source": [
    "String[][] hack = {\n",
    "    {\"Hello\", \"World\"},\n",
    "    {\"Java\", \"Array\"}\n",
    "};\n",
    "\n",
    "//Insert code below:\n",
    "hack[1][0] = \"Programming\";"
   ]
  },
  {
   "cell_type": "markdown",
   "metadata": {},
   "source": [
    "## Popcorn Hack 6\n",
    "\n",
    "B is correct: You need to access the 1st row (indexing is at 0) and the 0th column. This will change the Australia to Athens properly."
   ]
  },
  {
   "cell_type": "markdown",
   "metadata": {},
   "source": [
    "# Unit 8.2"
   ]
  },
  {
   "cell_type": "markdown",
   "metadata": {},
   "source": [
    "## Popcorn Hack 1"
   ]
  },
  {
   "cell_type": "code",
   "execution_count": 23,
   "metadata": {
    "vscode": {
     "languageId": "java"
    }
   },
   "outputs": [
    {
     "name": "stdout",
     "output_type": "stream",
     "text": [
      "Number 55 has positon of: 1, 1\n"
     ]
    }
   ],
   "source": [
    "public class Main {\n",
    "    public static void main(String[] args) {\n",
    "        int find[][] = {\n",
    "            {10, 20, 30},\n",
    "            {40, 55, 60},\n",
    "            {70, 80, 90},\n",
    "        };\n",
    "\n",
    "        for (int i = 0; i < find.length; i++) {\n",
    "            for (int j = 0; j < find[i].length; j++) {\n",
    "                if (find[i][j] == 55) {\n",
    "                    System.out.println(\"Number \" + find[i][j] + \" has positon of: \" + i + \", \" + j);\n",
    "                }\n",
    "            }\n",
    "        }\n",
    "    }\n",
    "}\n",
    "Main.main(null);\n"
   ]
  },
  {
   "cell_type": "markdown",
   "metadata": {},
   "source": [
    "## Popcorn Hack 2"
   ]
  },
  {
   "cell_type": "code",
   "execution_count": 57,
   "metadata": {
    "vscode": {
     "languageId": "java"
    }
   },
   "outputs": [
    {
     "name": "stdout",
     "output_type": "stream",
     "text": [
      "Element found at index: [2, 3]\n",
      "Element found at: Row 2, Column 1\n",
      "Element not found.\n",
      "Element not found.\n"
     ]
    }
   ],
   "source": [
    "import java.util.Arrays;\n",
    "\n",
    "public class Main {\n",
    "    public static void main(String[] args) {\n",
    "        int[][] array = {\n",
    "            {1, 2, 3, 4},\n",
    "            {5, 6, 7, 8},\n",
    "            {9, 10, 11, 22},\n",
    "            {13, 14, 15, 16}\n",
    "        };\n",
    "\n",
    "        linearSearch(array, 22);\n",
    "        binarySearch(array, 10);\n",
    "\n",
    "        linearSearch(array, 222);\n",
    "        binarySearch(array, 101);\n",
    "    }\n",
    "\n",
    "    public static void linearSearch(int[][] array, int target) {\n",
    "        // loop through rows and columns\n",
    "        for (int i = 0; i < array.length; i++) {\n",
    "\n",
    "            for (int j = 0; j < array[i].length; j++) {\n",
    "\n",
    "                // do we have a match? if so, print that we did\n",
    "                if (array[i][j] == target) {\n",
    "                    System.out.println(\"Element found at index: [\" + i + \", \" + j + \"]\");\n",
    "                    return;\n",
    "                }\n",
    "            }\n",
    "        }\n",
    "\n",
    "        // we found nothing\n",
    "        System.out.println(\"Element not found.\");\n",
    "    }\n",
    "\n",
    "    public static void binarySearch(int[][] array, int target) {\n",
    "        // rows, columns, pre checking\n",
    "        int rows = array.length;\n",
    "        int cols = array[0].length;\n",
    "        if (rows == 0) {\n",
    "            System.out.println(\"Element not found.\");\n",
    "        }\n",
    "        \n",
    "        int left = 0;\n",
    "        int right = rows * cols - 1;\n",
    "        \n",
    "        while (left <= right) {\n",
    "            int mid = left + (right - left) / 2;\n",
    "            int midValue = array[mid / cols][mid % cols];\n",
    "            \n",
    "            if (midValue == target) {\n",
    "                // match was found\n",
    "                System.out.println(\"Element found at: Row \" + mid / cols + \", Column \" + mid % cols);\n",
    "                return;\n",
    "            }\n",
    "            if (midValue < target) {\n",
    "                left = mid + 1; // move to right half\n",
    "            } \n",
    "            else {\n",
    "                right = mid - 1; // move to left half\n",
    "            }\n",
    "        }\n",
    "        \n",
    "        // match not found\n",
    "        System.out.println(\"Element not found.\");\n",
    "    }\n",
    "}\n",
    "Main.main(null);"
   ]
  },
  {
   "cell_type": "markdown",
   "metadata": {},
   "source": [
    "## Popcorn Hack 3"
   ]
  },
  {
   "cell_type": "code",
   "execution_count": 2,
   "metadata": {
    "vscode": {
     "languageId": "java"
    }
   },
   "outputs": [
    {
     "name": "stdout",
     "output_type": "stream",
     "text": [
      "Original 2D Array:\n",
      "4 1 9 \n",
      "7 5 2 \n",
      "8 3 6 \n",
      "\n",
      "Sorted 2D Array:\n",
      "1 2 3 \n",
      "4 5 6 \n",
      "7 8 9 \n"
     ]
    }
   ],
   "source": [
    "import java.util.Arrays;\n",
    "\n",
    "public class Main {\n",
    "    public static void main(String[] args) {\n",
    "        // create an array\n",
    "        int[][] array = {\n",
    "            {4, 1, 9},\n",
    "            {7, 5, 2},\n",
    "            {8, 3, 6}\n",
    "        };\n",
    "\n",
    "        // show original array\n",
    "        System.out.println(\"Original 2D Array:\");\n",
    "        print2DArray(array);\n",
    "\n",
    "        // flatten array\n",
    "        int[] flattenedArray = flatten2DArray(array);\n",
    "\n",
    "        // sort the 1d array\n",
    "        Arrays.sort(flattenedArray);\n",
    "\n",
    "        // unflatten\n",
    "        int[][] sortedArray = reshape1DTo2D(flattenedArray, array.length, array[0].length);\n",
    "\n",
    "        // show\n",
    "        System.out.println(\"\\nSorted 2D Array:\");\n",
    "        print2DArray(sortedArray);\n",
    "    }\n",
    "\n",
    "    // flatten a 2D array into a 1D array\n",
    "    public static int[] flatten2DArray(int[][] array) {\n",
    "        int rows = array.length;\n",
    "        int cols = array[0].length;\n",
    "        int[] result = new int[rows * cols];\n",
    "        int index = 0;\n",
    "\n",
    "        // traverse 2D array and store elements in the 1D array\n",
    "        for (int[] row : array) {\n",
    "            for (int element : row) {\n",
    "                result[index++] = element;\n",
    "            }\n",
    "        }\n",
    "        return result;\n",
    "    }\n",
    "\n",
    "    // reshape a 1D array back into a 2D array\n",
    "    public static int[][] reshape1DTo2D(int[] array, int rows, int cols) {\n",
    "        int[][] result = new int[rows][cols];\n",
    "        int index = 0;\n",
    "\n",
    "        // traverse 1D array and assign values to the 2D array\n",
    "        for (int i = 0; i < rows; i++) {\n",
    "            for (int j = 0; j < cols; j++) {\n",
    "                result[i][j] = array[index++];\n",
    "            }\n",
    "        }\n",
    "        return result;\n",
    "    }\n",
    "\n",
    "    // function to print a 2D array\n",
    "    public static void print2DArray(int[][] array) {\n",
    "        for (int[] row : array) {\n",
    "            for (int element : row) {\n",
    "                System.out.print(element + \" \");\n",
    "            }\n",
    "            System.out.println();\n",
    "        }\n",
    "    }\n",
    "}\n",
    "\n",
    "Main.main(null);"
   ]
  }
 ],
 "metadata": {
  "kernelspec": {
   "display_name": "Java",
   "language": "java",
   "name": "java"
  },
  "language_info": {
   "codemirror_mode": "java",
   "file_extension": ".jshell",
   "mimetype": "text/x-java-source",
   "name": "Java",
   "pygments_lexer": "java",
   "version": "17.0.11-internal+0-adhoc..src"
  }
 },
 "nbformat": 4,
 "nbformat_minor": 2
}
