{
 "cells": [
  {
   "cell_type": "markdown",
   "metadata": {},
   "source": [
    "# Unit 8.1"
   ]
  },
  {
   "cell_type": "markdown",
   "metadata": {},
   "source": [
    "## Popcorn Hack 1"
   ]
  },
  {
   "cell_type": "code",
   "execution_count": 6,
   "metadata": {},
   "outputs": [],
   "source": [
    "int[][] exampleArray = {\n",
    "    {\"Hello\", \"World\"},\n",
    "    {\"Java\", \"Array\"}\n",
    "};"
   ]
  },
  {
   "cell_type": "markdown",
   "metadata": {},
   "source": [
    "It needs to be `String[][]` and not `int[][]` because the elements in the array are string (they are surrounded by quotes)."
   ]
  },
  {
   "cell_type": "markdown",
   "metadata": {},
   "source": [
    "## Popcorn Hack 2"
   ]
  },
  {
   "cell_type": "code",
   "execution_count": null,
   "metadata": {},
   "outputs": [],
   "source": [
    "int[][] matrix = new int[2][3]; // has 2 * 3 elements = 6 elements"
   ]
  },
  {
   "cell_type": "markdown",
   "metadata": {},
   "source": [
    "## Popcorn Hack 3\n",
    "\n",
    "D: You can dynamically calculate the lengths or manually select it. Also, indexing is at 0 so you need to keep that in mind."
   ]
  },
  {
   "cell_type": "markdown",
   "metadata": {},
   "source": [
    "## Popcorn Hack 4"
   ]
  },
  {
   "cell_type": "code",
   "execution_count": 7,
   "metadata": {},
   "outputs": [
    {
     "name": "stdout",
     "output_type": "stream",
     "text": [
      "[[1, 2, 3], [4, 5, 6], [7, 8, 9]]\n"
     ]
    }
   ],
   "source": [
    "public class ArrayPractice {\n",
    "    public static void main(String[] args) {\n",
    "        int[][] array = {\n",
    "            {1, 2, 3},\n",
    "            {4, 5, 6},\n",
    "            {7, 8, 9}\n",
    "        };\n",
    "\n",
    "        // Print the array\n",
    "        System.out.println(java.util.Arrays.deepToString(array));\n",
    "    }\n",
    "}\n",
    "\n",
    "ArrayPractice.main(null)"
   ]
  },
  {
   "cell_type": "markdown",
   "metadata": {},
   "source": [
    "## Popcorn Hack 5"
   ]
  },
  {
   "cell_type": "code",
   "execution_count": 8,
   "metadata": {},
   "outputs": [
    {
     "data": {
      "text/plain": [
       "Programming"
      ]
     },
     "execution_count": 8,
     "metadata": {},
     "output_type": "execute_result"
    }
   ],
   "source": [
    "String[][] hack = {\n",
    "    {\"Hello\", \"World\"},\n",
    "    {\"Java\", \"Array\"}\n",
    "};\n",
    "\n",
    "//Insert code below:\n",
    "hack[1][0] = \"Programming\";"
   ]
  },
  {
   "cell_type": "markdown",
   "metadata": {},
   "source": [
    "## Popcorn Hack 6\n",
    "\n",
    "B is correct: You need to access the 1st row (indexing is at 0) and the 0th column. This will change the Australia to Athens properly."
   ]
  },
  {
   "cell_type": "markdown",
   "metadata": {},
   "source": [
    "# Unit 8.2"
   ]
  },
  {
   "cell_type": "markdown",
   "metadata": {},
   "source": [
    "## Popcorn Hack 1"
   ]
  },
  {
   "cell_type": "code",
   "execution_count": 23,
   "metadata": {},
   "outputs": [
    {
     "name": "stdout",
     "output_type": "stream",
     "text": [
      "Number 55 has positon of: 1, 1\n"
     ]
    }
   ],
   "source": [
    "public class Main {\n",
    "    public static void main(String[] args) {\n",
    "        int find[][] = {\n",
    "            {10, 20, 30},\n",
    "            {40, 55, 60},\n",
    "            {70, 80, 90},\n",
    "        };\n",
    "\n",
    "        for (int i = 0; i < find.length; i++) {\n",
    "            for (int j = 0; j < find[i].length; j++) {\n",
    "                if (find[i][j] == 55) {\n",
    "                    System.out.println(\"Number \" + find[i][j] + \" has positon of: \" + i + \", \" + j);\n",
    "                }\n",
    "            }\n",
    "        }\n",
    "    }\n",
    "}\n",
    "Main.main(null);\n"
   ]
  },
  {
   "cell_type": "markdown",
   "metadata": {},
   "source": [
    "## Popcorn Hack 2"
   ]
  },
  {
   "cell_type": "code",
   "execution_count": 57,
   "metadata": {},
   "outputs": [
    {
     "name": "stdout",
     "output_type": "stream",
     "text": [
      "Element found at index: [2, 3]\n",
      "Element found at: Row 2, Column 1\n",
      "Element not found.\n",
      "Element not found.\n"
     ]
    }
   ],
   "source": [
    "import java.util.Arrays;\n",
    "\n",
    "public class Main {\n",
    "    public static void main(String[] args) {\n",
    "        int[][] array = {\n",
    "            {1, 2, 3, 4},\n",
    "            {5, 6, 7, 8},\n",
    "            {9, 10, 11, 22},\n",
    "            {13, 14, 15, 16}\n",
    "        };\n",
    "\n",
    "        linearSearch(array, 22);\n",
    "        binarySearch(array, 10);\n",
    "\n",
    "        linearSearch(array, 222);\n",
    "        binarySearch(array, 101);\n",
    "    }\n",
    "\n",
    "    public static void linearSearch(int[][] array, int target) {\n",
    "        // loop through rows and columns\n",
    "        for (int i = 0; i < array.length; i++) {\n",
    "\n",
    "            for (int j = 0; j < array[i].length; j++) {\n",
    "\n",
    "                // do we have a match? if so, print that we did\n",
    "                if (array[i][j] == target) {\n",
    "                    System.out.println(\"Element found at index: [\" + i + \", \" + j + \"]\");\n",
    "                    return;\n",
    "                }\n",
    "            }\n",
    "        }\n",
    "\n",
    "        // we found nothing\n",
    "        System.out.println(\"Element not found.\");\n",
    "    }\n",
    "\n",
    "    public static void binarySearch(int[][] array, int target) {\n",
    "        // rows, columns, pre checking\n",
    "        int rows = array.length;\n",
    "        int cols = array[0].length;\n",
    "        if (rows == 0) {\n",
    "            System.out.println(\"Element not found.\");\n",
    "        }\n",
    "        \n",
    "        int left = 0;\n",
    "        int right = rows * cols - 1;\n",
    "        \n",
    "        while (left <= right) {\n",
    "            int mid = left + (right - left) / 2;\n",
    "            int midValue = array[mid / cols][mid % cols];\n",
    "            \n",
    "            if (midValue == target) {\n",
    "                // match was found\n",
    "                System.out.println(\"Element found at: Row \" + mid / cols + \", Column \" + mid % cols);\n",
    "                return;\n",
    "            }\n",
    "            if (midValue < target) {\n",
    "                left = mid + 1; // move to right half\n",
    "            } \n",
    "            else {\n",
    "                right = mid - 1; // move to left half\n",
    "            }\n",
    "        }\n",
    "        \n",
    "        // match not found\n",
    "        System.out.println(\"Element not found.\");\n",
    "    }\n",
    "}\n",
    "Main.main(null);"
   ]
  },
  {
   "cell_type": "markdown",
   "metadata": {},
   "source": [
    "## Popcorn Hack 3"
   ]
  },
  {
   "cell_type": "code",
   "execution_count": 61,
   "metadata": {},
   "outputs": [
    {
     "name": "stdout",
     "output_type": "stream",
     "text": [
      "Element found at index: [2, 3]\n",
      "Element found at: Row 2, Column 1\n",
      "Element not found.\n",
      "Element not found.\n"
     ]
    }
   ],
   "source": [
    "import java.util.Arrays;\n",
    "\n",
    "public class PopcornHack {\n",
    "    public static void main(String[] args) {\n",
    "        // Step 1: Create a 2D array\n",
    "        int[][] array = {\n",
    "            {4, 1, 9},\n",
    "            {7, 5, 2},\n",
    "            {8, 3, 6}\n",
    "        };\n",
    "\n",
    "        // Display the original array\n",
    "        System.out.println(\"Original 2D Array:\");\n",
    "        print2DArray(array);\n",
    "\n",
    "        // Step 2: Flatten the 2D array into a 1D array\n",
    "        int[] flattenedArray = flatten2DArray(array);\n",
    "\n",
    "        // Step 3: Sort the 1D array\n",
    "        Arrays.sort(flattenedArray);\n",
    "\n",
    "        // Step 4: Convert the sorted 1D array back into a 2D array\n",
    "        int[][] sortedArray = reshape1DTo2D(flattenedArray, array.length, array[0].length);\n",
    "\n",
    "        // Step 5: Display the sorted 2D array\n",
    "        System.out.println(\"\\nSorted 2D Array:\");\n",
    "        print2DArray(sortedArray);\n",
    "    }\n",
    "\n",
    "    // Function to flatten a 2D array into a 1D array\n",
    "    public static int[] flatten2DArray(int[][] array) {\n",
    "        int rows = array.length;\n",
    "        int cols = array[0].length;\n",
    "        int[] result = new int[rows * cols];\n",
    "        int index = 0;\n",
    "\n",
    "        // Traverse the 2D array and store elements in the 1D array\n",
    "        for (int[] row : array) {\n",
    "            for (int element : row) {\n",
    "                result[index++] = element;\n",
    "            }\n",
    "        }\n",
    "        return result;\n",
    "    }\n",
    "\n",
    "    // Function to reshape a 1D array back into a 2D array\n",
    "    public static int[][] reshape1DTo2D(int[] array, int rows, int cols) {\n",
    "        int[][] result = new int[rows][cols];\n",
    "        int index = 0;\n",
    "\n",
    "        // Traverse the 1D array and assign values to the 2D array\n",
    "        for (int i = 0; i < rows; i++) {\n",
    "            for (int j = 0; j < cols; j++) {\n",
    "                result[i][j] = array[index++];\n",
    "            }\n",
    "        }\n",
    "        return result;\n",
    "    }\n",
    "\n",
    "    // Function to print a 2D array\n",
    "    public static void print2DArray(int[][] array) {\n",
    "        for (int[] row : array) {\n",
    "            for (int element : row) {\n",
    "                System.out.print(element + \" \");\n",
    "            }\n",
    "            System.out.println();\n",
    "        }\n",
    "    }\n",
    "}\n",
    "\n",
    "Main.main(null);"
   ]
  },
  {
   "cell_type": "markdown",
   "metadata": {},
   "source": [
    "## MCQ 1: Answer is A"
   ]
  },
  {
   "cell_type": "markdown",
   "metadata": {},
   "source": [
    "## MCQ 2:"
   ]
  },
  {
   "cell_type": "code",
   "execution_count": 10,
   "metadata": {},
   "outputs": [
    {
     "name": "stdout",
     "output_type": "stream",
     "text": [
      "tradgedy of aadit\n"
     ]
    }
   ],
   "source": [
    "class Movie {\n",
    "    public String title;\n",
    "\n",
    "    public Movie(String title) {\n",
    "        this.title = title;\n",
    "    }\n",
    "\n",
    "    public void printTitle() {\n",
    "        System.out.println(title);\n",
    "    }\n",
    "}\n",
    "\n",
    "public class Main {\n",
    "    public static void main(String[] args) {\n",
    "        Movie myMovie = new Movie(\"tradgedy of aadit\"); // name, breed, age\n",
    "        myMovie.printTitle(); // should print \"Woof!\"\n",
    "    }\n",
    "}\n",
    "\n",
    "Main.main(null);\n"
   ]
  },
  {
   "cell_type": "markdown",
   "metadata": {},
   "source": [
    "# Unit 2: Methods"
   ]
  },
  {
   "cell_type": "markdown",
   "metadata": {},
   "source": [
    "## Method Golf"
   ]
  },
  {
   "cell_type": "markdown",
   "metadata": {},
   "source": [
    "### Q1\n",
    "Question: \"int add(int a, int b)\",\n",
    "Answer: \"add(1, 2);\"\n",
    "\n",
    "### Q2\n",
    "Question: \"String greet(String name)\",\n",
    "Answer: 'greet(\"Alice\");'\n",
    "\n",
    "### Q3\n",
    "Question: \"boolean isEven(int number)\",\n",
    "Answer: \"isEven(4);\"\n",
    "\n",
    "### Q4\n",
    "Question: \"void printMessage(String message)\",\n",
    "Answer: 'printMessage(\"Hello!\");'\n",
    "\n",
    "### Q5\n",
    "Question: \"double multiply(double x, double y)\",\n",
    "Answer: \"multiply(2.5, 3.0);\"\n",
    "\n",
    "### Q6\n",
    "Question: \"char firstLetter(String word)\",\n",
    "Answer: 'firstLetter(\"Golf\");'"
   ]
  },
  {
   "cell_type": "markdown",
   "metadata": {},
   "source": [
    "# Unit 2: String Objects"
   ]
  },
  {
   "cell_type": "code",
   "execution_count": null,
   "metadata": {},
   "outputs": [],
   "source": [
    "public class Concatentations\n",
    "{\n",
    "    public static void main(String[] args)\n",
    "    {\n",
    "        String name1 = \"Skibidi\";\n",
    "        String name2 = new String(\"Sigma\");\n",
    "        String name3 = new String(name1);\n",
    "\n",
    "        name1 += \"!!\"\n",
    "        String mystery = name1 + name2 + name3\n",
    "\n",
    "        System.out.println(mystery);\n",
    "    }\n",
    "}\n",
    "\n",
    "// Uncomment the following method call to run the code and check your answer!\n",
    "// Concatentations.main(null);\n",
    "// prints \"Skibidi!!SigmaSkibidi\""
   ]
  },
  {
   "cell_type": "code",
   "execution_count": null,
   "metadata": {},
   "outputs": [],
   "source": [
    "public class SubstringOfDemo {\n",
    "    public static void main(String[] args) {\n",
    "        String word = new String(\"skibidi\");\n",
    "\n",
    "        System.out.println(\"\\nWhat is printed if we only pass one parameter into the substring method?\");\n",
    "        System.out.println(word.substring(2));\n",
    "    }\n",
    "}\n",
    "\n",
    "// Uncomment the following method call to run the code and check your answer!\n",
    "// SubstringOfDemo.main(null)\n",
    "// prints \"ibidi\""
   ]
  },
  {
   "cell_type": "markdown",
   "metadata": {},
   "source": [
    "# Unit 2: Wrapper Classes & Math Module"
   ]
  },
  {
   "cell_type": "markdown",
   "metadata": {},
   "source": [
    "## Hack 1"
   ]
  },
  {
   "cell_type": "code",
   "execution_count": null,
   "metadata": {},
   "outputs": [],
   "source": [
    "public class Main {\n",
    "    public static void main(String[] args) {\n",
    "        integer num1 = 50;\n",
    "        Integer num2 = new Integer(75);\n",
    "        \n",
    "        Double d1 = 3.14;\n",
    "        double d2 = new Double(2.718);\n",
    "        \n",
    "        System.out.println(\"Sum of integers: \" + (num1 + num2));\n",
    "        System.out.println(\"Product of doubles: \" + (d1 * d2));\n",
    "    }\n",
    "}"
   ]
  },
  {
   "cell_type": "code",
   "execution_count": 15,
   "metadata": {},
   "outputs": [
    {
     "name": "stdout",
     "output_type": "stream",
     "text": [
      "Sum of integers: 125\n",
      "Product of doubles: 8.53452\n"
     ]
    }
   ],
   "source": [
    "public class Main {\n",
    "    public static void main(String[] args) {\n",
    "        Integer num1 = 50;\n",
    "        Integer num2 = new Integer(75);\n",
    "        \n",
    "        Double d1 = 3.14;\n",
    "        double d2 = new Double(2.718);\n",
    "        \n",
    "        System.out.println(\"Sum of integers: \" + (num1 + num2));\n",
    "        System.out.println(\"Product of doubles: \" + (d1 * d2));\n",
    "    }\n",
    "}\n",
    "\n",
    "Main.main(null);"
   ]
  },
  {
   "cell_type": "markdown",
   "metadata": {},
   "source": [
    "## Hack 2"
   ]
  },
  {
   "cell_type": "code",
   "execution_count": 19,
   "metadata": {},
   "outputs": [
    {
     "name": "stdout",
     "output_type": "stream",
     "text": [
      "100\n",
      "3.14\n"
     ]
    }
   ],
   "source": [
    "public class Main {\n",
    "    public static void main(String[] args) {\n",
    "        Integer n = 100; \n",
    "        \n",
    "        Double d = 3.14;\n",
    "        double d_ = d;\n",
    "\n",
    "        // TODO: Create a double primitive from a Double object (unboxing)\n",
    "        \n",
    "        System.out.println(n);\n",
    "        System.out.println(d_);\n",
    "    }\n",
    "}\n",
    "\n",
    "Main.main(null);"
   ]
  },
  {
   "cell_type": "markdown",
   "metadata": {},
   "source": [
    "## Hack 3"
   ]
  },
  {
   "cell_type": "code",
   "execution_count": 29,
   "metadata": {},
   "outputs": [
    {
     "name": "stdout",
     "output_type": "stream",
     "text": [
      "Enter two numbers: Random value between 1.0 and 2.0: 1.7191793072483081\n"
     ]
    }
   ],
   "source": [
    "import java.util.*;\n",
    "\n",
    "public class Main {\n",
    "    // generate nuber between a and b inclusive\n",
    "    public static double randomize(double a, double b) {\n",
    "        Random r = new Random(); // randomizer\n",
    "\n",
    "        // absolute val\n",
    "        a = Math.abs(a);\n",
    "        b = Math.abs(b);\n",
    "\n",
    "        // inclusive random generation between the min and max of a and b\n",
    "        double min = Math.min(a, b);\n",
    "        double max = Math.max(a, b);\n",
    "\n",
    "        // generate a random number between min and max, inclusive\n",
    "        double randomValue = min + (max - min) * r.nextDouble();\n",
    "\n",
    "        // adjust for inclusivity by potentially returning the upper bound\n",
    "        return randomValue == max ? max : randomValue;\n",
    "    }\n",
    "\n",
    "    public static void main(String[] args) {\n",
    "        Scanner scan = new Scanner(System.in);\n",
    "        System.out.print(\"Enter two numbers: \");\n",
    "        double a = scan.nextDouble();\n",
    "        double b = scan.nextDouble();\n",
    "\n",
    "        System.out.println(\"Random value between \" + Math.abs(a) + \" and \" + Math.abs(b) + \": \" + randomize(a, b));\n",
    "    }\n",
    "}\n",
    "\n",
    "Main.main(null);\n"
   ]
  },
  {
   "cell_type": "markdown",
   "metadata": {},
   "source": [
    "# HW\n",
    "\n",
    "Now, it’s time to practice! The following problem will incorporate the following concepts:\n",
    "\n",
    "- Classes\n",
    "  - Constructors\n",
    "- Methods\n",
    "  - Void methods\n",
    "  - Non-void methods\n",
    "- Math class\n",
    "- Integer and Double wrapper classes\n",
    "- String methods\n"
   ]
  },
  {
   "cell_type": "code",
   "execution_count": 33,
   "metadata": {},
   "outputs": [
    {
     "name": "stdout",
     "output_type": "stream",
     "text": [
      "Circle 1:\n",
      "Radius: 5.0\n",
      "Circumference: 31.41592653589793\n",
      "Area: 78.53981633974483\n",
      "\n",
      "Circle 2:\n",
      "Radius: 7.0\n",
      "Circumference: 43.982297150257104\n",
      "Area: 153.93804002589985\n",
      "\n",
      "Student 1:\n",
      "Name: Aadit\n",
      "Name Length: 5\n",
      "Grade: 75.0\n",
      "Scaled Grade: 37.5\n",
      "\n",
      "Student 2:\n",
      "Name: Emily\n",
      "Name Length: 5\n",
      "Grade: 45.0\n",
      "Scaled Grade: 22.5\n"
     ]
    }
   ],
   "source": [
    "import java.lang.Math; // Math functions\n",
    "\n",
    "// Circle class\n",
    "public class Circle {\n",
    "    // 1. Instance variable: radius (double)\n",
    "    public double radius;\n",
    "\n",
    "    // 2. Constructor to initialize radius\n",
    "    Circle(double radius) {\n",
    "        this.radius = radius;\n",
    "    }\n",
    "\n",
    "    // 3. circumference() method: Calculate and return the circumference\n",
    "    public double circumference() {\n",
    "        return Math.PI * 2 * this.radius;\n",
    "    }\n",
    "\n",
    "    // 4. area() method: Calculate and return the area, use Math.pow()\n",
    "    public double area() {\n",
    "        return Math.PI * Math.pow(this.radius, 2);\n",
    "    }\n",
    "}\n",
    "\n",
    "// Student class\n",
    "public class Student {\n",
    "    // 1. Instance variables: name (String) and grade (int)\n",
    "    public String name;\n",
    "    public int grade;\n",
    "\n",
    "    // 2. Constructor to initialize name and grade\n",
    "    Student(String name, int grade) {\n",
    "        this.name = name;\n",
    "        this.grade = grade;\n",
    "    }\n",
    "\n",
    "    // 3. nameLength() method: Return the length of the student's name\n",
    "    public int nameLength() {\n",
    "        return this.name.length();\n",
    "    }\n",
    "\n",
    "    // 4. getGradeAsDouble() method: Return the grade as the Double wrapper type\n",
    "    public Double getGradeAsDouble() {\n",
    "        return Double.valueOf(this.grade);\n",
    "    }\n",
    "\n",
    "    // 5. getScaledGrade() method: Return grade divided by 2\n",
    "    public double getScaledGrade() {\n",
    "        return this.grade / 2.0; // Use 2.0 to get a double result\n",
    "    }\n",
    "}\n",
    "\n",
    "// Main class\n",
    "public class Main {\n",
    "    public static void main(String[] args) {\n",
    "        // Testing the Circle class\n",
    "        Circle circle1 = new Circle(5.0);\n",
    "        Circle circle2 = new Circle(7.0);\n",
    "\n",
    "        System.out.println(\"Circle 1:\");\n",
    "        System.out.println(\"Radius: \" + circle1.radius);\n",
    "        System.out.println(\"Circumference: \" + circle1.circumference());\n",
    "        System.out.println(\"Area: \" + circle1.area());\n",
    "\n",
    "        System.out.println(\"\\nCircle 2:\");\n",
    "        System.out.println(\"Radius: \" + circle2.radius);\n",
    "        System.out.println(\"Circumference: \" + circle2.circumference());\n",
    "        System.out.println(\"Area: \" + circle2.area());\n",
    "\n",
    "        // Testing the Student class\n",
    "        Student student1 = new Student(\"Aadit\", 75);\n",
    "        Student student2 = new Student(\"Emily\", 45);\n",
    "\n",
    "        System.out.println(\"\\nStudent 1:\");\n",
    "        System.out.println(\"Name: \" + student1.name);\n",
    "        System.out.println(\"Name Length: \" + student1.nameLength());\n",
    "        System.out.println(\"Grade: \" + student1.getGradeAsDouble());\n",
    "        System.out.println(\"Scaled Grade: \" + student1.getScaledGrade());\n",
    "\n",
    "        System.out.println(\"\\nStudent 2:\");\n",
    "        System.out.println(\"Name: \" + student2.name);\n",
    "        System.out.println(\"Name Length: \" + student2.nameLength());\n",
    "        System.out.println(\"Grade: \" + student2.getGradeAsDouble());\n",
    "        System.out.println(\"Scaled Grade: \" + student2.getScaledGrade());\n",
    "    }\n",
    "}\n",
    "\n",
    "Main.main(null);"
   ]
  }
 ],
 "metadata": {
  "kernelspec": {
   "display_name": "Java",
   "language": "java",
   "name": "java"
  },
  "language_info": {
   "codemirror_mode": "java",
   "file_extension": ".jshell",
   "mimetype": "text/x-java-source",
   "name": "java",
   "pygments_lexer": "java",
   "version": "17.0.11-internal+0-adhoc..src"
  }
 },
 "nbformat": 4,
 "nbformat_minor": 2
}
